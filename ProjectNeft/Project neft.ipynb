{
 "cells": [
  {
   "cell_type": "markdown",
   "metadata": {},
   "source": [
    "# Проект: Выбор локации для скважины"
   ]
  },
  {
   "cell_type": "markdown",
   "metadata": {},
   "source": [
    "Допустим, вы работаете в добывающей компании «ГлавРосГосНефть». Нужно решить, где бурить новую скважину.\n",
    "\n",
    "Вам предоставлены пробы нефти в трёх регионах: в каждом 10 000 месторождений, где измерили качество нефти и объём её запасов. Постройте модель машинного обучения, которая поможет определить регион, где добыча принесёт наибольшую прибыль. Проанализируйте возможную прибыль и риски техникой *Bootstrap.*\n",
    "\n",
    "Шаги для выбора локации:\n",
    "\n",
    "- В избранном регионе ищут месторождения, для каждого определяют значения признаков;\n",
    "- Строят модель и оценивают объём запасов;\n",
    "- Выбирают месторождения с самым высокими оценками значений. Количество месторождений зависит от бюджета компании и стоимости разработки одной скважины;\n",
    "- Прибыль равна суммарной прибыли отобранных месторождений."
   ]
  },
  {
   "cell_type": "markdown",
   "metadata": {},
   "source": [
    "# Описание данных\n",
    "- `id` — уникальный идентификатор скважины;\n",
    "- `f0`, `f1`, `f2` — три признака точек (неважно, что они означают, но сами признаки значимы);\n",
    "- `product` — объём запасов в скважине (тыс. баррелей)."
   ]
  },
  {
   "cell_type": "markdown",
   "metadata": {},
   "source": [
    "# Условия задачи:\n",
    "- Для обучения модели подходит только линейная регрессия (остальные — недостаточно предсказуемые).\n",
    "- При разведке региона исследуют 500 точек, из которых с помощью машинного обучения выбирают 200 лучших для разработки.\n",
    "- Бюджет на разработку скважин в регионе — 10 млрд рублей.\n",
    "- При нынешних ценах один баррель сырья приносит 450 рублей дохода. Доход с каждой единицы продукта составляет 450 тыс. рублей, поскольку объём указан в тысячах баррелей.\n",
    "- После оценки рисков нужно оставить лишь те регионы, в которых вероятность убытков меньше 2.5%. Среди них выбирают регион с наибольшей средней прибылью.\n",
    "\n",
    "Данные синтетические: детали контрактов и характеристики месторождений не разглашаются."
   ]
  },
  {
   "cell_type": "markdown",
   "metadata": {},
   "source": [
    "## Загрузка и подготовка данных"
   ]
  },
  {
   "cell_type": "markdown",
   "metadata": {},
   "source": [
    "### Импорт библтотек"
   ]
  },
  {
   "cell_type": "code",
   "execution_count": 1,
   "metadata": {},
   "outputs": [
    {
     "name": "stdout",
     "output_type": "stream",
     "text": [
      "Requirement already satisfied: scikit-learn in /opt/conda/lib/python3.9/site-packages (1.3.2)\n",
      "Requirement already satisfied: joblib>=1.1.1 in /opt/conda/lib/python3.9/site-packages (from scikit-learn) (1.3.2)\n",
      "Requirement already satisfied: threadpoolctl>=2.0.0 in /opt/conda/lib/python3.9/site-packages (from scikit-learn) (3.1.0)\n",
      "Requirement already satisfied: numpy<2.0,>=1.17.3 in /opt/conda/lib/python3.9/site-packages (from scikit-learn) (1.21.1)\n",
      "Requirement already satisfied: scipy>=1.5.0 in /opt/conda/lib/python3.9/site-packages (from scikit-learn) (1.9.1)\n",
      "Requirement already satisfied: phik in /opt/conda/lib/python3.9/site-packages (0.12.3)\n",
      "Requirement already satisfied: joblib>=0.14.1 in /opt/conda/lib/python3.9/site-packages (from phik) (1.3.2)\n",
      "Requirement already satisfied: numpy>=1.18.0 in /opt/conda/lib/python3.9/site-packages (from phik) (1.21.1)\n",
      "Requirement already satisfied: matplotlib>=2.2.3 in /opt/conda/lib/python3.9/site-packages (from phik) (3.3.4)\n",
      "Requirement already satisfied: scipy>=1.5.2 in /opt/conda/lib/python3.9/site-packages (from phik) (1.9.1)\n",
      "Requirement already satisfied: pandas>=0.25.1 in /opt/conda/lib/python3.9/site-packages (from phik) (1.2.4)\n",
      "Requirement already satisfied: kiwisolver>=1.0.1 in /opt/conda/lib/python3.9/site-packages (from matplotlib>=2.2.3->phik) (1.4.4)\n",
      "Requirement already satisfied: python-dateutil>=2.1 in /opt/conda/lib/python3.9/site-packages (from matplotlib>=2.2.3->phik) (2.8.1)\n",
      "Requirement already satisfied: cycler>=0.10 in /opt/conda/lib/python3.9/site-packages (from matplotlib>=2.2.3->phik) (0.11.0)\n",
      "Requirement already satisfied: pyparsing!=2.0.4,!=2.1.2,!=2.1.6,>=2.0.3 in /opt/conda/lib/python3.9/site-packages (from matplotlib>=2.2.3->phik) (2.4.7)\n",
      "Requirement already satisfied: pillow>=6.2.0 in /opt/conda/lib/python3.9/site-packages (from matplotlib>=2.2.3->phik) (8.4.0)\n",
      "Requirement already satisfied: pytz>=2017.3 in /opt/conda/lib/python3.9/site-packages (from pandas>=0.25.1->phik) (2021.1)\n",
      "Requirement already satisfied: six>=1.5 in /opt/conda/lib/python3.9/site-packages (from python-dateutil>=2.1->matplotlib>=2.2.3->phik) (1.16.0)\n"
     ]
    }
   ],
   "source": [
    "!pip install -U scikit-learn\n",
    "!pip install phik\n",
    "import pandas as pd\n",
    "import matplotlib.pyplot as plt\n",
    "import seaborn as sns\n",
    "import phik\n",
    "from phik import resources, report\n",
    "from sklearn.model_selection import train_test_split\n",
    "import numpy as np\n",
    "from sklearn.pipeline import Pipeline, make_pipeline\n",
    "from sklearn.preprocessing import StandardScaler, MinMaxScaler\n",
    "from sklearn.compose import ColumnTransformer\n",
    "from sklearn.linear_model import LinearRegression\n",
    "from sklearn.metrics import mean_squared_error, r2_score\n",
    "from sklearn.model_selection import RandomizedSearchCV"
   ]
  },
  {
   "cell_type": "markdown",
   "metadata": {},
   "source": [
    "### Загрузка данных"
   ]
  },
  {
   "cell_type": "code",
   "execution_count": 2,
   "metadata": {},
   "outputs": [],
   "source": [
    "geo_data_0 = pd.read_csv('/datasets/geo_data_0.csv')\n",
    "geo_data_1 = pd.read_csv('/datasets/geo_data_1.csv')\n",
    "geo_data_2 = pd.read_csv('/datasets/geo_data_2.csv')"
   ]
  },
  {
   "cell_type": "code",
   "execution_count": 3,
   "metadata": {
    "scrolled": true
   },
   "outputs": [
    {
     "name": "stdout",
     "output_type": "stream",
     "text": [
      "<class 'pandas.core.frame.DataFrame'>\n",
      "RangeIndex: 100000 entries, 0 to 99999\n",
      "Data columns (total 5 columns):\n",
      " #   Column   Non-Null Count   Dtype  \n",
      "---  ------   --------------   -----  \n",
      " 0   id       100000 non-null  object \n",
      " 1   f0       100000 non-null  float64\n",
      " 2   f1       100000 non-null  float64\n",
      " 3   f2       100000 non-null  float64\n",
      " 4   product  100000 non-null  float64\n",
      "dtypes: float64(4), object(1)\n",
      "memory usage: 3.8+ MB\n"
     ]
    },
    {
     "data": {
      "text/html": [
       "<div>\n",
       "<style scoped>\n",
       "    .dataframe tbody tr th:only-of-type {\n",
       "        vertical-align: middle;\n",
       "    }\n",
       "\n",
       "    .dataframe tbody tr th {\n",
       "        vertical-align: top;\n",
       "    }\n",
       "\n",
       "    .dataframe thead th {\n",
       "        text-align: right;\n",
       "    }\n",
       "</style>\n",
       "<table border=\"1\" class=\"dataframe\">\n",
       "  <thead>\n",
       "    <tr style=\"text-align: right;\">\n",
       "      <th></th>\n",
       "      <th>id</th>\n",
       "      <th>f0</th>\n",
       "      <th>f1</th>\n",
       "      <th>f2</th>\n",
       "      <th>product</th>\n",
       "    </tr>\n",
       "  </thead>\n",
       "  <tbody>\n",
       "    <tr>\n",
       "      <th>0</th>\n",
       "      <td>txEyH</td>\n",
       "      <td>0.705745</td>\n",
       "      <td>-0.497823</td>\n",
       "      <td>1.221170</td>\n",
       "      <td>105.280062</td>\n",
       "    </tr>\n",
       "    <tr>\n",
       "      <th>1</th>\n",
       "      <td>2acmU</td>\n",
       "      <td>1.334711</td>\n",
       "      <td>-0.340164</td>\n",
       "      <td>4.365080</td>\n",
       "      <td>73.037750</td>\n",
       "    </tr>\n",
       "    <tr>\n",
       "      <th>2</th>\n",
       "      <td>409Wp</td>\n",
       "      <td>1.022732</td>\n",
       "      <td>0.151990</td>\n",
       "      <td>1.419926</td>\n",
       "      <td>85.265647</td>\n",
       "    </tr>\n",
       "    <tr>\n",
       "      <th>3</th>\n",
       "      <td>iJLyR</td>\n",
       "      <td>-0.032172</td>\n",
       "      <td>0.139033</td>\n",
       "      <td>2.978566</td>\n",
       "      <td>168.620776</td>\n",
       "    </tr>\n",
       "    <tr>\n",
       "      <th>4</th>\n",
       "      <td>Xdl7t</td>\n",
       "      <td>1.988431</td>\n",
       "      <td>0.155413</td>\n",
       "      <td>4.751769</td>\n",
       "      <td>154.036647</td>\n",
       "    </tr>\n",
       "  </tbody>\n",
       "</table>\n",
       "</div>"
      ],
      "text/plain": [
       "      id        f0        f1        f2     product\n",
       "0  txEyH  0.705745 -0.497823  1.221170  105.280062\n",
       "1  2acmU  1.334711 -0.340164  4.365080   73.037750\n",
       "2  409Wp  1.022732  0.151990  1.419926   85.265647\n",
       "3  iJLyR -0.032172  0.139033  2.978566  168.620776\n",
       "4  Xdl7t  1.988431  0.155413  4.751769  154.036647"
      ]
     },
     "execution_count": 3,
     "metadata": {},
     "output_type": "execute_result"
    }
   ],
   "source": [
    "geo_data_0.info()\n",
    "geo_data_0.head()"
   ]
  },
  {
   "cell_type": "code",
   "execution_count": 4,
   "metadata": {
    "scrolled": true
   },
   "outputs": [
    {
     "name": "stdout",
     "output_type": "stream",
     "text": [
      "<class 'pandas.core.frame.DataFrame'>\n",
      "RangeIndex: 100000 entries, 0 to 99999\n",
      "Data columns (total 5 columns):\n",
      " #   Column   Non-Null Count   Dtype  \n",
      "---  ------   --------------   -----  \n",
      " 0   id       100000 non-null  object \n",
      " 1   f0       100000 non-null  float64\n",
      " 2   f1       100000 non-null  float64\n",
      " 3   f2       100000 non-null  float64\n",
      " 4   product  100000 non-null  float64\n",
      "dtypes: float64(4), object(1)\n",
      "memory usage: 3.8+ MB\n"
     ]
    },
    {
     "data": {
      "text/html": [
       "<div>\n",
       "<style scoped>\n",
       "    .dataframe tbody tr th:only-of-type {\n",
       "        vertical-align: middle;\n",
       "    }\n",
       "\n",
       "    .dataframe tbody tr th {\n",
       "        vertical-align: top;\n",
       "    }\n",
       "\n",
       "    .dataframe thead th {\n",
       "        text-align: right;\n",
       "    }\n",
       "</style>\n",
       "<table border=\"1\" class=\"dataframe\">\n",
       "  <thead>\n",
       "    <tr style=\"text-align: right;\">\n",
       "      <th></th>\n",
       "      <th>id</th>\n",
       "      <th>f0</th>\n",
       "      <th>f1</th>\n",
       "      <th>f2</th>\n",
       "      <th>product</th>\n",
       "    </tr>\n",
       "  </thead>\n",
       "  <tbody>\n",
       "    <tr>\n",
       "      <th>0</th>\n",
       "      <td>kBEdx</td>\n",
       "      <td>-15.001348</td>\n",
       "      <td>-8.276000</td>\n",
       "      <td>-0.005876</td>\n",
       "      <td>3.179103</td>\n",
       "    </tr>\n",
       "    <tr>\n",
       "      <th>1</th>\n",
       "      <td>62mP7</td>\n",
       "      <td>14.272088</td>\n",
       "      <td>-3.475083</td>\n",
       "      <td>0.999183</td>\n",
       "      <td>26.953261</td>\n",
       "    </tr>\n",
       "    <tr>\n",
       "      <th>2</th>\n",
       "      <td>vyE1P</td>\n",
       "      <td>6.263187</td>\n",
       "      <td>-5.948386</td>\n",
       "      <td>5.001160</td>\n",
       "      <td>134.766305</td>\n",
       "    </tr>\n",
       "    <tr>\n",
       "      <th>3</th>\n",
       "      <td>KcrkZ</td>\n",
       "      <td>-13.081196</td>\n",
       "      <td>-11.506057</td>\n",
       "      <td>4.999415</td>\n",
       "      <td>137.945408</td>\n",
       "    </tr>\n",
       "    <tr>\n",
       "      <th>4</th>\n",
       "      <td>AHL4O</td>\n",
       "      <td>12.702195</td>\n",
       "      <td>-8.147433</td>\n",
       "      <td>5.004363</td>\n",
       "      <td>134.766305</td>\n",
       "    </tr>\n",
       "  </tbody>\n",
       "</table>\n",
       "</div>"
      ],
      "text/plain": [
       "      id         f0         f1        f2     product\n",
       "0  kBEdx -15.001348  -8.276000 -0.005876    3.179103\n",
       "1  62mP7  14.272088  -3.475083  0.999183   26.953261\n",
       "2  vyE1P   6.263187  -5.948386  5.001160  134.766305\n",
       "3  KcrkZ -13.081196 -11.506057  4.999415  137.945408\n",
       "4  AHL4O  12.702195  -8.147433  5.004363  134.766305"
      ]
     },
     "execution_count": 4,
     "metadata": {},
     "output_type": "execute_result"
    }
   ],
   "source": [
    "geo_data_1.info()\n",
    "geo_data_1.head()"
   ]
  },
  {
   "cell_type": "code",
   "execution_count": 5,
   "metadata": {
    "scrolled": true
   },
   "outputs": [
    {
     "name": "stdout",
     "output_type": "stream",
     "text": [
      "<class 'pandas.core.frame.DataFrame'>\n",
      "RangeIndex: 100000 entries, 0 to 99999\n",
      "Data columns (total 5 columns):\n",
      " #   Column   Non-Null Count   Dtype  \n",
      "---  ------   --------------   -----  \n",
      " 0   id       100000 non-null  object \n",
      " 1   f0       100000 non-null  float64\n",
      " 2   f1       100000 non-null  float64\n",
      " 3   f2       100000 non-null  float64\n",
      " 4   product  100000 non-null  float64\n",
      "dtypes: float64(4), object(1)\n",
      "memory usage: 3.8+ MB\n"
     ]
    },
    {
     "data": {
      "text/html": [
       "<div>\n",
       "<style scoped>\n",
       "    .dataframe tbody tr th:only-of-type {\n",
       "        vertical-align: middle;\n",
       "    }\n",
       "\n",
       "    .dataframe tbody tr th {\n",
       "        vertical-align: top;\n",
       "    }\n",
       "\n",
       "    .dataframe thead th {\n",
       "        text-align: right;\n",
       "    }\n",
       "</style>\n",
       "<table border=\"1\" class=\"dataframe\">\n",
       "  <thead>\n",
       "    <tr style=\"text-align: right;\">\n",
       "      <th></th>\n",
       "      <th>id</th>\n",
       "      <th>f0</th>\n",
       "      <th>f1</th>\n",
       "      <th>f2</th>\n",
       "      <th>product</th>\n",
       "    </tr>\n",
       "  </thead>\n",
       "  <tbody>\n",
       "    <tr>\n",
       "      <th>0</th>\n",
       "      <td>fwXo0</td>\n",
       "      <td>-1.146987</td>\n",
       "      <td>0.963328</td>\n",
       "      <td>-0.828965</td>\n",
       "      <td>27.758673</td>\n",
       "    </tr>\n",
       "    <tr>\n",
       "      <th>1</th>\n",
       "      <td>WJtFt</td>\n",
       "      <td>0.262778</td>\n",
       "      <td>0.269839</td>\n",
       "      <td>-2.530187</td>\n",
       "      <td>56.069697</td>\n",
       "    </tr>\n",
       "    <tr>\n",
       "      <th>2</th>\n",
       "      <td>ovLUW</td>\n",
       "      <td>0.194587</td>\n",
       "      <td>0.289035</td>\n",
       "      <td>-5.586433</td>\n",
       "      <td>62.871910</td>\n",
       "    </tr>\n",
       "    <tr>\n",
       "      <th>3</th>\n",
       "      <td>q6cA6</td>\n",
       "      <td>2.236060</td>\n",
       "      <td>-0.553760</td>\n",
       "      <td>0.930038</td>\n",
       "      <td>114.572842</td>\n",
       "    </tr>\n",
       "    <tr>\n",
       "      <th>4</th>\n",
       "      <td>WPMUX</td>\n",
       "      <td>-0.515993</td>\n",
       "      <td>1.716266</td>\n",
       "      <td>5.899011</td>\n",
       "      <td>149.600746</td>\n",
       "    </tr>\n",
       "  </tbody>\n",
       "</table>\n",
       "</div>"
      ],
      "text/plain": [
       "      id        f0        f1        f2     product\n",
       "0  fwXo0 -1.146987  0.963328 -0.828965   27.758673\n",
       "1  WJtFt  0.262778  0.269839 -2.530187   56.069697\n",
       "2  ovLUW  0.194587  0.289035 -5.586433   62.871910\n",
       "3  q6cA6  2.236060 -0.553760  0.930038  114.572842\n",
       "4  WPMUX -0.515993  1.716266  5.899011  149.600746"
      ]
     },
     "execution_count": 5,
     "metadata": {},
     "output_type": "execute_result"
    }
   ],
   "source": [
    "geo_data_2.info()\n",
    "geo_data_2.head()"
   ]
  },
  {
   "cell_type": "markdown",
   "metadata": {},
   "source": [
    "### Проверка на пропущенные значения"
   ]
  },
  {
   "cell_type": "markdown",
   "metadata": {},
   "source": [
    "Судя по результатам `info()`, пропущенных значений в данных нет."
   ]
  },
  {
   "cell_type": "markdown",
   "metadata": {},
   "source": [
    "### Проверка на дубликаты"
   ]
  },
  {
   "cell_type": "code",
   "execution_count": 6,
   "metadata": {},
   "outputs": [
    {
     "data": {
      "text/plain": [
       "0"
      ]
     },
     "execution_count": 6,
     "metadata": {},
     "output_type": "execute_result"
    }
   ],
   "source": [
    "geo_data_0.duplicated().sum()"
   ]
  },
  {
   "cell_type": "code",
   "execution_count": 7,
   "metadata": {},
   "outputs": [
    {
     "data": {
      "text/plain": [
       "0"
      ]
     },
     "execution_count": 7,
     "metadata": {},
     "output_type": "execute_result"
    }
   ],
   "source": [
    "geo_data_1.duplicated().sum()"
   ]
  },
  {
   "cell_type": "code",
   "execution_count": 8,
   "metadata": {
    "scrolled": true
   },
   "outputs": [
    {
     "data": {
      "text/plain": [
       "0"
      ]
     },
     "execution_count": 8,
     "metadata": {},
     "output_type": "execute_result"
    }
   ],
   "source": [
    "geo_data_2.duplicated().sum()"
   ]
  },
  {
   "cell_type": "markdown",
   "metadata": {},
   "source": [
    "Вывод:\n",
    "\n",
    "1. **Загрузка и подготовка данных:**\n",
    "   - Загружены три набора данных (`geo_data_0`, `geo_data_1`, `geo_data_2`) с информацией о скважинах.\n",
    "   - Каждый набор данных содержит 100 000 записей и 5 столбцов: `id`, `f0`, `f1`, `f2`, `product`.\n",
    "   - Типы данных: `float64` для числовых признаков и `object` для `id`.\n",
    "   - Пропущенных значений в данных нет.\n",
    "   - Проверка на дубликаты показала, что в каждом наборе данных нет полностью идентичных строк (0 дубликатов).\n",
    "\n",
    "2. **Вывод:**\n",
    "   - Данные загружены и подготовлены для дальнейшего анализа.\n",
    "   - Пропущенных значений и дубликатов не обнаружено.\n",
    "   - Предстоит провести анализ данных и построить модель для предсказания объема запасов нефти в скважинах (`product`)."
   ]
  },
  {
   "cell_type": "markdown",
   "metadata": {},
   "source": [
    "### Исследовательский анализ данных"
   ]
  },
  {
   "cell_type": "code",
   "execution_count": 9,
   "metadata": {
    "scrolled": true
   },
   "outputs": [
    {
     "data": {
      "text/html": [
       "<div>\n",
       "<style scoped>\n",
       "    .dataframe tbody tr th:only-of-type {\n",
       "        vertical-align: middle;\n",
       "    }\n",
       "\n",
       "    .dataframe tbody tr th {\n",
       "        vertical-align: top;\n",
       "    }\n",
       "\n",
       "    .dataframe thead th {\n",
       "        text-align: right;\n",
       "    }\n",
       "</style>\n",
       "<table border=\"1\" class=\"dataframe\">\n",
       "  <thead>\n",
       "    <tr style=\"text-align: right;\">\n",
       "      <th></th>\n",
       "      <th>f0</th>\n",
       "      <th>f1</th>\n",
       "      <th>f2</th>\n",
       "      <th>product</th>\n",
       "    </tr>\n",
       "  </thead>\n",
       "  <tbody>\n",
       "    <tr>\n",
       "      <th>count</th>\n",
       "      <td>100000.000000</td>\n",
       "      <td>100000.000000</td>\n",
       "      <td>100000.000000</td>\n",
       "      <td>100000.000000</td>\n",
       "    </tr>\n",
       "    <tr>\n",
       "      <th>mean</th>\n",
       "      <td>0.500419</td>\n",
       "      <td>0.250143</td>\n",
       "      <td>2.502647</td>\n",
       "      <td>92.500000</td>\n",
       "    </tr>\n",
       "    <tr>\n",
       "      <th>std</th>\n",
       "      <td>0.871832</td>\n",
       "      <td>0.504433</td>\n",
       "      <td>3.248248</td>\n",
       "      <td>44.288691</td>\n",
       "    </tr>\n",
       "    <tr>\n",
       "      <th>min</th>\n",
       "      <td>-1.408605</td>\n",
       "      <td>-0.848218</td>\n",
       "      <td>-12.088328</td>\n",
       "      <td>0.000000</td>\n",
       "    </tr>\n",
       "    <tr>\n",
       "      <th>25%</th>\n",
       "      <td>-0.072580</td>\n",
       "      <td>-0.200881</td>\n",
       "      <td>0.287748</td>\n",
       "      <td>56.497507</td>\n",
       "    </tr>\n",
       "    <tr>\n",
       "      <th>50%</th>\n",
       "      <td>0.502360</td>\n",
       "      <td>0.250252</td>\n",
       "      <td>2.515969</td>\n",
       "      <td>91.849972</td>\n",
       "    </tr>\n",
       "    <tr>\n",
       "      <th>75%</th>\n",
       "      <td>1.073581</td>\n",
       "      <td>0.700646</td>\n",
       "      <td>4.715088</td>\n",
       "      <td>128.564089</td>\n",
       "    </tr>\n",
       "    <tr>\n",
       "      <th>max</th>\n",
       "      <td>2.362331</td>\n",
       "      <td>1.343769</td>\n",
       "      <td>16.003790</td>\n",
       "      <td>185.364347</td>\n",
       "    </tr>\n",
       "  </tbody>\n",
       "</table>\n",
       "</div>"
      ],
      "text/plain": [
       "                  f0             f1             f2        product\n",
       "count  100000.000000  100000.000000  100000.000000  100000.000000\n",
       "mean        0.500419       0.250143       2.502647      92.500000\n",
       "std         0.871832       0.504433       3.248248      44.288691\n",
       "min        -1.408605      -0.848218     -12.088328       0.000000\n",
       "25%        -0.072580      -0.200881       0.287748      56.497507\n",
       "50%         0.502360       0.250252       2.515969      91.849972\n",
       "75%         1.073581       0.700646       4.715088     128.564089\n",
       "max         2.362331       1.343769      16.003790     185.364347"
      ]
     },
     "execution_count": 9,
     "metadata": {},
     "output_type": "execute_result"
    }
   ],
   "source": [
    "geo_data_0.describe()"
   ]
  },
  {
   "cell_type": "code",
   "execution_count": 10,
   "metadata": {},
   "outputs": [
    {
     "data": {
      "text/html": [
       "<div>\n",
       "<style scoped>\n",
       "    .dataframe tbody tr th:only-of-type {\n",
       "        vertical-align: middle;\n",
       "    }\n",
       "\n",
       "    .dataframe tbody tr th {\n",
       "        vertical-align: top;\n",
       "    }\n",
       "\n",
       "    .dataframe thead th {\n",
       "        text-align: right;\n",
       "    }\n",
       "</style>\n",
       "<table border=\"1\" class=\"dataframe\">\n",
       "  <thead>\n",
       "    <tr style=\"text-align: right;\">\n",
       "      <th></th>\n",
       "      <th>f0</th>\n",
       "      <th>f1</th>\n",
       "      <th>f2</th>\n",
       "      <th>product</th>\n",
       "    </tr>\n",
       "  </thead>\n",
       "  <tbody>\n",
       "    <tr>\n",
       "      <th>count</th>\n",
       "      <td>100000.000000</td>\n",
       "      <td>100000.000000</td>\n",
       "      <td>100000.000000</td>\n",
       "      <td>100000.000000</td>\n",
       "    </tr>\n",
       "    <tr>\n",
       "      <th>mean</th>\n",
       "      <td>1.141296</td>\n",
       "      <td>-4.796579</td>\n",
       "      <td>2.494541</td>\n",
       "      <td>68.825000</td>\n",
       "    </tr>\n",
       "    <tr>\n",
       "      <th>std</th>\n",
       "      <td>8.965932</td>\n",
       "      <td>5.119872</td>\n",
       "      <td>1.703572</td>\n",
       "      <td>45.944423</td>\n",
       "    </tr>\n",
       "    <tr>\n",
       "      <th>min</th>\n",
       "      <td>-31.609576</td>\n",
       "      <td>-26.358598</td>\n",
       "      <td>-0.018144</td>\n",
       "      <td>0.000000</td>\n",
       "    </tr>\n",
       "    <tr>\n",
       "      <th>25%</th>\n",
       "      <td>-6.298551</td>\n",
       "      <td>-8.267985</td>\n",
       "      <td>1.000021</td>\n",
       "      <td>26.953261</td>\n",
       "    </tr>\n",
       "    <tr>\n",
       "      <th>50%</th>\n",
       "      <td>1.153055</td>\n",
       "      <td>-4.813172</td>\n",
       "      <td>2.011479</td>\n",
       "      <td>57.085625</td>\n",
       "    </tr>\n",
       "    <tr>\n",
       "      <th>75%</th>\n",
       "      <td>8.621015</td>\n",
       "      <td>-1.332816</td>\n",
       "      <td>3.999904</td>\n",
       "      <td>107.813044</td>\n",
       "    </tr>\n",
       "    <tr>\n",
       "      <th>max</th>\n",
       "      <td>29.421755</td>\n",
       "      <td>18.734063</td>\n",
       "      <td>5.019721</td>\n",
       "      <td>137.945408</td>\n",
       "    </tr>\n",
       "  </tbody>\n",
       "</table>\n",
       "</div>"
      ],
      "text/plain": [
       "                  f0             f1             f2        product\n",
       "count  100000.000000  100000.000000  100000.000000  100000.000000\n",
       "mean        1.141296      -4.796579       2.494541      68.825000\n",
       "std         8.965932       5.119872       1.703572      45.944423\n",
       "min       -31.609576     -26.358598      -0.018144       0.000000\n",
       "25%        -6.298551      -8.267985       1.000021      26.953261\n",
       "50%         1.153055      -4.813172       2.011479      57.085625\n",
       "75%         8.621015      -1.332816       3.999904     107.813044\n",
       "max        29.421755      18.734063       5.019721     137.945408"
      ]
     },
     "execution_count": 10,
     "metadata": {},
     "output_type": "execute_result"
    }
   ],
   "source": [
    "geo_data_1.describe()"
   ]
  },
  {
   "cell_type": "code",
   "execution_count": 11,
   "metadata": {},
   "outputs": [
    {
     "data": {
      "text/html": [
       "<div>\n",
       "<style scoped>\n",
       "    .dataframe tbody tr th:only-of-type {\n",
       "        vertical-align: middle;\n",
       "    }\n",
       "\n",
       "    .dataframe tbody tr th {\n",
       "        vertical-align: top;\n",
       "    }\n",
       "\n",
       "    .dataframe thead th {\n",
       "        text-align: right;\n",
       "    }\n",
       "</style>\n",
       "<table border=\"1\" class=\"dataframe\">\n",
       "  <thead>\n",
       "    <tr style=\"text-align: right;\">\n",
       "      <th></th>\n",
       "      <th>f0</th>\n",
       "      <th>f1</th>\n",
       "      <th>f2</th>\n",
       "      <th>product</th>\n",
       "    </tr>\n",
       "  </thead>\n",
       "  <tbody>\n",
       "    <tr>\n",
       "      <th>count</th>\n",
       "      <td>100000.000000</td>\n",
       "      <td>100000.000000</td>\n",
       "      <td>100000.000000</td>\n",
       "      <td>100000.000000</td>\n",
       "    </tr>\n",
       "    <tr>\n",
       "      <th>mean</th>\n",
       "      <td>0.002023</td>\n",
       "      <td>-0.002081</td>\n",
       "      <td>2.495128</td>\n",
       "      <td>95.000000</td>\n",
       "    </tr>\n",
       "    <tr>\n",
       "      <th>std</th>\n",
       "      <td>1.732045</td>\n",
       "      <td>1.730417</td>\n",
       "      <td>3.473445</td>\n",
       "      <td>44.749921</td>\n",
       "    </tr>\n",
       "    <tr>\n",
       "      <th>min</th>\n",
       "      <td>-8.760004</td>\n",
       "      <td>-7.084020</td>\n",
       "      <td>-11.970335</td>\n",
       "      <td>0.000000</td>\n",
       "    </tr>\n",
       "    <tr>\n",
       "      <th>25%</th>\n",
       "      <td>-1.162288</td>\n",
       "      <td>-1.174820</td>\n",
       "      <td>0.130359</td>\n",
       "      <td>59.450441</td>\n",
       "    </tr>\n",
       "    <tr>\n",
       "      <th>50%</th>\n",
       "      <td>0.009424</td>\n",
       "      <td>-0.009482</td>\n",
       "      <td>2.484236</td>\n",
       "      <td>94.925613</td>\n",
       "    </tr>\n",
       "    <tr>\n",
       "      <th>75%</th>\n",
       "      <td>1.158535</td>\n",
       "      <td>1.163678</td>\n",
       "      <td>4.858794</td>\n",
       "      <td>130.595027</td>\n",
       "    </tr>\n",
       "    <tr>\n",
       "      <th>max</th>\n",
       "      <td>7.238262</td>\n",
       "      <td>7.844801</td>\n",
       "      <td>16.739402</td>\n",
       "      <td>190.029838</td>\n",
       "    </tr>\n",
       "  </tbody>\n",
       "</table>\n",
       "</div>"
      ],
      "text/plain": [
       "                  f0             f1             f2        product\n",
       "count  100000.000000  100000.000000  100000.000000  100000.000000\n",
       "mean        0.002023      -0.002081       2.495128      95.000000\n",
       "std         1.732045       1.730417       3.473445      44.749921\n",
       "min        -8.760004      -7.084020     -11.970335       0.000000\n",
       "25%        -1.162288      -1.174820       0.130359      59.450441\n",
       "50%         0.009424      -0.009482       2.484236      94.925613\n",
       "75%         1.158535       1.163678       4.858794     130.595027\n",
       "max         7.238262       7.844801      16.739402     190.029838"
      ]
     },
     "execution_count": 11,
     "metadata": {},
     "output_type": "execute_result"
    }
   ],
   "source": [
    "geo_data_2.describe()"
   ]
  },
  {
   "cell_type": "code",
   "execution_count": 12,
   "metadata": {},
   "outputs": [
    {
     "data": {
      "image/png": "[encoded data removed]",
      "text/plain": [
       "<Figure size 1080x360 with 12 Axes>"
      ]
     },
     "metadata": {
      "needs_background": "light"
     },
     "output_type": "display_data"
    }
   ],
   "source": [
    "# Построение гистограмм числовых признаков\n",
    "datas = [geo_data_0, geo_data_1, geo_data_2]\n",
    "\n",
    "def plot_histograms(datas, numeric_columns=None):\n",
    "    # Установка размера графика\n",
    "    plt.rcParams[\"figure.figsize\"] = (15, 5)\n",
    "\n",
    "    # Если не указаны числовые столбцы, используем все числовые столбцы, кроме \"id\"\n",
    "    if numeric_columns is None:\n",
    "        numeric_columns = [col for col in datas[0].columns if col != 'id']\n",
    "\n",
    "    # Создаем сетку из графиков\n",
    "    fig, axes = plt.subplots(len(datas), len(numeric_columns), sharey='row')\n",
    "\n",
    "    for i, data in enumerate(datas):\n",
    "        for j, col in enumerate(numeric_columns):\n",
    "            sns.histplot(data[col], bins=30, kde=True, color='skyblue', ax=axes[i, j])\n",
    "            axes[i, j].set_title(f'Histograms of {col} in Region {i+1}')\n",
    "            axes[i, j].set_xlabel(col)\n",
    "            axes[i, j].set_ylabel('Frequency')\n",
    "\n",
    "    # Регулировка макета подписей\n",
    "    plt.tight_layout()\n",
    "\n",
    "    # Показываем графики\n",
    "    plt.show()\n",
    "\n",
    "# Пример использования функции\n",
    "plot_histograms(datas)"
   ]
  },
  {
   "cell_type": "code",
   "execution_count": 13,
   "metadata": {
    "scrolled": false
   },
   "outputs": [
    {
     "data": {
      "image/png": "[encoded data removed]",
      "text/plain": [
       "<Figure size 864x720 with 2 Axes>"
      ]
     },
     "metadata": {
      "needs_background": "light"
     },
     "output_type": "display_data"
    },
    {
     "data": {
      "image/png": "[encoded data removed]",
      "text/plain": [
       "<Figure size 864x720 with 2 Axes>"
      ]
     },
     "metadata": {
      "needs_background": "light"
     },
     "output_type": "display_data"
    },
    {
     "data": {
      "image/png": "[encoded data removed]",
      "text/plain": [
       "<Figure size 864x720 with 2 Axes>"
      ]
     },
     "metadata": {
      "needs_background": "light"
     },
     "output_type": "display_data"
    }
   ],
   "source": [
    "INTERVAL_COLS = ['f0', 'f1', 'f2', 'product']\n",
    "\n",
    "for idx, data in enumerate(datas):\n",
    "    # Выбираем только числовые столбцы для корреляционной матрицы\n",
    "    numeric_data = data[INTERVAL_COLS]\n",
    "\n",
    "    # Рассчет матрицы корреляции\n",
    "    correlation_matrix = numeric_data.corr()\n",
    "\n",
    "    # Визуализация корреляционной матрицы с использованием heatmap\n",
    "    plt.figure(figsize=(12, 10))\n",
    "    sns.heatmap(correlation_matrix, annot=True, cmap='coolwarm', fmt=\".2f\", linewidths=.5)\n",
    "    \n",
    "    # Добавляем подпись к графику\n",
    "    plt.title(f'Матрица корреляции признаков - Region {idx + 1}')\n",
    "    plt.show()"
   ]
  },
  {
   "cell_type": "markdown",
   "metadata": {},
   "source": [
    "1. **Анализ данных:**\n",
    "   - Произведен анализ статистических характеристик для каждого региона (geo_data_0, geo_data_1, geo_data_2).\n",
    "   - Для признаков `f0`, `f1`, `f2`, и `product` были рассмотрены средние значения, стандартные отклонения, минимальные и максимальные значения, а также квартили.\n",
    "   - Построены гистограммы для числовых признаков в каждом регионе, что позволяет визуально оценить распределение данных.\n",
    "\n",
    "2. **Корреляционный анализ:**\n",
    "   - Построены матрицы корреляции для числовых признаков в каждом регионе.\n",
    "   - Визуализированы корреляционные матрицы с использованием тепловых карт (heatmap).\n",
    "   - Выведены таблицы корреляции для каждого региона.\n",
    "\n",
    "**Выводы:**\n",
    "- В регионе 1:\n",
    "  - Низкая отрицательная корреляция между `f0` и `f1`.\n",
    "  - Умеренная положительная корреляция между `f2` и `product`.\n",
    "\n",
    "- В регионе 2:\n",
    "  - Очень высокая положительная корреляция между `f2` и `product`.\n",
    "\n",
    "- В регионе 3:\n",
    "  - Низкая положительная корреляция между `f2` и `product`.\n",
    "\n",
    "3. **Решение о выборе региона:**\n",
    "   - Корреляционный анализ не дает однозначного ответа о перспективности регионов.\n",
    "   - Перейдем к оценке прибыльности скважин в каждом регионе, а затем рассмотрим результаты и проведем сравнительный анализ для выбора оптимального региона."
   ]
  },
  {
   "cell_type": "markdown",
   "metadata": {},
   "source": [
    "## Обучение и проверка модели"
   ]
  },
  {
   "cell_type": "code",
   "execution_count": 14,
   "metadata": {
    "scrolled": true
   },
   "outputs": [
    {
     "name": "stdout",
     "output_type": "stream",
     "text": [
      "Размер данных, для предсказанных значений Region1 (валидационная выборка):\n",
      "(25000,)\n",
      "Размер данных, для предсказанных значений Region2 (валидационная выборка):\n",
      "(25000,)\n",
      "Размер данных, для предсказанных значений Region3 (валидационная выборка):\n",
      "(25000,)\n",
      "Размер данных, для настоящих значений Region1 (валидационная выборка):\n",
      "(25000,)\n",
      "Размер данных, для настоящих значений Region2 (валидационная выборка):\n",
      "(25000,)\n",
      "Размер данных, для настоящих значений Region3 (валидационная выборка):\n",
      "(25000,)\n"
     ]
    },
    {
     "data": {
      "text/html": [
       "<div>\n",
       "<style scoped>\n",
       "    .dataframe tbody tr th:only-of-type {\n",
       "        vertical-align: middle;\n",
       "    }\n",
       "\n",
       "    .dataframe tbody tr th {\n",
       "        vertical-align: top;\n",
       "    }\n",
       "\n",
       "    .dataframe thead th {\n",
       "        text-align: right;\n",
       "    }\n",
       "</style>\n",
       "<table border=\"1\" class=\"dataframe\">\n",
       "  <thead>\n",
       "    <tr style=\"text-align: right;\">\n",
       "      <th></th>\n",
       "      <th>Регион</th>\n",
       "      <th>RMSE Train</th>\n",
       "      <th>RMSE Val</th>\n",
       "      <th>R2 Train</th>\n",
       "      <th>R2 Val</th>\n",
       "      <th>Средний запас Train</th>\n",
       "      <th>Средний запас Val</th>\n",
       "    </tr>\n",
       "  </thead>\n",
       "  <tbody>\n",
       "    <tr>\n",
       "      <th>0</th>\n",
       "      <td>Region1</td>\n",
       "      <td>37.670499</td>\n",
       "      <td>37.756600</td>\n",
       "      <td>0.276653</td>\n",
       "      <td>0.272829</td>\n",
       "      <td>92.558015</td>\n",
       "      <td>92.398800</td>\n",
       "    </tr>\n",
       "    <tr>\n",
       "      <th>1</th>\n",
       "      <td>Region2</td>\n",
       "      <td>0.890529</td>\n",
       "      <td>0.889947</td>\n",
       "      <td>0.999624</td>\n",
       "      <td>0.999625</td>\n",
       "      <td>68.900104</td>\n",
       "      <td>68.587803</td>\n",
       "    </tr>\n",
       "    <tr>\n",
       "      <th>2</th>\n",
       "      <td>Region3</td>\n",
       "      <td>39.994509</td>\n",
       "      <td>40.237350</td>\n",
       "      <td>0.200514</td>\n",
       "      <td>0.193675</td>\n",
       "      <td>94.988260</td>\n",
       "      <td>95.092303</td>\n",
       "    </tr>\n",
       "  </tbody>\n",
       "</table>\n",
       "</div>"
      ],
      "text/plain": [
       "    Регион  RMSE Train   RMSE Val  R2 Train    R2 Val  Средний запас Train  \\\n",
       "0  Region1   37.670499  37.756600  0.276653  0.272829            92.558015   \n",
       "1  Region2    0.890529   0.889947  0.999624  0.999625            68.900104   \n",
       "2  Region3   39.994509  40.237350  0.200514  0.193675            94.988260   \n",
       "\n",
       "   Средний запас Val  \n",
       "0          92.398800  \n",
       "1          68.587803  \n",
       "2          95.092303  "
      ]
     },
     "execution_count": 14,
     "metadata": {},
     "output_type": "execute_result"
    }
   ],
   "source": [
    "np.random.seed(42)\n",
    "\n",
    "def multi_model(*dataframes):\n",
    "    results = []  # Список для хранения результатов по каждому региону\n",
    "    y_val_pred_dict = {}  # Словарь для хранения предсказанных значений на валидационной выборке по каждому региону\n",
    "    y_val_true_dict = {} # Словарь для хранения настоящих значений валидационной выборки по каждому региону\n",
    "    \n",
    "    for region, df in zip(['Region{}'.format(i+1) for i in range(len(dataframes))], dataframes):\n",
    "        # Разбиваем данные на обучающую и валидационную выборки\n",
    "        X_train, X_val, y_train, y_val = train_test_split(df.drop(['id', 'product'], axis=1), df['product'], test_size=0.25)\n",
    "\n",
    "        # Создаем пайплайн с линейной регрессией и стандартизацией\n",
    "        pipeline = Pipeline([\n",
    "            ('scaler', StandardScaler()),\n",
    "            ('model', LinearRegression())\n",
    "        ])\n",
    "\n",
    "        # Определение сеток параметров для модели\n",
    "        param_grids = [\n",
    "            {\n",
    "                'model': [LinearRegression()],\n",
    "                'model__fit_intercept': [True, False],\n",
    "                'scaler': [StandardScaler(), MinMaxScaler(), 'passthrough'],\n",
    "            }\n",
    "        ]\n",
    "\n",
    "        # Использование RandomizedSearchCV для поиска лучших параметров модели\n",
    "        randomized_search = RandomizedSearchCV(\n",
    "            pipeline, \n",
    "            param_grids, \n",
    "            cv=3,\n",
    "            scoring='neg_mean_squared_error',\n",
    "            n_iter=6,\n",
    "            n_jobs=-1,\n",
    "            random_state=42,\n",
    "            error_score='raise'\n",
    "        )\n",
    "\n",
    "        # Обучение модели с подбором параметров\n",
    "        randomized_search.fit(X_train, y_train)\n",
    "\n",
    "        # Прогнозирование на валидационной выборке\n",
    "        y_val_pred = randomized_search.predict(X_val)\n",
    "\n",
    "        # Сохранение предсказаний на валидационной выборке в словаре\n",
    "        y_val_pred_dict[region] = y_val_pred\n",
    "        \n",
    "        # Сохранение настоящих значений валидационной выборки в словаре\n",
    "        y_val_true_dict[region] = y_val\n",
    "\n",
    "        # Вычисление метрик\n",
    "        rmse_train = mean_squared_error(y_train, randomized_search.predict(X_train), squared=False)\n",
    "        rmse_val = mean_squared_error(y_val, y_val_pred, squared=False)\n",
    "        r2_train = r2_score(y_train, randomized_search.predict(X_train))\n",
    "        r2_val = r2_score(y_val, y_val_pred)\n",
    "\n",
    "        # Добавление результатов в список\n",
    "        results.append([region, rmse_train, rmse_val, r2_train, r2_val, y_train.mean(), y_val_pred.mean()])\n",
    "\n",
    "    # Создание датафрейма с результатами\n",
    "    columns = ['Регион', 'RMSE Train', 'RMSE Val', 'R2 Train', 'R2 Val', 'Средний запас Train', 'Средний запас Val']\n",
    "    results_df = pd.DataFrame(results, columns=columns)\n",
    "\n",
    "    return results_df, y_val_pred_dict, y_val_true_dict\n",
    "\n",
    "# Запуск функции\n",
    "result_table, y_val_pred_dict, y_val_true_dict = multi_model(geo_data_0, geo_data_1, geo_data_2)\n",
    "\n",
    "# Сохранение предсказанных значений для каждого региона на валидационной выборке в переменные\n",
    "predicted_values_region1_val = y_val_pred_dict[\"Region1\"]\n",
    "predicted_values_region2_val = y_val_pred_dict[\"Region2\"]\n",
    "predicted_values_region3_val = y_val_pred_dict[\"Region3\"]\n",
    "\n",
    "# Сохранение настоящих значений для каждого региона валидационной выборки в переменные\n",
    "true_values_region1_val = y_val_true_dict[\"Region1\"]\n",
    "true_values_region2_val = y_val_true_dict[\"Region2\"]\n",
    "true_values_region3_val = y_val_true_dict[\"Region3\"]\n",
    "\n",
    "# Контрольный вывод размерностей данных\n",
    "print(f\"Размер данных, для предсказанных значений Region1 (валидационная выборка):\\n{predicted_values_region1_val.shape}\")\n",
    "print(f\"Размер данных, для предсказанных значений Region2 (валидационная выборка):\\n{predicted_values_region2_val.shape}\")\n",
    "print(f\"Размер данных, для предсказанных значений Region3 (валидационная выборка):\\n{predicted_values_region3_val.shape}\")\n",
    "\n",
    "print(f\"Размер данных, для настоящих значений Region1 (валидационная выборка):\\n{true_values_region1_val.shape}\")\n",
    "print(f\"Размер данных, для настоящих значений Region2 (валидационная выборка):\\n{true_values_region2_val.shape}\")\n",
    "print(f\"Размер данных, для настоящих значений Region3 (валидационная выборка):\\n{true_values_region3_val.shape}\")\n",
    "\n",
    "# Печать результатов\n",
    "result_table"
   ]
  },
  {
   "cell_type": "markdown",
   "metadata": {},
   "source": [
    "Давайте проанализируем результаты для каждого региона:\n",
    "\n",
    "1. **Region1:**\n",
    "   - RMSE Train: 37.67, RMSE Val: 37.76\n",
    "   - R2 Train: 0.2767, R2 Val: 0.2728\n",
    "   - Средний запас Train: 92.56, Средний запас Val: 92.40\n",
    "\n",
    "   Анализ: Модель показывает среднюю производительность. RMSE на валидационной выборке немного выше, чем на обучающей, что может указывать на небольшое переобучение.\n",
    "\n",
    "2. **Region2:**\n",
    "   - RMSE Train: 0.8904, RMSE Val: 0.8903\n",
    "   - R2 Train: 0.9996, R2 Val: 0.9996\n",
    "   - Средний запас Train: 68.86, Средний запас Val: 68.71\n",
    "\n",
    "   Анализ: Модель показывает очень высокую производительность с крайне низкими значениями RMSE и высокими значениями R2 как на обучающей, так и на валидационной выборках.\n",
    "\n",
    "3. **Region3:**\n",
    "   - RMSE Train: 40.03, RMSE Val: 40.15\n",
    "   - R2 Train: 0.1996, R2 Val: 0.1963\n",
    "   - Средний запас Train: 94.95, Средний запас Val: 94.77\n",
    "\n",
    "   Анализ: Модель также показывает среднюю производительность, но значения R2 говорят о том, что модель недостаточно хорошо описывает данные. Средний запас по предсказаниям варьируется, но в целом близок к среднему запасу на валидационной выборке.\n",
    "\n",
    "Общий вывод: Модели второго региона показывают наилучшую производительность, с очень низкими значениями ошибок и высоким коэффициентом детерминации (R2). Модели для Region1 и Region3 также работают, но несколько менее эффективны."
   ]
  },
  {
   "cell_type": "markdown",
   "metadata": {},
   "source": [
    "## Подготовка к расчёту прибыли"
   ]
  },
  {
   "cell_type": "code",
   "execution_count": 15,
   "metadata": {
    "scrolled": true
   },
   "outputs": [
    {
     "name": "stdout",
     "output_type": "stream",
     "text": [
      "Достаточный объем сырья для безубыточной разработки одной новой скважины: 111.11 тыс. баррелей\n",
      "\n",
      "Средний запас в регионе 1: 92.40 тыс. баррелей\n",
      "Средний запас в регионе 2: 68.59 тыс. баррелей\n",
      "Средний запас в регионе 3: 95.09 тыс. баррелей\n"
     ]
    }
   ],
   "source": [
    "# Ключевые значения для расчетов\n",
    "num_wells_to_select = 200  # Количество скважин для выбора\n",
    "budget_per_region = 10e9  # Бюджет на разработку скважин в регионе (в рублях)\n",
    "income_per_barrel = 450  # Доход с одного барреля сырья (в рублях)\n",
    "income_per_unit = income_per_barrel * 1e3  # Доход с одной единицы продукта (в рублях)\n",
    "\n",
    "# Расчет достаточного объема сырья для безубыточной разработки одной новой скважины\n",
    "break_even_volume = budget_per_region / income_per_unit / num_wells_to_select\n",
    "print(f\"Достаточный объем сырья для безубыточной разработки одной новой скважины: {break_even_volume:.2f} тыс. баррелей\")\n",
    "\n",
    "# Сравнение достаточного объема сырья со средним запасом в каждом регионе\n",
    "average_volume_region1 = np.mean(predicted_values_region1_val)\n",
    "average_volume_region2 = np.mean(predicted_values_region2_val)\n",
    "average_volume_region3 = np.mean(predicted_values_region3_val)\n",
    "\n",
    "print(f\"\\nСредний запас в регионе 1: {average_volume_region1:.2f} тыс. баррелей\")\n",
    "print(f\"Средний запас в регионе 2: {average_volume_region2:.2f} тыс. баррелей\")\n",
    "print(f\"Средний запас в регионе 3: {average_volume_region3:.2f} тыс. баррелей\")\n"
   ]
  },
  {
   "cell_type": "markdown",
   "metadata": {},
   "source": [
    "1. **Достаточный объем сырья для безубыточной разработки:**\n",
    "   - Рассчитан достаточный объем сырья для безубыточной разработки одной новой скважины. Этот объем составляет 111.11 тыс. баррелей.\n",
    "\n",
    "2. **Сравнение среднего запаса в каждом регионе с необходимым объемом:**\n",
    "   - Средний запас в регионах:\n",
    "     - Регион 1: 92.40 тыс. баррелей\n",
    "     - Регион 2: 68.59 тыс. баррелей\n",
    "     - Регион 3: 95.09 тыс. баррелей\n",
    "   - Видно, что средние запасы сырья в регионах меньше достаточного объема для безубыточной разработки новой скважины.\n",
    "\n",
    "Эти выводы говорят о том, что средние запасы в каждом регионе недостаточны для обеспечения безубыточной разработки новых скважин. Таким образом, необходимо акцентировать внимание на точных расчетах прибыли и рисков, чтобы выбрать наилучший регион для разработки скважин."
   ]
  },
  {
   "cell_type": "markdown",
   "metadata": {},
   "source": [
    "##  Расчёт рисков и прибыли"
   ]
  },
  {
   "cell_type": "markdown",
   "metadata": {},
   "source": [
    "### Подсчет прибыли по выбранным скважинам и предсказаниям модели"
   ]
  },
  {
   "cell_type": "code",
   "execution_count": 16,
   "metadata": {},
   "outputs": [
    {
     "name": "stdout",
     "output_type": "stream",
     "text": [
      "Прибыль для региона 1: 3359141114.46 рублей\n",
      "Прибыль для региона 2: 2415086696.68 рублей\n",
      "Прибыль для региона 3: 2584156887.15 рублей\n"
     ]
    }
   ],
   "source": [
    "def calculate_profit(target_values, predicted_values, num_wells_to_select):\n",
    "    # Сортировка скважин по убыванию предсказанных значений\n",
    "    sorted_indices = np.argsort(predicted_values)[::-1]\n",
    "\n",
    "    # Выбор указанного количества скважин с максимальными предсказанными значениями\n",
    "    selected_wells = sorted_indices[:num_wells_to_select]\n",
    "\n",
    "    # Просуммировать целевые значения объема сырья для выбранных скважин\n",
    "    total_volume = np.sum(target_values.iloc[selected_wells])\n",
    "\n",
    "    # Расчет прибыли для полученного объема сырья\n",
    "    total_profit = total_volume * income_per_unit - budget_per_region\n",
    "\n",
    "    return total_profit\n",
    "\n",
    "profit_region1 = calculate_profit(true_values_region1_val, predicted_values_region1_val, num_wells_to_select)\n",
    "print(f\"Прибыль для региона 1: {profit_region1:.2f} рублей\")\n",
    "\n",
    "profit_region2 = calculate_profit(true_values_region2_val, predicted_values_region2_val, num_wells_to_select)\n",
    "print(f\"Прибыль для региона 2: {profit_region2:.2f} рублей\")\n",
    "\n",
    "profit_region3 = calculate_profit(true_values_region3_val, predicted_values_region3_val, num_wells_to_select)\n",
    "print(f\"Прибыль для региона 3: {profit_region3:.2f} рублей\")\n"
   ]
  },
  {
   "cell_type": "markdown",
   "metadata": {},
   "source": [
    "### Подсчет рисков и прибыли для каждого региона"
   ]
  },
  {
   "cell_type": "code",
   "execution_count": 17,
   "metadata": {
    "scrolled": false
   },
   "outputs": [
    {
     "name": "stdout",
     "output_type": "stream",
     "text": [
      "Регион 1:\n",
      "Средняя прибыль: 399575478.05 рублей\n",
      "95%-й доверительный интервал: (-110467895.33, 897460327.72) рублей\n",
      "Риск убытков: 6.00%\n",
      "\n",
      "Регион 2:\n",
      "Средняя прибыль: 432966479.69 рублей\n",
      "95%-й доверительный интервал: (48275750.62, 799517560.43) рублей\n",
      "Риск убытков: 1.90%\n",
      "\n",
      "Регион 3:\n",
      "Средняя прибыль: 346577300.05 рублей\n",
      "95%-й доверительный интервал: (-181766076.56, 863567933.74) рублей\n",
      "Риск убытков: 10.50%\n"
     ]
    }
   ],
   "source": [
    "np.random.seed(42)\n",
    "\n",
    "# Функция для проведения Bootstrap-анализа с учетом новых требований\n",
    "def bootstrap_analysis(true_values, predicted_values, num_samples, num_wells_to_select, random_state=None):\n",
    "    profits = []\n",
    "\n",
    "    for _ in range(num_samples):\n",
    "        # Рандомный выбор 500 точек из 25000 из предсказанных и истинных значений\n",
    "        random_indices = np.random.choice(len(true_values), size=500, replace=True)\n",
    "        sampled_true_values = true_values.iloc[random_indices]\n",
    "        sampled_predicted_values = predicted_values[random_indices]\n",
    "\n",
    "        # Отбор топ-200 скважин (истинные значения) по предсказанным добычам\n",
    "        sorted_indices = np.argsort(sampled_predicted_values)[::-1]\n",
    "        selected_wells = sorted_indices[:num_wells_to_select]\n",
    "\n",
    "        # Подсчет выручки для отобранных скважин\n",
    "        total_volume = np.sum(sampled_true_values.iloc[selected_wells])\n",
    "        total_profit = total_volume * income_per_unit - budget_per_region\n",
    "        profits.append(total_profit)\n",
    "\n",
    "    return profits\n",
    "\n",
    "num_samples = 1000\n",
    "\n",
    "# Применение Bootstrap-анализа для каждого региона с использованием random_state\n",
    "profits_region1 = bootstrap_analysis(true_values_region1_val, predicted_values_region1_val, num_samples, num_wells_to_select, random_state=42)\n",
    "profits_region2 = bootstrap_analysis(true_values_region2_val, predicted_values_region2_val, num_samples, num_wells_to_select, random_state=42)\n",
    "profits_region3 = bootstrap_analysis(true_values_region3_val, predicted_values_region3_val, num_samples, num_wells_to_select, random_state=42)\n",
    "\n",
    "# Подсчет средней прибыли, доверительного интервала и риска убытков\n",
    "mean_profit_region1 = np.mean(profits_region1)\n",
    "confidence_interval_region1 = np.percentile(profits_region1, [2.5, 97.5])\n",
    "loss_risk_region1 = np.mean(np.array(profits_region1) < 0)\n",
    "\n",
    "mean_profit_region2 = np.mean(profits_region2)\n",
    "confidence_interval_region2 = np.percentile(profits_region2, [2.5, 97.5])\n",
    "loss_risk_region2 = np.mean(np.array(profits_region2) < 0)\n",
    "\n",
    "mean_profit_region3 = np.mean(profits_region3)\n",
    "confidence_interval_region3 = np.percentile(profits_region3, [2.5, 97.5])\n",
    "loss_risk_region3 = np.mean(np.array(profits_region3) < 0)\n",
    "\n",
    "# Вывод результатов\n",
    "print(\"Регион 1:\")\n",
    "print(f\"Средняя прибыль: {mean_profit_region1:.2f} рублей\")\n",
    "print(f\"95%-й доверительный интервал: ({confidence_interval_region1[0]:.2f}, {confidence_interval_region1[1]:.2f}) рублей\")\n",
    "print(f\"Риск убытков: {loss_risk_region1:.2%}\")\n",
    "\n",
    "print(\"\\nРегион 2:\")\n",
    "print(f\"Средняя прибыль: {mean_profit_region2:.2f} рублей\")\n",
    "print(f\"95%-й доверительный интервал: ({confidence_interval_region2[0]:.2f}, {confidence_interval_region2[1]:.2f}) рублей\")\n",
    "print(f\"Риск убытков: {loss_risk_region2:.2%}\")\n",
    "\n",
    "print(\"\\nРегион 3:\")\n",
    "print(f\"Средняя прибыль: {mean_profit_region3:.2f} рублей\")\n",
    "print(f\"95%-й доверительный интервал: ({confidence_interval_region3[0]:.2f}, {confidence_interval_region3[1]:.2f}) рублей\")\n",
    "print(f\"Риск убытков: {loss_risk_region3:.2%}\")\n"
   ]
  },
  {
   "cell_type": "markdown",
   "metadata": {},
   "source": [
    "## Вывод"
   ]
  },
  {
   "cell_type": "markdown",
   "metadata": {},
   "source": [
    "Для принятия решения о выборе региона для разработки скважин, необходимо учитывать несколько аспектов:\n",
    "\n",
    "1. **Средняя прибыль:**\n",
    "   - Регион 1: 399,575,478.05 рублей\n",
    "   - Регион 2: 432,966,479.69 рублей\n",
    "   - Регион 3: 346,577,300.05 рублей\n",
    "\n",
    "2. **95%-й доверительный интервал:**\n",
    "   - Регион 1: (-110,467,895.33, 897,460,327.72) рублей\n",
    "   - Регион 2: (48,275,750.62, 799,517,560.43) рублей\n",
    "   - Регион 3: (-181,766,076.56, 863,567,933.74) рублей\n",
    "\n",
    "3. **Риск убытков:**\n",
    "   - Регион 1: 6.00%\n",
    "   - Регион 2: 1.90%\n",
    "   - Регион 3: 10.50%\n",
    "\n",
    "Исходя из представленных данных, регион 2 демонстрирует наивысшую среднюю прибыль, наименьший риск убытков (1.90%), и его 95%-й доверительный интервал (от 48,275,750.62 до 799,517,560.43 рублей) является самым устойчивым и широким по сравнению с другими регионами.\n",
    "\n",
    "Таким образом, на основе представленных данных, регион 2 кажется более предпочтительным для разработки скважин, поскольку он обеспечивает высокую среднюю прибыль, более узкий доверительный интервал и более низкий риск убытков."
   ]
  }
 ],
 "metadata": {
  "ExecuteTimeLog": [
   {
    "duration": 407,
    "start_time": "2023-12-29T11:22:08.923Z"
   },
   {
    "duration": 673,
    "start_time": "2023-12-29T11:23:53.524Z"
   },
   {
    "duration": 26,
    "start_time": "2023-12-29T11:24:26.302Z"
   },
   {
    "duration": 20,
    "start_time": "2023-12-29T11:25:54.763Z"
   },
   {
    "duration": 19,
    "start_time": "2023-12-29T11:26:41.623Z"
   },
   {
    "duration": 465,
    "start_time": "2023-12-29T11:42:30.882Z"
   },
   {
    "duration": 21,
    "start_time": "2023-12-29T11:42:31.596Z"
   },
   {
    "duration": 20,
    "start_time": "2023-12-29T11:42:33.121Z"
   },
   {
    "duration": 20,
    "start_time": "2023-12-29T11:42:33.802Z"
   },
   {
    "duration": 50,
    "start_time": "2023-12-29T15:19:40.885Z"
   },
   {
    "duration": 454,
    "start_time": "2023-12-29T15:19:47.185Z"
   },
   {
    "duration": 1684,
    "start_time": "2023-12-29T15:19:47.641Z"
   },
   {
    "duration": 33,
    "start_time": "2023-12-29T15:19:49.327Z"
   },
   {
    "duration": 33,
    "start_time": "2023-12-29T15:19:49.362Z"
   },
   {
    "duration": 52,
    "start_time": "2023-12-29T15:19:49.397Z"
   },
   {
    "duration": 52,
    "start_time": "2023-12-29T15:19:49.451Z"
   },
   {
    "duration": 49,
    "start_time": "2023-12-29T15:20:02.384Z"
   },
   {
    "duration": 81,
    "start_time": "2023-12-29T15:20:05.847Z"
   },
   {
    "duration": 54,
    "start_time": "2023-12-29T15:21:23.033Z"
   },
   {
    "duration": 50,
    "start_time": "2023-12-29T15:35:58.559Z"
   },
   {
    "duration": 48,
    "start_time": "2023-12-29T15:53:14.437Z"
   },
   {
    "duration": 54,
    "start_time": "2023-12-29T15:53:25.169Z"
   },
   {
    "duration": 335,
    "start_time": "2024-01-02T10:00:17.124Z"
   },
   {
    "duration": 733,
    "start_time": "2024-01-02T10:00:17.460Z"
   },
   {
    "duration": 26,
    "start_time": "2024-01-02T10:00:18.195Z"
   },
   {
    "duration": 19,
    "start_time": "2024-01-02T10:00:18.222Z"
   },
   {
    "duration": 23,
    "start_time": "2024-01-02T10:00:18.242Z"
   },
   {
    "duration": 41,
    "start_time": "2024-01-02T10:00:18.267Z"
   },
   {
    "duration": 39,
    "start_time": "2024-01-02T10:00:18.310Z"
   },
   {
    "duration": 46,
    "start_time": "2024-01-02T10:00:18.365Z"
   },
   {
    "duration": 33,
    "start_time": "2024-01-02T10:00:18.412Z"
   },
   {
    "duration": 2,
    "start_time": "2024-01-02T10:00:18.447Z"
   },
   {
    "duration": 783,
    "start_time": "2024-01-02T10:04:38.403Z"
   },
   {
    "duration": 108,
    "start_time": "2024-01-02T10:19:34.863Z"
   },
   {
    "duration": 23,
    "start_time": "2024-01-02T10:22:09.282Z"
   },
   {
    "duration": 16,
    "start_time": "2024-01-02T10:22:15.573Z"
   },
   {
    "duration": 25,
    "start_time": "2024-01-02T10:27:06.263Z"
   },
   {
    "duration": 18,
    "start_time": "2024-01-02T10:27:41.883Z"
   },
   {
    "duration": 3,
    "start_time": "2024-01-02T10:27:54.062Z"
   },
   {
    "duration": 20,
    "start_time": "2024-01-02T10:28:05.083Z"
   },
   {
    "duration": 23,
    "start_time": "2024-01-02T10:29:44.563Z"
   },
   {
    "duration": 4,
    "start_time": "2024-01-02T10:59:55.483Z"
   },
   {
    "duration": 11,
    "start_time": "2024-01-02T11:01:23.250Z"
   },
   {
    "duration": 3,
    "start_time": "2024-01-02T11:01:59.498Z"
   },
   {
    "duration": 45,
    "start_time": "2024-01-02T11:02:30.411Z"
   },
   {
    "duration": 6344,
    "start_time": "2024-01-02T11:03:55.020Z"
   },
   {
    "duration": 163,
    "start_time": "2024-01-02T11:04:33.114Z"
   },
   {
    "duration": 2395,
    "start_time": "2024-01-02T11:06:36.084Z"
   },
   {
    "duration": 2243,
    "start_time": "2024-01-02T11:08:49.622Z"
   },
   {
    "duration": 13,
    "start_time": "2024-01-02T11:16:27.382Z"
   },
   {
    "duration": 84,
    "start_time": "2024-01-02T11:33:19.349Z"
   },
   {
    "duration": 79,
    "start_time": "2024-01-02T11:33:52.518Z"
   },
   {
    "duration": 9,
    "start_time": "2024-01-02T11:34:05.607Z"
   },
   {
    "duration": 12,
    "start_time": "2024-01-02T11:41:27.805Z"
   },
   {
    "duration": 205,
    "start_time": "2024-01-02T11:52:45.664Z"
   },
   {
    "duration": 2677,
    "start_time": "2024-01-02T11:52:58.443Z"
   },
   {
    "duration": 662,
    "start_time": "2024-01-02T11:53:10.403Z"
   },
   {
    "duration": 510,
    "start_time": "2024-01-02T11:53:20.463Z"
   },
   {
    "duration": 28,
    "start_time": "2024-01-02T11:54:10.223Z"
   },
   {
    "duration": 621,
    "start_time": "2024-01-02T11:56:47.645Z"
   },
   {
    "duration": 6093,
    "start_time": "2024-01-02T12:05:44.683Z"
   },
   {
    "duration": 5996,
    "start_time": "2024-01-02T12:06:38.083Z"
   },
   {
    "duration": 23,
    "start_time": "2024-01-02T12:08:39.842Z"
   },
   {
    "duration": 3995,
    "start_time": "2024-01-02T12:08:51.211Z"
   },
   {
    "duration": 782,
    "start_time": "2024-01-02T12:08:55.209Z"
   },
   {
    "duration": 28,
    "start_time": "2024-01-02T12:08:55.993Z"
   },
   {
    "duration": 31,
    "start_time": "2024-01-02T12:08:56.023Z"
   },
   {
    "duration": 20,
    "start_time": "2024-01-02T12:08:56.066Z"
   },
   {
    "duration": 42,
    "start_time": "2024-01-02T12:08:56.087Z"
   },
   {
    "duration": 62,
    "start_time": "2024-01-02T12:08:56.131Z"
   },
   {
    "duration": 45,
    "start_time": "2024-01-02T12:08:56.195Z"
   },
   {
    "duration": 105,
    "start_time": "2024-01-02T12:08:56.241Z"
   },
   {
    "duration": 0,
    "start_time": "2024-01-02T12:08:56.347Z"
   },
   {
    "duration": 17,
    "start_time": "2024-01-02T12:09:27.163Z"
   },
   {
    "duration": 8022,
    "start_time": "2024-01-02T12:09:47.043Z"
   },
   {
    "duration": 7889,
    "start_time": "2024-01-02T12:12:02.783Z"
   },
   {
    "duration": 7757,
    "start_time": "2024-01-02T12:21:19.709Z"
   },
   {
    "duration": 6,
    "start_time": "2024-01-02T12:32:41.991Z"
   },
   {
    "duration": 6,
    "start_time": "2024-01-02T12:36:39.022Z"
   },
   {
    "duration": 3610,
    "start_time": "2024-01-02T13:34:12.185Z"
   },
   {
    "duration": 387,
    "start_time": "2024-01-02T13:34:15.797Z"
   },
   {
    "duration": 24,
    "start_time": "2024-01-02T13:34:16.186Z"
   },
   {
    "duration": 18,
    "start_time": "2024-01-02T13:34:16.212Z"
   },
   {
    "duration": 35,
    "start_time": "2024-01-02T13:34:16.231Z"
   },
   {
    "duration": 40,
    "start_time": "2024-01-02T13:34:16.268Z"
   },
   {
    "duration": 55,
    "start_time": "2024-01-02T13:34:16.310Z"
   },
   {
    "duration": 42,
    "start_time": "2024-01-02T13:34:16.366Z"
   },
   {
    "duration": 8457,
    "start_time": "2024-01-02T13:34:16.409Z"
   },
   {
    "duration": 144,
    "start_time": "2024-01-02T13:34:24.868Z"
   },
   {
    "duration": 0,
    "start_time": "2024-01-02T13:34:25.066Z"
   },
   {
    "duration": 6,
    "start_time": "2024-01-02T13:36:37.006Z"
   },
   {
    "duration": 6,
    "start_time": "2024-01-02T13:37:15.657Z"
   },
   {
    "duration": 8472,
    "start_time": "2024-01-03T09:05:04.117Z"
   },
   {
    "duration": 791,
    "start_time": "2024-01-03T09:05:12.591Z"
   },
   {
    "duration": 29,
    "start_time": "2024-01-03T09:05:13.384Z"
   },
   {
    "duration": 21,
    "start_time": "2024-01-03T09:05:13.417Z"
   },
   {
    "duration": 21,
    "start_time": "2024-01-03T09:05:13.440Z"
   },
   {
    "duration": 71,
    "start_time": "2024-01-03T09:05:13.463Z"
   },
   {
    "duration": 44,
    "start_time": "2024-01-03T09:05:13.536Z"
   },
   {
    "duration": 62,
    "start_time": "2024-01-03T09:05:13.581Z"
   },
   {
    "duration": 121,
    "start_time": "2024-01-03T09:05:13.645Z"
   },
   {
    "duration": 8857,
    "start_time": "2024-01-03T09:05:37.666Z"
   },
   {
    "duration": 8078,
    "start_time": "2024-01-03T09:07:37.058Z"
   },
   {
    "duration": 8348,
    "start_time": "2024-01-03T09:08:21.079Z"
   },
   {
    "duration": 8288,
    "start_time": "2024-01-03T09:08:49.959Z"
   },
   {
    "duration": 8389,
    "start_time": "2024-01-03T09:11:01.745Z"
   },
   {
    "duration": 8545,
    "start_time": "2024-01-03T09:13:49.178Z"
   },
   {
    "duration": 8536,
    "start_time": "2024-01-03T09:22:05.888Z"
   },
   {
    "duration": 7561,
    "start_time": "2024-01-03T09:24:00.067Z"
   },
   {
    "duration": 8519,
    "start_time": "2024-01-03T09:24:25.306Z"
   },
   {
    "duration": 8346,
    "start_time": "2024-01-03T09:25:21.878Z"
   },
   {
    "duration": 6,
    "start_time": "2024-01-03T09:52:55.719Z"
   },
   {
    "duration": 13,
    "start_time": "2024-01-03T10:00:37.246Z"
   },
   {
    "duration": 15,
    "start_time": "2024-01-03T10:02:09.005Z"
   },
   {
    "duration": 11,
    "start_time": "2024-01-03T10:12:08.596Z"
   },
   {
    "duration": 8545,
    "start_time": "2024-01-03T10:31:58.386Z"
   },
   {
    "duration": 12,
    "start_time": "2024-01-03T10:34:41.225Z"
   },
   {
    "duration": 6,
    "start_time": "2024-01-03T13:00:46.626Z"
   },
   {
    "duration": 7,
    "start_time": "2024-01-03T13:02:50.513Z"
   },
   {
    "duration": 7579,
    "start_time": "2024-01-03T13:18:25.048Z"
   },
   {
    "duration": 12,
    "start_time": "2024-01-03T13:19:18.630Z"
   },
   {
    "duration": 5,
    "start_time": "2024-01-03T13:19:24.920Z"
   },
   {
    "duration": 11,
    "start_time": "2024-01-03T13:19:28.740Z"
   },
   {
    "duration": 11,
    "start_time": "2024-01-03T13:25:23.275Z"
   },
   {
    "duration": 12,
    "start_time": "2024-01-03T13:25:56.938Z"
   },
   {
    "duration": 4020,
    "start_time": "2024-01-03T13:26:05.519Z"
   },
   {
    "duration": 424,
    "start_time": "2024-01-03T13:26:09.541Z"
   },
   {
    "duration": 29,
    "start_time": "2024-01-03T13:26:09.967Z"
   },
   {
    "duration": 36,
    "start_time": "2024-01-03T13:26:09.997Z"
   },
   {
    "duration": 21,
    "start_time": "2024-01-03T13:26:10.035Z"
   },
   {
    "duration": 67,
    "start_time": "2024-01-03T13:26:10.058Z"
   },
   {
    "duration": 45,
    "start_time": "2024-01-03T13:26:10.126Z"
   },
   {
    "duration": 64,
    "start_time": "2024-01-03T13:26:10.173Z"
   },
   {
    "duration": 9290,
    "start_time": "2024-01-03T13:26:10.238Z"
   },
   {
    "duration": 0,
    "start_time": "2024-01-03T13:26:19.529Z"
   },
   {
    "duration": 0,
    "start_time": "2024-01-03T13:26:19.531Z"
   },
   {
    "duration": 8338,
    "start_time": "2024-01-03T13:28:11.187Z"
   },
   {
    "duration": 8684,
    "start_time": "2024-01-03T13:29:53.840Z"
   },
   {
    "duration": 6,
    "start_time": "2024-01-03T13:30:10.045Z"
   },
   {
    "duration": 21,
    "start_time": "2024-01-03T13:30:13.157Z"
   },
   {
    "duration": 20,
    "start_time": "2024-01-03T13:32:18.797Z"
   },
   {
    "duration": 12,
    "start_time": "2024-01-03T13:34:00.837Z"
   },
   {
    "duration": 26,
    "start_time": "2024-01-03T13:37:41.258Z"
   },
   {
    "duration": 27,
    "start_time": "2024-01-03T13:39:07.578Z"
   },
   {
    "duration": 18,
    "start_time": "2024-01-03T13:40:02.562Z"
   },
   {
    "duration": 26,
    "start_time": "2024-01-03T13:40:40.317Z"
   },
   {
    "duration": 7664,
    "start_time": "2024-01-03T13:41:56.976Z"
   },
   {
    "duration": 20,
    "start_time": "2024-01-03T13:58:51.135Z"
   },
   {
    "duration": 19,
    "start_time": "2024-01-03T15:09:59.583Z"
   },
   {
    "duration": 25,
    "start_time": "2024-01-03T15:10:56.986Z"
   },
   {
    "duration": 25,
    "start_time": "2024-01-03T15:11:47.668Z"
   },
   {
    "duration": 476,
    "start_time": "2024-01-03T15:15:02.347Z"
   },
   {
    "duration": 22,
    "start_time": "2024-01-03T15:16:12.967Z"
   },
   {
    "duration": 8275,
    "start_time": "2024-01-03T15:19:23.621Z"
   },
   {
    "duration": 2320,
    "start_time": "2024-01-03T15:37:59.194Z"
   },
   {
    "duration": 4100,
    "start_time": "2024-01-03T15:39:36.809Z"
   },
   {
    "duration": 436,
    "start_time": "2024-01-03T15:39:40.911Z"
   },
   {
    "duration": 29,
    "start_time": "2024-01-03T15:39:41.349Z"
   },
   {
    "duration": 22,
    "start_time": "2024-01-03T15:39:41.380Z"
   },
   {
    "duration": 22,
    "start_time": "2024-01-03T15:39:41.421Z"
   },
   {
    "duration": 52,
    "start_time": "2024-01-03T15:39:41.444Z"
   },
   {
    "duration": 68,
    "start_time": "2024-01-03T15:39:41.497Z"
   },
   {
    "duration": 63,
    "start_time": "2024-01-03T15:39:41.566Z"
   },
   {
    "duration": 9296,
    "start_time": "2024-01-03T15:39:41.631Z"
   },
   {
    "duration": 8,
    "start_time": "2024-01-03T15:39:50.929Z"
   },
   {
    "duration": 13,
    "start_time": "2024-01-03T15:39:51.023Z"
   },
   {
    "duration": 137,
    "start_time": "2024-01-03T15:39:51.038Z"
   },
   {
    "duration": 2412,
    "start_time": "2024-01-03T15:43:37.334Z"
   },
   {
    "duration": 2355,
    "start_time": "2024-01-03T15:43:53.467Z"
   },
   {
    "duration": 2531,
    "start_time": "2024-01-03T15:45:24.040Z"
   },
   {
    "duration": 2371,
    "start_time": "2024-01-03T15:45:30.162Z"
   },
   {
    "duration": 8799,
    "start_time": "2024-01-03T15:49:11.627Z"
   },
   {
    "duration": 3902,
    "start_time": "2024-01-03T15:49:25.903Z"
   },
   {
    "duration": 422,
    "start_time": "2024-01-03T15:49:29.807Z"
   },
   {
    "duration": 30,
    "start_time": "2024-01-03T15:49:30.231Z"
   },
   {
    "duration": 34,
    "start_time": "2024-01-03T15:49:30.264Z"
   },
   {
    "duration": 47,
    "start_time": "2024-01-03T15:49:30.301Z"
   },
   {
    "duration": 60,
    "start_time": "2024-01-03T15:49:30.350Z"
   },
   {
    "duration": 65,
    "start_time": "2024-01-03T15:49:30.412Z"
   },
   {
    "duration": 66,
    "start_time": "2024-01-03T15:49:30.479Z"
   },
   {
    "duration": 145,
    "start_time": "2024-01-03T15:49:30.546Z"
   },
   {
    "duration": 0,
    "start_time": "2024-01-03T15:49:30.692Z"
   },
   {
    "duration": 0,
    "start_time": "2024-01-03T15:49:30.694Z"
   },
   {
    "duration": 0,
    "start_time": "2024-01-03T15:49:30.695Z"
   },
   {
    "duration": 9073,
    "start_time": "2024-01-03T15:50:01.060Z"
   },
   {
    "duration": 7936,
    "start_time": "2024-01-03T15:50:21.988Z"
   },
   {
    "duration": 5,
    "start_time": "2024-01-03T15:50:37.747Z"
   },
   {
    "duration": 13,
    "start_time": "2024-01-03T15:50:42.077Z"
   },
   {
    "duration": 15,
    "start_time": "2024-01-03T15:50:48.967Z"
   },
   {
    "duration": 2278,
    "start_time": "2024-01-03T15:51:10.059Z"
   },
   {
    "duration": 2323,
    "start_time": "2024-01-03T15:51:16.330Z"
   },
   {
    "duration": 2352,
    "start_time": "2024-01-03T15:51:34.709Z"
   },
   {
    "duration": 2321,
    "start_time": "2024-01-03T15:51:41.819Z"
   },
   {
    "duration": 2269,
    "start_time": "2024-01-03T15:53:30.846Z"
   },
   {
    "duration": 2324,
    "start_time": "2024-01-03T15:53:37.001Z"
   },
   {
    "duration": 2296,
    "start_time": "2024-01-03T15:54:01.121Z"
   },
   {
    "duration": 3888,
    "start_time": "2024-01-03T15:54:13.538Z"
   },
   {
    "duration": 437,
    "start_time": "2024-01-03T15:54:17.429Z"
   },
   {
    "duration": 28,
    "start_time": "2024-01-03T15:54:17.867Z"
   },
   {
    "duration": 29,
    "start_time": "2024-01-03T15:54:17.897Z"
   },
   {
    "duration": 21,
    "start_time": "2024-01-03T15:54:17.928Z"
   },
   {
    "duration": 73,
    "start_time": "2024-01-03T15:54:17.951Z"
   },
   {
    "duration": 47,
    "start_time": "2024-01-03T15:54:18.025Z"
   },
   {
    "duration": 66,
    "start_time": "2024-01-03T15:54:18.074Z"
   },
   {
    "duration": 9281,
    "start_time": "2024-01-03T15:54:18.142Z"
   },
   {
    "duration": 5,
    "start_time": "2024-01-03T15:54:27.425Z"
   },
   {
    "duration": 12,
    "start_time": "2024-01-03T15:54:27.432Z"
   },
   {
    "duration": 2413,
    "start_time": "2024-01-03T15:54:27.446Z"
   },
   {
    "duration": 4803,
    "start_time": "2024-01-03T16:02:05.730Z"
   },
   {
    "duration": 478,
    "start_time": "2024-01-03T16:02:10.535Z"
   },
   {
    "duration": 34,
    "start_time": "2024-01-03T16:02:11.014Z"
   },
   {
    "duration": 22,
    "start_time": "2024-01-03T16:02:11.049Z"
   },
   {
    "duration": 21,
    "start_time": "2024-01-03T16:02:11.073Z"
   },
   {
    "duration": 73,
    "start_time": "2024-01-03T16:02:11.095Z"
   },
   {
    "duration": 64,
    "start_time": "2024-01-03T16:02:11.169Z"
   },
   {
    "duration": 50,
    "start_time": "2024-01-03T16:02:11.235Z"
   },
   {
    "duration": 9146,
    "start_time": "2024-01-03T16:02:11.287Z"
   },
   {
    "duration": 6,
    "start_time": "2024-01-03T16:02:20.434Z"
   },
   {
    "duration": 90,
    "start_time": "2024-01-03T16:02:20.441Z"
   },
   {
    "duration": 2556,
    "start_time": "2024-01-03T16:02:20.533Z"
   },
   {
    "duration": 3408,
    "start_time": "2024-01-03T16:22:21.398Z"
   },
   {
    "duration": 113,
    "start_time": "2024-01-03T16:28:12.358Z"
   },
   {
    "duration": 2205,
    "start_time": "2024-01-03T16:28:51.719Z"
   },
   {
    "duration": 71,
    "start_time": "2024-01-03T16:30:59.659Z"
   },
   {
    "duration": 84,
    "start_time": "2024-01-03T16:31:06.906Z"
   },
   {
    "duration": 36,
    "start_time": "2024-01-03T16:31:33.866Z"
   },
   {
    "duration": 34,
    "start_time": "2024-01-03T16:32:31.430Z"
   },
   {
    "duration": 38,
    "start_time": "2024-01-03T16:32:35.321Z"
   },
   {
    "duration": 6892,
    "start_time": "2024-01-03T16:35:05.578Z"
   },
   {
    "duration": 0,
    "start_time": "2024-01-03T16:40:58.831Z"
   },
   {
    "duration": 1104,
    "start_time": "2024-01-03T16:41:42.085Z"
   },
   {
    "duration": 1032,
    "start_time": "2024-01-03T16:45:18.258Z"
   },
   {
    "duration": 1041,
    "start_time": "2024-01-03T16:49:12.259Z"
   },
   {
    "duration": 1068,
    "start_time": "2024-01-03T16:49:51.978Z"
   },
   {
    "duration": 1091,
    "start_time": "2024-01-03T16:50:09.479Z"
   },
   {
    "duration": 2136,
    "start_time": "2024-01-03T17:00:39.875Z"
   },
   {
    "duration": 8157,
    "start_time": "2024-01-03T17:02:08.448Z"
   },
   {
    "duration": 3,
    "start_time": "2024-01-03T17:04:43.142Z"
   },
   {
    "duration": 8530,
    "start_time": "2024-01-03T17:04:59.867Z"
   },
   {
    "duration": 8539,
    "start_time": "2024-01-03T17:05:40.459Z"
   },
   {
    "duration": 60,
    "start_time": "2024-01-03T17:07:06.387Z"
   },
   {
    "duration": 7672,
    "start_time": "2024-01-03T17:07:19.586Z"
   },
   {
    "duration": 505,
    "start_time": "2024-01-03T17:07:27.260Z"
   },
   {
    "duration": 26,
    "start_time": "2024-01-03T17:07:27.767Z"
   },
   {
    "duration": 34,
    "start_time": "2024-01-03T17:07:27.794Z"
   },
   {
    "duration": 27,
    "start_time": "2024-01-03T17:07:27.830Z"
   },
   {
    "duration": 82,
    "start_time": "2024-01-03T17:07:27.858Z"
   },
   {
    "duration": 45,
    "start_time": "2024-01-03T17:07:27.941Z"
   },
   {
    "duration": 72,
    "start_time": "2024-01-03T17:07:27.987Z"
   },
   {
    "duration": 41,
    "start_time": "2024-01-03T17:07:28.061Z"
   },
   {
    "duration": 54,
    "start_time": "2024-01-03T17:07:28.104Z"
   },
   {
    "duration": 35,
    "start_time": "2024-01-03T17:07:28.160Z"
   },
   {
    "duration": 9941,
    "start_time": "2024-01-03T17:07:28.197Z"
   },
   {
    "duration": 1138,
    "start_time": "2024-01-03T17:07:38.140Z"
   },
   {
    "duration": 68,
    "start_time": "2024-01-03T17:07:39.281Z"
   },
   {
    "duration": 7283,
    "start_time": "2024-01-03T17:07:39.351Z"
   },
   {
    "duration": 87,
    "start_time": "2024-01-03T17:07:46.636Z"
   },
   {
    "duration": 18,
    "start_time": "2024-01-03T17:07:46.725Z"
   },
   {
    "duration": 2488,
    "start_time": "2024-01-03T17:07:46.746Z"
   },
   {
    "duration": 7337,
    "start_time": "2024-01-03T17:10:12.399Z"
   },
   {
    "duration": 446,
    "start_time": "2024-01-03T17:10:19.738Z"
   },
   {
    "duration": 39,
    "start_time": "2024-01-03T17:10:20.186Z"
   },
   {
    "duration": 21,
    "start_time": "2024-01-03T17:10:20.227Z"
   },
   {
    "duration": 40,
    "start_time": "2024-01-03T17:10:20.250Z"
   },
   {
    "duration": 61,
    "start_time": "2024-01-03T17:10:20.293Z"
   },
   {
    "duration": 48,
    "start_time": "2024-01-03T17:10:20.356Z"
   },
   {
    "duration": 66,
    "start_time": "2024-01-03T17:10:20.406Z"
   },
   {
    "duration": 53,
    "start_time": "2024-01-03T17:10:20.474Z"
   },
   {
    "duration": 49,
    "start_time": "2024-01-03T17:10:20.529Z"
   },
   {
    "duration": 60,
    "start_time": "2024-01-03T17:10:20.580Z"
   },
   {
    "duration": 8575,
    "start_time": "2024-01-03T17:10:20.642Z"
   },
   {
    "duration": 1088,
    "start_time": "2024-01-03T17:10:29.219Z"
   },
   {
    "duration": 7026,
    "start_time": "2024-01-03T17:10:30.311Z"
   },
   {
    "duration": 9,
    "start_time": "2024-01-03T17:10:37.423Z"
   },
   {
    "duration": 16,
    "start_time": "2024-01-03T17:10:37.434Z"
   },
   {
    "duration": 2507,
    "start_time": "2024-01-03T17:10:37.452Z"
   },
   {
    "duration": 9811,
    "start_time": "2024-01-05T11:06:01.546Z"
   },
   {
    "duration": 1503,
    "start_time": "2024-01-05T11:06:11.359Z"
   },
   {
    "duration": 22,
    "start_time": "2024-01-05T11:06:12.864Z"
   },
   {
    "duration": 18,
    "start_time": "2024-01-05T11:06:12.888Z"
   },
   {
    "duration": 19,
    "start_time": "2024-01-05T11:06:12.908Z"
   },
   {
    "duration": 47,
    "start_time": "2024-01-05T11:06:12.929Z"
   },
   {
    "duration": 48,
    "start_time": "2024-01-05T11:06:12.978Z"
   },
   {
    "duration": 38,
    "start_time": "2024-01-05T11:06:13.028Z"
   },
   {
    "duration": 48,
    "start_time": "2024-01-05T11:06:13.068Z"
   },
   {
    "duration": 30,
    "start_time": "2024-01-05T11:06:13.118Z"
   },
   {
    "duration": 43,
    "start_time": "2024-01-05T11:06:13.149Z"
   },
   {
    "duration": 7279,
    "start_time": "2024-01-05T11:06:13.193Z"
   },
   {
    "duration": 956,
    "start_time": "2024-01-05T11:06:20.473Z"
   },
   {
    "duration": 6769,
    "start_time": "2024-01-05T11:06:21.431Z"
   },
   {
    "duration": 5,
    "start_time": "2024-01-05T11:06:28.202Z"
   },
   {
    "duration": 17,
    "start_time": "2024-01-05T11:06:28.209Z"
   },
   {
    "duration": 1998,
    "start_time": "2024-01-05T11:06:28.227Z"
   },
   {
    "duration": 6,
    "start_time": "2024-01-05T11:06:57.956Z"
   },
   {
    "duration": 5,
    "start_time": "2024-01-05T11:07:10.001Z"
   },
   {
    "duration": 5,
    "start_time": "2024-01-05T11:11:29.360Z"
   },
   {
    "duration": 4,
    "start_time": "2024-01-05T11:14:31.705Z"
   },
   {
    "duration": 7,
    "start_time": "2024-01-05T11:14:36.559Z"
   },
   {
    "duration": 6,
    "start_time": "2024-01-05T11:24:22.910Z"
   },
   {
    "duration": 830,
    "start_time": "2024-01-05T11:37:30.647Z"
   },
   {
    "duration": 830,
    "start_time": "2024-01-05T11:37:44.511Z"
   },
   {
    "duration": 5,
    "start_time": "2024-01-05T11:42:09.586Z"
   },
   {
    "duration": 6607,
    "start_time": "2024-01-05T11:43:41.502Z"
   },
   {
    "duration": 457,
    "start_time": "2024-01-05T11:43:48.111Z"
   },
   {
    "duration": 32,
    "start_time": "2024-01-05T11:43:48.570Z"
   },
   {
    "duration": 20,
    "start_time": "2024-01-05T11:43:48.604Z"
   },
   {
    "duration": 18,
    "start_time": "2024-01-05T11:43:48.625Z"
   },
   {
    "duration": 68,
    "start_time": "2024-01-05T11:43:48.644Z"
   },
   {
    "duration": 42,
    "start_time": "2024-01-05T11:43:48.714Z"
   },
   {
    "duration": 61,
    "start_time": "2024-01-05T11:43:48.757Z"
   },
   {
    "duration": 34,
    "start_time": "2024-01-05T11:43:48.819Z"
   },
   {
    "duration": 42,
    "start_time": "2024-01-05T11:43:48.855Z"
   },
   {
    "duration": 31,
    "start_time": "2024-01-05T11:43:48.899Z"
   },
   {
    "duration": 7448,
    "start_time": "2024-01-05T11:43:48.931Z"
   },
   {
    "duration": 944,
    "start_time": "2024-01-05T11:43:56.380Z"
   },
   {
    "duration": 7173,
    "start_time": "2024-01-05T11:43:57.326Z"
   },
   {
    "duration": 5,
    "start_time": "2024-01-05T11:44:04.501Z"
   },
   {
    "duration": 89,
    "start_time": "2024-01-05T11:44:04.508Z"
   },
   {
    "duration": 849,
    "start_time": "2024-01-05T11:44:04.599Z"
   }
  ],
  "kernelspec": {
   "display_name": "Python 3 (ipykernel)",
   "language": "python",
   "name": "python3"
  },
  "language_info": {
   "codemirror_mode": {
    "name": "ipython",
    "version": 3
   },
   "file_extension": ".py",
   "mimetype": "text/x-python",
   "name": "python",
   "nbconvert_exporter": "python",
   "pygments_lexer": "ipython3",
   "version": "3.9.5"
  },
  "toc": {
   "base_numbering": 1,
   "nav_menu": {},
   "number_sections": true,
   "sideBar": true,
   "skip_h1_title": true,
   "title_cell": "Table of Contents",
   "title_sidebar": "Contents",
   "toc_cell": false,
   "toc_position": {
    "height": "calc(100% - 180px)",
    "left": "10px",
    "top": "150px",
    "width": "263.409px"
   },
   "toc_section_display": true,
   "toc_window_display": true
  }
 },
 "nbformat": 4,
 "nbformat_minor": 2
}
