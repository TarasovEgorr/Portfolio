{
 "cells": [
  {
   "cell_type": "markdown",
   "metadata": {},
   "source": [
    "# Проект: Определение стоимости автомобилей"
   ]
  },
  {
   "cell_type": "markdown",
   "metadata": {},
   "source": [
    "Сервис по продаже автомобилей с пробегом «Не бит, не крашен» разрабатывает приложение для привлечения новых клиентов. В нём можно быстро узнать рыночную стоимость своего автомобиля. В вашем распоряжении исторические данные: технические характеристики, комплектации и цены автомобилей. Вам нужно построить модель для определения стоимости. \n",
    "\n",
    "Заказчику важны:\n",
    "\n",
    "- качество предсказания;\n",
    "- скорость предсказания;\n",
    "- время обучения."
   ]
  },
  {
   "cell_type": "markdown",
   "metadata": {},
   "source": [
    "## Подготовка данных"
   ]
  },
  {
   "cell_type": "markdown",
   "metadata": {},
   "source": [
    "### Загрузка библиотек"
   ]
  },
  {
   "cell_type": "code",
   "execution_count": 1,
   "metadata": {},
   "outputs": [],
   "source": [
    "import pandas as pd\n",
    "import matplotlib.pyplot as plt\n",
    "import seaborn as sns\n",
    "import numpy as np\n",
    "from sklearn.model_selection import train_test_split, cross_val_score, RandomizedSearchCV\n",
    "from sklearn.compose import ColumnTransformer\n",
    "from sklearn.pipeline import Pipeline\n",
    "from sklearn.impute import SimpleImputer\n",
    "from sklearn.preprocessing import OneHotEncoder, StandardScaler, OrdinalEncoder, MinMaxScaler\n",
    "from lightgbm import LGBMRegressor\n",
    "from sklearn.linear_model import LinearRegression\n",
    "from sklearn.metrics import make_scorer, mean_squared_error\n",
    "from sklearn.tree import DecisionTreeRegressor"
   ]
  },
  {
   "cell_type": "markdown",
   "metadata": {},
   "source": [
    "### Загрузка данных"
   ]
  },
  {
   "cell_type": "code",
   "execution_count": 2,
   "metadata": {},
   "outputs": [],
   "source": [
    "cars = pd.read_csv('/datasets/autos.csv')"
   ]
  },
  {
   "cell_type": "code",
   "execution_count": 3,
   "metadata": {
    "scrolled": false
   },
   "outputs": [
    {
     "name": "stdout",
     "output_type": "stream",
     "text": [
      "<class 'pandas.core.frame.DataFrame'>\n",
      "RangeIndex: 354369 entries, 0 to 354368\n",
      "Data columns (total 16 columns):\n",
      " #   Column             Non-Null Count   Dtype \n",
      "---  ------             --------------   ----- \n",
      " 0   DateCrawled        354369 non-null  object\n",
      " 1   Price              354369 non-null  int64 \n",
      " 2   VehicleType        316879 non-null  object\n",
      " 3   RegistrationYear   354369 non-null  int64 \n",
      " 4   Gearbox            334536 non-null  object\n",
      " 5   Power              354369 non-null  int64 \n",
      " 6   Model              334664 non-null  object\n",
      " 7   Kilometer          354369 non-null  int64 \n",
      " 8   RegistrationMonth  354369 non-null  int64 \n",
      " 9   FuelType           321474 non-null  object\n",
      " 10  Brand              354369 non-null  object\n",
      " 11  Repaired           283215 non-null  object\n",
      " 12  DateCreated        354369 non-null  object\n",
      " 13  NumberOfPictures   354369 non-null  int64 \n",
      " 14  PostalCode         354369 non-null  int64 \n",
      " 15  LastSeen           354369 non-null  object\n",
      "dtypes: int64(7), object(9)\n",
      "memory usage: 43.3+ MB\n"
     ]
    },
    {
     "data": {
      "text/html": [
       "<div>\n",
       "<style scoped>\n",
       "    .dataframe tbody tr th:only-of-type {\n",
       "        vertical-align: middle;\n",
       "    }\n",
       "\n",
       "    .dataframe tbody tr th {\n",
       "        vertical-align: top;\n",
       "    }\n",
       "\n",
       "    .dataframe thead th {\n",
       "        text-align: right;\n",
       "    }\n",
       "</style>\n",
       "<table border=\"1\" class=\"dataframe\">\n",
       "  <thead>\n",
       "    <tr style=\"text-align: right;\">\n",
       "      <th></th>\n",
       "      <th>DateCrawled</th>\n",
       "      <th>Price</th>\n",
       "      <th>VehicleType</th>\n",
       "      <th>RegistrationYear</th>\n",
       "      <th>Gearbox</th>\n",
       "      <th>Power</th>\n",
       "      <th>Model</th>\n",
       "      <th>Kilometer</th>\n",
       "      <th>RegistrationMonth</th>\n",
       "      <th>FuelType</th>\n",
       "      <th>Brand</th>\n",
       "      <th>Repaired</th>\n",
       "      <th>DateCreated</th>\n",
       "      <th>NumberOfPictures</th>\n",
       "      <th>PostalCode</th>\n",
       "      <th>LastSeen</th>\n",
       "    </tr>\n",
       "  </thead>\n",
       "  <tbody>\n",
       "    <tr>\n",
       "      <th>0</th>\n",
       "      <td>2016-03-24 11:52:17</td>\n",
       "      <td>480</td>\n",
       "      <td>NaN</td>\n",
       "      <td>1993</td>\n",
       "      <td>manual</td>\n",
       "      <td>0</td>\n",
       "      <td>golf</td>\n",
       "      <td>150000</td>\n",
       "      <td>0</td>\n",
       "      <td>petrol</td>\n",
       "      <td>volkswagen</td>\n",
       "      <td>NaN</td>\n",
       "      <td>2016-03-24 00:00:00</td>\n",
       "      <td>0</td>\n",
       "      <td>70435</td>\n",
       "      <td>2016-04-07 03:16:57</td>\n",
       "    </tr>\n",
       "    <tr>\n",
       "      <th>1</th>\n",
       "      <td>2016-03-24 10:58:45</td>\n",
       "      <td>18300</td>\n",
       "      <td>coupe</td>\n",
       "      <td>2011</td>\n",
       "      <td>manual</td>\n",
       "      <td>190</td>\n",
       "      <td>NaN</td>\n",
       "      <td>125000</td>\n",
       "      <td>5</td>\n",
       "      <td>gasoline</td>\n",
       "      <td>audi</td>\n",
       "      <td>yes</td>\n",
       "      <td>2016-03-24 00:00:00</td>\n",
       "      <td>0</td>\n",
       "      <td>66954</td>\n",
       "      <td>2016-04-07 01:46:50</td>\n",
       "    </tr>\n",
       "    <tr>\n",
       "      <th>2</th>\n",
       "      <td>2016-03-14 12:52:21</td>\n",
       "      <td>9800</td>\n",
       "      <td>suv</td>\n",
       "      <td>2004</td>\n",
       "      <td>auto</td>\n",
       "      <td>163</td>\n",
       "      <td>grand</td>\n",
       "      <td>125000</td>\n",
       "      <td>8</td>\n",
       "      <td>gasoline</td>\n",
       "      <td>jeep</td>\n",
       "      <td>NaN</td>\n",
       "      <td>2016-03-14 00:00:00</td>\n",
       "      <td>0</td>\n",
       "      <td>90480</td>\n",
       "      <td>2016-04-05 12:47:46</td>\n",
       "    </tr>\n",
       "    <tr>\n",
       "      <th>3</th>\n",
       "      <td>2016-03-17 16:54:04</td>\n",
       "      <td>1500</td>\n",
       "      <td>small</td>\n",
       "      <td>2001</td>\n",
       "      <td>manual</td>\n",
       "      <td>75</td>\n",
       "      <td>golf</td>\n",
       "      <td>150000</td>\n",
       "      <td>6</td>\n",
       "      <td>petrol</td>\n",
       "      <td>volkswagen</td>\n",
       "      <td>no</td>\n",
       "      <td>2016-03-17 00:00:00</td>\n",
       "      <td>0</td>\n",
       "      <td>91074</td>\n",
       "      <td>2016-03-17 17:40:17</td>\n",
       "    </tr>\n",
       "    <tr>\n",
       "      <th>4</th>\n",
       "      <td>2016-03-31 17:25:20</td>\n",
       "      <td>3600</td>\n",
       "      <td>small</td>\n",
       "      <td>2008</td>\n",
       "      <td>manual</td>\n",
       "      <td>69</td>\n",
       "      <td>fabia</td>\n",
       "      <td>90000</td>\n",
       "      <td>7</td>\n",
       "      <td>gasoline</td>\n",
       "      <td>skoda</td>\n",
       "      <td>no</td>\n",
       "      <td>2016-03-31 00:00:00</td>\n",
       "      <td>0</td>\n",
       "      <td>60437</td>\n",
       "      <td>2016-04-06 10:17:21</td>\n",
       "    </tr>\n",
       "  </tbody>\n",
       "</table>\n",
       "</div>"
      ],
      "text/plain": [
       "           DateCrawled  Price VehicleType  RegistrationYear Gearbox  Power  \\\n",
       "0  2016-03-24 11:52:17    480         NaN              1993  manual      0   \n",
       "1  2016-03-24 10:58:45  18300       coupe              2011  manual    190   \n",
       "2  2016-03-14 12:52:21   9800         suv              2004    auto    163   \n",
       "3  2016-03-17 16:54:04   1500       small              2001  manual     75   \n",
       "4  2016-03-31 17:25:20   3600       small              2008  manual     69   \n",
       "\n",
       "   Model  Kilometer  RegistrationMonth  FuelType       Brand Repaired  \\\n",
       "0   golf     150000                  0    petrol  volkswagen      NaN   \n",
       "1    NaN     125000                  5  gasoline        audi      yes   \n",
       "2  grand     125000                  8  gasoline        jeep      NaN   \n",
       "3   golf     150000                  6    petrol  volkswagen       no   \n",
       "4  fabia      90000                  7  gasoline       skoda       no   \n",
       "\n",
       "           DateCreated  NumberOfPictures  PostalCode             LastSeen  \n",
       "0  2016-03-24 00:00:00                 0       70435  2016-04-07 03:16:57  \n",
       "1  2016-03-24 00:00:00                 0       66954  2016-04-07 01:46:50  \n",
       "2  2016-03-14 00:00:00                 0       90480  2016-04-05 12:47:46  \n",
       "3  2016-03-17 00:00:00                 0       91074  2016-03-17 17:40:17  \n",
       "4  2016-03-31 00:00:00                 0       60437  2016-04-06 10:17:21  "
      ]
     },
     "execution_count": 3,
     "metadata": {},
     "output_type": "execute_result"
    }
   ],
   "source": [
    "cars.info()\n",
    "cars.head()"
   ]
  },
  {
   "cell_type": "markdown",
   "metadata": {},
   "source": [
    "**Признаки**\n",
    "- `DateCrawled` — дата скачивания анкеты из базы\n",
    "- `VehicleType` — тип автомобильного кузова\n",
    "- `RegistrationYear` — год регистрации автомобиля\n",
    "- `Gearbox` — тип коробки передач\n",
    "- `Power` — мощность (л. с.)\n",
    "- `Model` — модель автомобиля\n",
    "- `Kilometer` — пробег (км)\n",
    "- `RegistrationMonth` — месяц регистрации автомобиля\n",
    "- `FuelType` — тип топлива\n",
    "- `Brand` — марка автомобиля\n",
    "- `Repaired` — была машина в ремонте или нет\n",
    "- `DateCreated` — дата создания анкеты\n",
    "- `NumberOfPictures` — количество фотографий автомобиля\n",
    "- `PostalCode` — почтовый индекс владельца анкеты (пользователя)\n",
    "- `LastSeen` — дата последней активности пользователя\n",
    "\n",
    "**Целевой признак**\n",
    "- `Price` — цена (евро)"
   ]
  },
  {
   "cell_type": "markdown",
   "metadata": {},
   "source": [
    "### Предварительный анализ"
   ]
  },
  {
   "cell_type": "code",
   "execution_count": 4,
   "metadata": {},
   "outputs": [],
   "source": [
    "# функция для вывода подробой информации о данных\n",
    "def analyze_dataframe(df):\n",
    "    columns = df.columns\n",
    "    data = []\n",
    "\n",
    "    for col in columns:\n",
    "        col_data = {\n",
    "            'name': col,\n",
    "            'type': str(df[col].dtype),\n",
    "            'count_nan': df[col].isnull().sum(),\n",
    "            'zero': (df[col] == 0).sum() if df[col].dtype in ['int64', 'float64'] else None,\n",
    "            'unique': df[col].nunique(),\n",
    "            'mean': df[col].mean() if df[col].dtype in ['int64', 'float64'] else None,\n",
    "            'std': df[col].std() if df[col].dtype in ['int64', 'float64'] else None,\n",
    "            'min': df[col].min() if df[col].dtype in ['int64', 'float64'] else None,\n",
    "            'max': df[col].max() if df[col].dtype in ['int64', 'float64'] else None,\n",
    "            'out_left': (df[col] < df[col].quantile(0.25) - 1.5 * (df[col].quantile(0.75) - df[col].quantile(0.25))).sum() if df[col].dtype in ['int64', 'float64'] else None,\n",
    "            'out_right': (df[col] > df[col].quantile(0.75) + 1.5 * (df[col].quantile(0.75) - df[col].quantile(0.25))).sum() if df[col].dtype in ['int64', 'float64'] else None\n",
    "        }\n",
    "        data.append(col_data)\n",
    "\n",
    "    return pd.DataFrame(data)"
   ]
  },
  {
   "cell_type": "code",
   "execution_count": 5,
   "metadata": {
    "scrolled": false
   },
   "outputs": [
    {
     "data": {
      "text/html": [
       "<div>\n",
       "<style scoped>\n",
       "    .dataframe tbody tr th:only-of-type {\n",
       "        vertical-align: middle;\n",
       "    }\n",
       "\n",
       "    .dataframe tbody tr th {\n",
       "        vertical-align: top;\n",
       "    }\n",
       "\n",
       "    .dataframe thead th {\n",
       "        text-align: right;\n",
       "    }\n",
       "</style>\n",
       "<table border=\"1\" class=\"dataframe\">\n",
       "  <thead>\n",
       "    <tr style=\"text-align: right;\">\n",
       "      <th></th>\n",
       "      <th>name</th>\n",
       "      <th>type</th>\n",
       "      <th>count_nan</th>\n",
       "      <th>zero</th>\n",
       "      <th>unique</th>\n",
       "      <th>mean</th>\n",
       "      <th>std</th>\n",
       "      <th>min</th>\n",
       "      <th>max</th>\n",
       "      <th>out_left</th>\n",
       "      <th>out_right</th>\n",
       "    </tr>\n",
       "  </thead>\n",
       "  <tbody>\n",
       "    <tr>\n",
       "      <th>0</th>\n",
       "      <td>DateCrawled</td>\n",
       "      <td>object</td>\n",
       "      <td>0</td>\n",
       "      <td>NaN</td>\n",
       "      <td>271174</td>\n",
       "      <td>NaN</td>\n",
       "      <td>NaN</td>\n",
       "      <td>NaN</td>\n",
       "      <td>NaN</td>\n",
       "      <td>NaN</td>\n",
       "      <td>NaN</td>\n",
       "    </tr>\n",
       "    <tr>\n",
       "      <th>1</th>\n",
       "      <td>Price</td>\n",
       "      <td>int64</td>\n",
       "      <td>0</td>\n",
       "      <td>10772.0</td>\n",
       "      <td>3731</td>\n",
       "      <td>4416.656776</td>\n",
       "      <td>4514.158514</td>\n",
       "      <td>0.0</td>\n",
       "      <td>20000.0</td>\n",
       "      <td>0.0</td>\n",
       "      <td>18979.0</td>\n",
       "    </tr>\n",
       "    <tr>\n",
       "      <th>2</th>\n",
       "      <td>VehicleType</td>\n",
       "      <td>object</td>\n",
       "      <td>37490</td>\n",
       "      <td>NaN</td>\n",
       "      <td>8</td>\n",
       "      <td>NaN</td>\n",
       "      <td>NaN</td>\n",
       "      <td>NaN</td>\n",
       "      <td>NaN</td>\n",
       "      <td>NaN</td>\n",
       "      <td>NaN</td>\n",
       "    </tr>\n",
       "    <tr>\n",
       "      <th>3</th>\n",
       "      <td>RegistrationYear</td>\n",
       "      <td>int64</td>\n",
       "      <td>0</td>\n",
       "      <td>0.0</td>\n",
       "      <td>151</td>\n",
       "      <td>2004.234448</td>\n",
       "      <td>90.227958</td>\n",
       "      <td>1000.0</td>\n",
       "      <td>9999.0</td>\n",
       "      <td>6204.0</td>\n",
       "      <td>105.0</td>\n",
       "    </tr>\n",
       "    <tr>\n",
       "      <th>4</th>\n",
       "      <td>Gearbox</td>\n",
       "      <td>object</td>\n",
       "      <td>19833</td>\n",
       "      <td>NaN</td>\n",
       "      <td>2</td>\n",
       "      <td>NaN</td>\n",
       "      <td>NaN</td>\n",
       "      <td>NaN</td>\n",
       "      <td>NaN</td>\n",
       "      <td>NaN</td>\n",
       "      <td>NaN</td>\n",
       "    </tr>\n",
       "    <tr>\n",
       "      <th>5</th>\n",
       "      <td>Power</td>\n",
       "      <td>int64</td>\n",
       "      <td>0</td>\n",
       "      <td>40225.0</td>\n",
       "      <td>712</td>\n",
       "      <td>110.094337</td>\n",
       "      <td>189.850405</td>\n",
       "      <td>0.0</td>\n",
       "      <td>20000.0</td>\n",
       "      <td>0.0</td>\n",
       "      <td>7340.0</td>\n",
       "    </tr>\n",
       "    <tr>\n",
       "      <th>6</th>\n",
       "      <td>Model</td>\n",
       "      <td>object</td>\n",
       "      <td>19705</td>\n",
       "      <td>NaN</td>\n",
       "      <td>250</td>\n",
       "      <td>NaN</td>\n",
       "      <td>NaN</td>\n",
       "      <td>NaN</td>\n",
       "      <td>NaN</td>\n",
       "      <td>NaN</td>\n",
       "      <td>NaN</td>\n",
       "    </tr>\n",
       "    <tr>\n",
       "      <th>7</th>\n",
       "      <td>Kilometer</td>\n",
       "      <td>int64</td>\n",
       "      <td>0</td>\n",
       "      <td>0.0</td>\n",
       "      <td>13</td>\n",
       "      <td>128211.172535</td>\n",
       "      <td>37905.341530</td>\n",
       "      <td>5000.0</td>\n",
       "      <td>150000.0</td>\n",
       "      <td>53257.0</td>\n",
       "      <td>0.0</td>\n",
       "    </tr>\n",
       "    <tr>\n",
       "      <th>8</th>\n",
       "      <td>RegistrationMonth</td>\n",
       "      <td>int64</td>\n",
       "      <td>0</td>\n",
       "      <td>37352.0</td>\n",
       "      <td>13</td>\n",
       "      <td>5.714645</td>\n",
       "      <td>3.726421</td>\n",
       "      <td>0.0</td>\n",
       "      <td>12.0</td>\n",
       "      <td>0.0</td>\n",
       "      <td>0.0</td>\n",
       "    </tr>\n",
       "    <tr>\n",
       "      <th>9</th>\n",
       "      <td>FuelType</td>\n",
       "      <td>object</td>\n",
       "      <td>32895</td>\n",
       "      <td>NaN</td>\n",
       "      <td>7</td>\n",
       "      <td>NaN</td>\n",
       "      <td>NaN</td>\n",
       "      <td>NaN</td>\n",
       "      <td>NaN</td>\n",
       "      <td>NaN</td>\n",
       "      <td>NaN</td>\n",
       "    </tr>\n",
       "    <tr>\n",
       "      <th>10</th>\n",
       "      <td>Brand</td>\n",
       "      <td>object</td>\n",
       "      <td>0</td>\n",
       "      <td>NaN</td>\n",
       "      <td>40</td>\n",
       "      <td>NaN</td>\n",
       "      <td>NaN</td>\n",
       "      <td>NaN</td>\n",
       "      <td>NaN</td>\n",
       "      <td>NaN</td>\n",
       "      <td>NaN</td>\n",
       "    </tr>\n",
       "    <tr>\n",
       "      <th>11</th>\n",
       "      <td>Repaired</td>\n",
       "      <td>object</td>\n",
       "      <td>71154</td>\n",
       "      <td>NaN</td>\n",
       "      <td>2</td>\n",
       "      <td>NaN</td>\n",
       "      <td>NaN</td>\n",
       "      <td>NaN</td>\n",
       "      <td>NaN</td>\n",
       "      <td>NaN</td>\n",
       "      <td>NaN</td>\n",
       "    </tr>\n",
       "    <tr>\n",
       "      <th>12</th>\n",
       "      <td>DateCreated</td>\n",
       "      <td>object</td>\n",
       "      <td>0</td>\n",
       "      <td>NaN</td>\n",
       "      <td>109</td>\n",
       "      <td>NaN</td>\n",
       "      <td>NaN</td>\n",
       "      <td>NaN</td>\n",
       "      <td>NaN</td>\n",
       "      <td>NaN</td>\n",
       "      <td>NaN</td>\n",
       "    </tr>\n",
       "    <tr>\n",
       "      <th>13</th>\n",
       "      <td>NumberOfPictures</td>\n",
       "      <td>int64</td>\n",
       "      <td>0</td>\n",
       "      <td>354369.0</td>\n",
       "      <td>1</td>\n",
       "      <td>0.000000</td>\n",
       "      <td>0.000000</td>\n",
       "      <td>0.0</td>\n",
       "      <td>0.0</td>\n",
       "      <td>0.0</td>\n",
       "      <td>0.0</td>\n",
       "    </tr>\n",
       "    <tr>\n",
       "      <th>14</th>\n",
       "      <td>PostalCode</td>\n",
       "      <td>int64</td>\n",
       "      <td>0</td>\n",
       "      <td>0.0</td>\n",
       "      <td>8143</td>\n",
       "      <td>50508.689087</td>\n",
       "      <td>25783.096248</td>\n",
       "      <td>1067.0</td>\n",
       "      <td>99998.0</td>\n",
       "      <td>0.0</td>\n",
       "      <td>0.0</td>\n",
       "    </tr>\n",
       "    <tr>\n",
       "      <th>15</th>\n",
       "      <td>LastSeen</td>\n",
       "      <td>object</td>\n",
       "      <td>0</td>\n",
       "      <td>NaN</td>\n",
       "      <td>179150</td>\n",
       "      <td>NaN</td>\n",
       "      <td>NaN</td>\n",
       "      <td>NaN</td>\n",
       "      <td>NaN</td>\n",
       "      <td>NaN</td>\n",
       "      <td>NaN</td>\n",
       "    </tr>\n",
       "  </tbody>\n",
       "</table>\n",
       "</div>"
      ],
      "text/plain": [
       "                 name    type  count_nan      zero  unique           mean  \\\n",
       "0         DateCrawled  object          0       NaN  271174            NaN   \n",
       "1               Price   int64          0   10772.0    3731    4416.656776   \n",
       "2         VehicleType  object      37490       NaN       8            NaN   \n",
       "3    RegistrationYear   int64          0       0.0     151    2004.234448   \n",
       "4             Gearbox  object      19833       NaN       2            NaN   \n",
       "5               Power   int64          0   40225.0     712     110.094337   \n",
       "6               Model  object      19705       NaN     250            NaN   \n",
       "7           Kilometer   int64          0       0.0      13  128211.172535   \n",
       "8   RegistrationMonth   int64          0   37352.0      13       5.714645   \n",
       "9            FuelType  object      32895       NaN       7            NaN   \n",
       "10              Brand  object          0       NaN      40            NaN   \n",
       "11           Repaired  object      71154       NaN       2            NaN   \n",
       "12        DateCreated  object          0       NaN     109            NaN   \n",
       "13   NumberOfPictures   int64          0  354369.0       1       0.000000   \n",
       "14         PostalCode   int64          0       0.0    8143   50508.689087   \n",
       "15           LastSeen  object          0       NaN  179150            NaN   \n",
       "\n",
       "             std     min       max  out_left  out_right  \n",
       "0            NaN     NaN       NaN       NaN        NaN  \n",
       "1    4514.158514     0.0   20000.0       0.0    18979.0  \n",
       "2            NaN     NaN       NaN       NaN        NaN  \n",
       "3      90.227958  1000.0    9999.0    6204.0      105.0  \n",
       "4            NaN     NaN       NaN       NaN        NaN  \n",
       "5     189.850405     0.0   20000.0       0.0     7340.0  \n",
       "6            NaN     NaN       NaN       NaN        NaN  \n",
       "7   37905.341530  5000.0  150000.0   53257.0        0.0  \n",
       "8       3.726421     0.0      12.0       0.0        0.0  \n",
       "9            NaN     NaN       NaN       NaN        NaN  \n",
       "10           NaN     NaN       NaN       NaN        NaN  \n",
       "11           NaN     NaN       NaN       NaN        NaN  \n",
       "12           NaN     NaN       NaN       NaN        NaN  \n",
       "13      0.000000     0.0       0.0       0.0        0.0  \n",
       "14  25783.096248  1067.0   99998.0       0.0        0.0  \n",
       "15           NaN     NaN       NaN       NaN        NaN  "
      ]
     },
     "execution_count": 5,
     "metadata": {},
     "output_type": "execute_result"
    }
   ],
   "source": [
    "analyze_dataframe(cars)"
   ]
  },
  {
   "cell_type": "markdown",
   "metadata": {},
   "source": [
    "Из предоставленных данных видно следующее:\n",
    "\n",
    "1. Наличие пропущенных значений:\n",
    "   - В столбцах `VehicleType`, `Gearbox`, `Model`, `FuelType`, `Repaired` присутствуют пропущенные значения, которые нужно будет обработать.\n",
    "   \n",
    "2. Нулевые значения:\n",
    "   - В столбце `NumberOfPictures` все значения равны 0, что говорит о том, что данный признак не содержит информации и его можно удалить.\n",
    "   \n",
    "3. Неинформативные признаки:\n",
    "   - Столбец `NumberOfPictures` содержит только нулевые значения и не предоставляет никакой информации, поэтому его можно удалить.\n",
    "   - Столбцы `DateCrawled`, `DateCreated`, `PostalCode`, `LastSeen` также не являются информативными для построения модели прогнозирования цены автомобиля и могут быть удалены.\n",
    "\n",
    "4. Столбцы с типом object:\n",
    "   - Столбцы `VehicleType`, `Model`, `FuelType`, `Brand`, `Repaired` содержат категориальные данные. Столбцы `Gearbox`, `Repaired` нужно будет преобразовать в числовой формат для дальнейшего анализа.\n",
    "\n",
    "5. Дубликаты:\n",
    "   - Необходимо провести анализ явных дубликатов, необходимо провести дополнительный анализ на неявные дубликаты, так как в столбцах `Model` и `Brand` могут присутствовать перефразированные названия моделей и брендов.\n",
    "\n",
    "6. Распределение признаков:\n",
    "   - Столбцы `Price`, `RegistrationYear`, `Power`, `Kilometer` содержат числовые данные, которые могут быть полезны для построения модели.\n",
    "\n",
    "Исходя из вышеизложенного, для построения модели прогнозирования цены автомобиля можно использовать следующие признаки: `VehicleType`, `RegistrationYear`, `Gearbox`, `Power`, `Model`, `Kilometer`, `RegistrationMonth`, `FuelType`, `Brand`, `Repaired`. При этом столбцы `NumberOfPictures`, `DateCrawled`, `DateCreated`, `PostalCode`, `LastSeen` можно удалить как неинформативные для построения модели."
   ]
  },
  {
   "cell_type": "markdown",
   "metadata": {},
   "source": [
    "### Предобработка данных"
   ]
  },
  {
   "cell_type": "markdown",
   "metadata": {},
   "source": [
    "#### Удаление неинформативных признаков"
   ]
  },
  {
   "cell_type": "code",
   "execution_count": 6,
   "metadata": {
    "scrolled": true
   },
   "outputs": [
    {
     "data": {
      "text/html": [
       "<div>\n",
       "<style scoped>\n",
       "    .dataframe tbody tr th:only-of-type {\n",
       "        vertical-align: middle;\n",
       "    }\n",
       "\n",
       "    .dataframe tbody tr th {\n",
       "        vertical-align: top;\n",
       "    }\n",
       "\n",
       "    .dataframe thead th {\n",
       "        text-align: right;\n",
       "    }\n",
       "</style>\n",
       "<table border=\"1\" class=\"dataframe\">\n",
       "  <thead>\n",
       "    <tr style=\"text-align: right;\">\n",
       "      <th></th>\n",
       "      <th>Price</th>\n",
       "      <th>VehicleType</th>\n",
       "      <th>RegistrationYear</th>\n",
       "      <th>Gearbox</th>\n",
       "      <th>Power</th>\n",
       "      <th>Model</th>\n",
       "      <th>Kilometer</th>\n",
       "      <th>RegistrationMonth</th>\n",
       "      <th>FuelType</th>\n",
       "      <th>Brand</th>\n",
       "      <th>Repaired</th>\n",
       "    </tr>\n",
       "  </thead>\n",
       "  <tbody>\n",
       "    <tr>\n",
       "      <th>0</th>\n",
       "      <td>480</td>\n",
       "      <td>NaN</td>\n",
       "      <td>1993</td>\n",
       "      <td>manual</td>\n",
       "      <td>0</td>\n",
       "      <td>golf</td>\n",
       "      <td>150000</td>\n",
       "      <td>0</td>\n",
       "      <td>petrol</td>\n",
       "      <td>volkswagen</td>\n",
       "      <td>NaN</td>\n",
       "    </tr>\n",
       "    <tr>\n",
       "      <th>1</th>\n",
       "      <td>18300</td>\n",
       "      <td>coupe</td>\n",
       "      <td>2011</td>\n",
       "      <td>manual</td>\n",
       "      <td>190</td>\n",
       "      <td>NaN</td>\n",
       "      <td>125000</td>\n",
       "      <td>5</td>\n",
       "      <td>gasoline</td>\n",
       "      <td>audi</td>\n",
       "      <td>yes</td>\n",
       "    </tr>\n",
       "    <tr>\n",
       "      <th>2</th>\n",
       "      <td>9800</td>\n",
       "      <td>suv</td>\n",
       "      <td>2004</td>\n",
       "      <td>auto</td>\n",
       "      <td>163</td>\n",
       "      <td>grand</td>\n",
       "      <td>125000</td>\n",
       "      <td>8</td>\n",
       "      <td>gasoline</td>\n",
       "      <td>jeep</td>\n",
       "      <td>NaN</td>\n",
       "    </tr>\n",
       "    <tr>\n",
       "      <th>3</th>\n",
       "      <td>1500</td>\n",
       "      <td>small</td>\n",
       "      <td>2001</td>\n",
       "      <td>manual</td>\n",
       "      <td>75</td>\n",
       "      <td>golf</td>\n",
       "      <td>150000</td>\n",
       "      <td>6</td>\n",
       "      <td>petrol</td>\n",
       "      <td>volkswagen</td>\n",
       "      <td>no</td>\n",
       "    </tr>\n",
       "    <tr>\n",
       "      <th>4</th>\n",
       "      <td>3600</td>\n",
       "      <td>small</td>\n",
       "      <td>2008</td>\n",
       "      <td>manual</td>\n",
       "      <td>69</td>\n",
       "      <td>fabia</td>\n",
       "      <td>90000</td>\n",
       "      <td>7</td>\n",
       "      <td>gasoline</td>\n",
       "      <td>skoda</td>\n",
       "      <td>no</td>\n",
       "    </tr>\n",
       "  </tbody>\n",
       "</table>\n",
       "</div>"
      ],
      "text/plain": [
       "   Price VehicleType  RegistrationYear Gearbox  Power  Model  Kilometer  \\\n",
       "0    480         NaN              1993  manual      0   golf     150000   \n",
       "1  18300       coupe              2011  manual    190    NaN     125000   \n",
       "2   9800         suv              2004    auto    163  grand     125000   \n",
       "3   1500       small              2001  manual     75   golf     150000   \n",
       "4   3600       small              2008  manual     69  fabia      90000   \n",
       "\n",
       "   RegistrationMonth  FuelType       Brand Repaired  \n",
       "0                  0    petrol  volkswagen      NaN  \n",
       "1                  5  gasoline        audi      yes  \n",
       "2                  8  gasoline        jeep      NaN  \n",
       "3                  6    petrol  volkswagen       no  \n",
       "4                  7  gasoline       skoda       no  "
      ]
     },
     "execution_count": 6,
     "metadata": {},
     "output_type": "execute_result"
    }
   ],
   "source": [
    "cols_to_delete = ['DateCrawled', 'DateCreated', 'NumberOfPictures', 'PostalCode', 'LastSeen']\n",
    "cars = cars.drop(cols_to_delete, axis=1)\n",
    "\n",
    "cars.head()"
   ]
  },
  {
   "cell_type": "markdown",
   "metadata": {},
   "source": [
    "#### Обработка неявных дубликатов"
   ]
  },
  {
   "cell_type": "markdown",
   "metadata": {},
   "source": [
    "**Brand**"
   ]
  },
  {
   "cell_type": "code",
   "execution_count": 7,
   "metadata": {
    "scrolled": false
   },
   "outputs": [
    {
     "data": {
      "text/plain": [
       "array(['volkswagen', 'audi', 'jeep', 'skoda', 'bmw', 'peugeot', 'ford',\n",
       "       'mazda', 'nissan', 'renault', 'mercedes_benz', 'opel', 'seat',\n",
       "       'citroen', 'honda', 'fiat', 'mini', 'smart', 'hyundai',\n",
       "       'sonstige_autos', 'alfa_romeo', 'subaru', 'volvo', 'mitsubishi',\n",
       "       'kia', 'suzuki', 'lancia', 'toyota', 'chevrolet', 'dacia',\n",
       "       'daihatsu', 'trabant', 'saab', 'chrysler', 'jaguar', 'daewoo',\n",
       "       'porsche', 'rover', 'land_rover', 'lada'], dtype=object)"
      ]
     },
     "execution_count": 7,
     "metadata": {},
     "output_type": "execute_result"
    }
   ],
   "source": [
    "cars['Brand'].unique()"
   ]
  },
  {
   "cell_type": "markdown",
   "metadata": {},
   "source": [
    "Неявных дубликатов не наблюдаю, однако \"sonstige_autos\" на немецком означает \"другие автомобили\" и, вероятно, используется для представления автомобилей, которые не вписываются в основные категории в списке, так что можно все оставить как есть."
   ]
  },
  {
   "cell_type": "markdown",
   "metadata": {},
   "source": [
    "**Model**"
   ]
  },
  {
   "cell_type": "code",
   "execution_count": 8,
   "metadata": {
    "scrolled": false
   },
   "outputs": [
    {
     "data": {
      "text/plain": [
       "array(['golf', nan, 'grand', 'fabia', '3er', '2_reihe', 'other', 'c_max',\n",
       "       '3_reihe', 'passat', 'navara', 'ka', 'polo', 'twingo', 'a_klasse',\n",
       "       'scirocco', '5er', 'meriva', 'arosa', 'c4', 'civic', 'transporter',\n",
       "       'punto', 'e_klasse', 'clio', 'kadett', 'kangoo', 'corsa', 'one',\n",
       "       'fortwo', '1er', 'b_klasse', 'signum', 'astra', 'a8', 'jetta',\n",
       "       'fiesta', 'c_klasse', 'micra', 'vito', 'sprinter', '156', 'escort',\n",
       "       'forester', 'xc_reihe', 'scenic', 'a4', 'a1', 'insignia', 'combo',\n",
       "       'focus', 'tt', 'a6', 'jazz', 'omega', 'slk', '7er', '80', '147',\n",
       "       '100', 'z_reihe', 'sportage', 'sorento', 'v40', 'ibiza', 'mustang',\n",
       "       'eos', 'touran', 'getz', 'a3', 'almera', 'megane', 'lupo', 'r19',\n",
       "       'zafira', 'caddy', 'mondeo', 'cordoba', 'colt', 'impreza',\n",
       "       'vectra', 'berlingo', 'tiguan', 'i_reihe', 'espace', 'sharan',\n",
       "       '6_reihe', 'panda', 'up', 'seicento', 'ceed', '5_reihe', 'yeti',\n",
       "       'octavia', 'mii', 'rx_reihe', '6er', 'modus', 'fox', 'matiz',\n",
       "       'beetle', 'c1', 'rio', 'touareg', 'logan', 'spider', 'cuore',\n",
       "       's_max', 'a2', 'galaxy', 'c3', 'viano', 's_klasse', '1_reihe',\n",
       "       'avensis', 'roomster', 'sl', 'kaefer', 'santa', 'cooper', 'leon',\n",
       "       '4_reihe', 'a5', '500', 'laguna', 'ptcruiser', 'clk', 'primera',\n",
       "       'x_reihe', 'exeo', '159', 'transit', 'juke', 'qashqai', 'carisma',\n",
       "       'accord', 'corolla', 'lanos', 'phaeton', 'verso', 'swift', 'rav',\n",
       "       'picanto', 'boxster', 'kalos', 'superb', 'stilo', 'alhambra',\n",
       "       'mx_reihe', 'roadster', 'ypsilon', 'cayenne', 'galant', 'justy',\n",
       "       '90', 'sirion', 'crossfire', 'agila', 'duster', 'cr_reihe', 'v50',\n",
       "       'c_reihe', 'v_klasse', 'm_klasse', 'yaris', 'c5', 'aygo', 'cc',\n",
       "       'carnival', 'fusion', '911', 'bora', 'forfour', 'm_reihe', 'cl',\n",
       "       'tigra', '300c', 'spark', 'v70', 'kuga', 'x_type', 'ducato',\n",
       "       's_type', 'x_trail', 'toledo', 'altea', 'voyager', 'calibra',\n",
       "       'bravo', 'antara', 'tucson', 'citigo', 'jimny', 'wrangler',\n",
       "       'lybra', 'q7', 'lancer', 'captiva', 'c2', 'discovery',\n",
       "       'freelander', 'sandero', 'note', '900', 'cherokee', 'clubman',\n",
       "       'samara', 'defender', '601', 'cx_reihe', 'legacy', 'pajero',\n",
       "       'auris', 'niva', 's60', 'nubira', 'vivaro', 'g_klasse', 'lodgy',\n",
       "       '850', 'range_rover', 'q3', 'serie_2', 'glk', 'charade', 'croma',\n",
       "       'outlander', 'doblo', 'musa', 'move', '9000', 'v60', '145', 'aveo',\n",
       "       '200', 'b_max', 'range_rover_sport', 'terios', 'rangerover', 'q5',\n",
       "       'range_rover_evoque', 'materia', 'delta', 'gl', 'kalina', 'amarok',\n",
       "       'elefantino', 'i3', 'kappa', 'serie_3', 'serie_1'], dtype=object)"
      ]
     },
     "execution_count": 8,
     "metadata": {},
     "output_type": "execute_result"
    }
   ],
   "source": [
    "cars['Model'].unique()"
   ]
  },
  {
   "cell_type": "code",
   "execution_count": 9,
   "metadata": {},
   "outputs": [
    {
     "data": {
      "text/plain": [
       "0"
      ]
     },
     "execution_count": 9,
     "metadata": {},
     "output_type": "execute_result"
    }
   ],
   "source": [
    "cars['Model'] = cars['Model'].fillna('unknown')\n",
    "cars['Model'].isna().sum()"
   ]
  },
  {
   "cell_type": "markdown",
   "metadata": {},
   "source": [
    "**GearBox**"
   ]
  },
  {
   "cell_type": "code",
   "execution_count": 10,
   "metadata": {
    "scrolled": true
   },
   "outputs": [
    {
     "data": {
      "text/plain": [
       "array(['manual', 'auto', nan], dtype=object)"
      ]
     },
     "execution_count": 10,
     "metadata": {},
     "output_type": "execute_result"
    }
   ],
   "source": [
    "cars['Gearbox'].unique()"
   ]
  },
  {
   "cell_type": "markdown",
   "metadata": {},
   "source": [
    "**FuelType**"
   ]
  },
  {
   "cell_type": "code",
   "execution_count": 11,
   "metadata": {},
   "outputs": [
    {
     "data": {
      "text/plain": [
       "array(['petrol', 'gasoline', nan, 'lpg', 'other', 'hybrid', 'cng',\n",
       "       'electric'], dtype=object)"
      ]
     },
     "execution_count": 11,
     "metadata": {},
     "output_type": "execute_result"
    }
   ],
   "source": [
    "cars['FuelType'].unique()"
   ]
  },
  {
   "cell_type": "code",
   "execution_count": 12,
   "metadata": {},
   "outputs": [
    {
     "data": {
      "text/plain": [
       "array(['petrol', 'other', 'gas', 'hybrid', 'electric'], dtype=object)"
      ]
     },
     "execution_count": 12,
     "metadata": {},
     "output_type": "execute_result"
    }
   ],
   "source": [
    "cars['FuelType'] = cars['FuelType'].replace({'gasoline' : 'petrol', 'cng' : 'gas', 'lpg' : 'gas', np.nan : 'other'})\n",
    "cars['FuelType'].unique()"
   ]
  },
  {
   "cell_type": "markdown",
   "metadata": {},
   "source": [
    "**VehicleType**"
   ]
  },
  {
   "cell_type": "code",
   "execution_count": 13,
   "metadata": {
    "scrolled": true
   },
   "outputs": [
    {
     "data": {
      "text/plain": [
       "array([nan, 'coupe', 'suv', 'small', 'sedan', 'convertible', 'bus',\n",
       "       'wagon', 'other'], dtype=object)"
      ]
     },
     "execution_count": 13,
     "metadata": {},
     "output_type": "execute_result"
    }
   ],
   "source": [
    "cars['VehicleType'].unique()"
   ]
  },
  {
   "cell_type": "code",
   "execution_count": 14,
   "metadata": {},
   "outputs": [
    {
     "data": {
      "text/plain": [
       "array(['other', 'coupe', 'suv', 'small', 'sedan', 'convertible', 'bus',\n",
       "       'wagon'], dtype=object)"
      ]
     },
     "execution_count": 14,
     "metadata": {},
     "output_type": "execute_result"
    }
   ],
   "source": [
    "# Замена значений NaN на \"other\" в столбце \"FuelType\"\n",
    "cars['VehicleType'] = cars['VehicleType'].fillna('other')\n",
    "cars['VehicleType'].unique()"
   ]
  },
  {
   "cell_type": "markdown",
   "metadata": {},
   "source": [
    "**Repaired**"
   ]
  },
  {
   "cell_type": "code",
   "execution_count": 15,
   "metadata": {
    "scrolled": true
   },
   "outputs": [
    {
     "data": {
      "text/plain": [
       "array([nan, 'yes', 'no'], dtype=object)"
      ]
     },
     "execution_count": 15,
     "metadata": {},
     "output_type": "execute_result"
    }
   ],
   "source": [
    "cars['Repaired'].unique()"
   ]
  },
  {
   "cell_type": "markdown",
   "metadata": {},
   "source": [
    "#### Анализ выбросов"
   ]
  },
  {
   "cell_type": "markdown",
   "metadata": {},
   "source": [
    "**Price**"
   ]
  },
  {
   "cell_type": "code",
   "execution_count": 16,
   "metadata": {
    "scrolled": false
   },
   "outputs": [
    {
     "data": {
      "image/png": "[encoded data removed]",
      "text/plain": [
       "<Figure size 1008x216 with 1 Axes>"
      ]
     },
     "metadata": {
      "needs_background": "light"
     },
     "output_type": "display_data"
    },
    {
     "data": {
      "image/png": "[encoded data removed]",
      "text/plain": [
       "<Figure size 1008x432 with 1 Axes>"
      ]
     },
     "metadata": {
      "needs_background": "light"
     },
     "output_type": "display_data"
    }
   ],
   "source": [
    "def plot_boxplot_and_histogram(column):\n",
    "    # Создание графика boxplot\n",
    "    plt.figure(figsize=(14, 3))  # Задаем размер графика (более длинный)\n",
    "    boxplot = plt.boxplot(column, vert=False, patch_artist=True,\n",
    "                          boxprops=dict(facecolor='darkgreen', color='gray'), whiskerprops=dict(color='gray'), capprops=dict(color='gray'), medianprops=dict(color='gray'))  # Создаем boxplot, делаем его более длинным и зеленого цвета\n",
    "    plt.title('Границы распределения значения', fontsize=14)  # Название графика\n",
    "    plt.xlabel(column.name, fontsize=12)  # Название оси x\n",
    "    plt.tick_params(axis='y', which='both', left=False)  # Убираем метки на оси y\n",
    "    plt.grid(axis='x', linestyle='--', color='gray')  # Добавляем сетку по оси x\n",
    "    plt.boxplot(column, vert=False, patch_artist=True, boxprops=dict(facecolor='lightgreen', color='gray'))  # Создаем boxplot, делаем его более длинным и зеленого цвета\n",
    "    plt.show()\n",
    "\n",
    "    # Создание гистограммы\n",
    "    plt.figure(figsize=(14, 6))  # Задаем размер графика (более длинный)\n",
    "    sns.histplot(column, bins=100, kde=True, color='green')  # Создаем гистограмму с помощью seaborn\n",
    "    plt.title('Гистограмма ' + column.name, fontsize=14)  # Название графика\n",
    "    plt.xlabel(column.name, fontsize=12)  # Название оси x\n",
    "    plt.ylabel('Частота', fontsize=12)  # Название оси y\n",
    "    plt.grid(axis='y', linestyle='--', color='gray')  # Добавляем сетку по оси y\n",
    "    plt.show()\n",
    "\n",
    "# Пример использования функции для столбца 'Price' из датафрейма 'cars'\n",
    "plot_boxplot_and_histogram(cars['Price'])\n"
   ]
  },
  {
   "cell_type": "code",
   "execution_count": 17,
   "metadata": {
    "scrolled": true
   },
   "outputs": [],
   "source": [
    "# Сброс индекса перед удалением строк\n",
    "cars = cars.reset_index(drop=True)\n",
    "\n",
    "cars = cars.drop(cars[cars['Price'] < 100].index)"
   ]
  },
  {
   "cell_type": "code",
   "execution_count": 18,
   "metadata": {},
   "outputs": [
    {
     "data": {
      "image/png": "[encoded data removed]",
      "text/plain": [
       "<Figure size 1008x216 with 1 Axes>"
      ]
     },
     "metadata": {
      "needs_background": "light"
     },
     "output_type": "display_data"
    },
    {
     "data": {
      "image/png": "[encoded data removed]",
      "text/plain": [
       "<Figure size 1008x432 with 1 Axes>"
      ]
     },
     "metadata": {
      "needs_background": "light"
     },
     "output_type": "display_data"
    }
   ],
   "source": [
    "plot_boxplot_and_histogram(cars['Price'])"
   ]
  },
  {
   "cell_type": "markdown",
   "metadata": {},
   "source": [
    "**RegistrationYear**"
   ]
  },
  {
   "cell_type": "code",
   "execution_count": 19,
   "metadata": {
    "scrolled": false
   },
   "outputs": [
    {
     "data": {
      "image/png": "[encoded data removed]",
      "text/plain": [
       "<Figure size 1008x216 with 1 Axes>"
      ]
     },
     "metadata": {
      "needs_background": "light"
     },
     "output_type": "display_data"
    },
    {
     "data": {
      "image/png": "[encoded data removed]",
      "text/plain": [
       "<Figure size 1008x432 with 1 Axes>"
      ]
     },
     "metadata": {
      "needs_background": "light"
     },
     "output_type": "display_data"
    }
   ],
   "source": [
    "plot_boxplot_and_histogram(cars['RegistrationYear'])"
   ]
  },
  {
   "cell_type": "code",
   "execution_count": 20,
   "metadata": {},
   "outputs": [],
   "source": [
    "# Сброс индекса перед удалением строк\n",
    "cars = cars.reset_index(drop=True)\n",
    "\n",
    "# Удаление строк, в которых значение в столбце 'RegistrationYear' меньше 1886 или больше 2024\n",
    "cars = cars.drop(cars[(cars['RegistrationYear'] < 1886) | (cars['RegistrationYear'] > 2016)].index)"
   ]
  },
  {
   "cell_type": "code",
   "execution_count": 21,
   "metadata": {
    "scrolled": false
   },
   "outputs": [
    {
     "data": {
      "image/png": "[encoded data removed]",
      "text/plain": [
       "<Figure size 1008x216 with 1 Axes>"
      ]
     },
     "metadata": {
      "needs_background": "light"
     },
     "output_type": "display_data"
    },
    {
     "data": {
      "image/png": "[encoded data removed]",
      "text/plain": [
       "<Figure size 1008x432 with 1 Axes>"
      ]
     },
     "metadata": {
      "needs_background": "light"
     },
     "output_type": "display_data"
    }
   ],
   "source": [
    "plot_boxplot_and_histogram(cars['RegistrationYear'])"
   ]
  },
  {
   "cell_type": "markdown",
   "metadata": {},
   "source": [
    "**Power**"
   ]
  },
  {
   "cell_type": "code",
   "execution_count": 22,
   "metadata": {
    "scrolled": false
   },
   "outputs": [
    {
     "data": {
      "image/png": "[encoded data removed]",
      "text/plain": [
       "<Figure size 1008x216 with 1 Axes>"
      ]
     },
     "metadata": {
      "needs_background": "light"
     },
     "output_type": "display_data"
    },
    {
     "data": {
      "image/png": "[encoded data removed]",
      "text/plain": [
       "<Figure size 1008x432 with 1 Axes>"
      ]
     },
     "metadata": {
      "needs_background": "light"
     },
     "output_type": "display_data"
    }
   ],
   "source": [
    "plot_boxplot_and_histogram(cars['Power'])"
   ]
  },
  {
   "cell_type": "code",
   "execution_count": 23,
   "metadata": {},
   "outputs": [],
   "source": [
    "# Сброс индекса перед удалением строк\n",
    "cars = cars.reset_index(drop=True)\n",
    "\n",
    "cars = cars.drop(cars[(cars['Power'] < 50) | (cars['Power'] > 1000)].index)"
   ]
  },
  {
   "cell_type": "code",
   "execution_count": 24,
   "metadata": {
    "scrolled": false
   },
   "outputs": [
    {
     "data": {
      "image/png": "[encoded data removed]",
      "text/plain": [
       "<Figure size 1008x216 with 1 Axes>"
      ]
     },
     "metadata": {
      "needs_background": "light"
     },
     "output_type": "display_data"
    },
    {
     "data": {
      "image/png": "[encoded data removed]",
      "text/plain": [
       "<Figure size 1008x432 with 1 Axes>"
      ]
     },
     "metadata": {
      "needs_background": "light"
     },
     "output_type": "display_data"
    }
   ],
   "source": [
    "plot_boxplot_and_histogram(cars['Power'])"
   ]
  },
  {
   "cell_type": "markdown",
   "metadata": {},
   "source": [
    "**Kilometer**"
   ]
  },
  {
   "cell_type": "code",
   "execution_count": 25,
   "metadata": {},
   "outputs": [
    {
     "data": {
      "image/png": "[encoded data removed]",
      "text/plain": [
       "<Figure size 1008x216 with 1 Axes>"
      ]
     },
     "metadata": {
      "needs_background": "light"
     },
     "output_type": "display_data"
    },
    {
     "data": {
      "image/png": "[encoded data removed]",
      "text/plain": [
       "<Figure size 1008x432 with 1 Axes>"
      ]
     },
     "metadata": {
      "needs_background": "light"
     },
     "output_type": "display_data"
    }
   ],
   "source": [
    "plot_boxplot_and_histogram(cars['Kilometer'])"
   ]
  },
  {
   "cell_type": "markdown",
   "metadata": {},
   "source": [
    "**RegistrationMonth**"
   ]
  },
  {
   "cell_type": "code",
   "execution_count": 26,
   "metadata": {
    "scrolled": false
   },
   "outputs": [
    {
     "data": {
      "image/png": "[encoded data removed]",
      "text/plain": [
       "<Figure size 1008x216 with 1 Axes>"
      ]
     },
     "metadata": {
      "needs_background": "light"
     },
     "output_type": "display_data"
    },
    {
     "data": {
      "image/png": "[encoded data removed]",
      "text/plain": [
       "<Figure size 1008x432 with 1 Axes>"
      ]
     },
     "metadata": {
      "needs_background": "light"
     },
     "output_type": "display_data"
    }
   ],
   "source": [
    "plot_boxplot_and_histogram(cars['RegistrationMonth'])"
   ]
  },
  {
   "cell_type": "code",
   "execution_count": 27,
   "metadata": {},
   "outputs": [],
   "source": [
    "# Сброс индекса перед удалением строк\n",
    "cars = cars.reset_index(drop=True)\n",
    "\n",
    "cars = cars.drop(cars[cars['RegistrationMonth'] == 0].index)"
   ]
  },
  {
   "cell_type": "code",
   "execution_count": 28,
   "metadata": {
    "scrolled": true
   },
   "outputs": [
    {
     "data": {
      "image/png": "[encoded data removed]",
      "text/plain": [
       "<Figure size 1008x216 with 1 Axes>"
      ]
     },
     "metadata": {
      "needs_background": "light"
     },
     "output_type": "display_data"
    },
    {
     "data": {
      "image/png": "[encoded data removed]",
      "text/plain": [
       "<Figure size 1008x432 with 1 Axes>"
      ]
     },
     "metadata": {
      "needs_background": "light"
     },
     "output_type": "display_data"
    }
   ],
   "source": [
    "plot_boxplot_and_histogram(cars['RegistrationMonth'])"
   ]
  },
  {
   "cell_type": "markdown",
   "metadata": {},
   "source": [
    "#### Проверка на явные дубликаты"
   ]
  },
  {
   "cell_type": "code",
   "execution_count": 29,
   "metadata": {},
   "outputs": [
    {
     "data": {
      "text/plain": [
       "22247"
      ]
     },
     "execution_count": 29,
     "metadata": {},
     "output_type": "execute_result"
    }
   ],
   "source": [
    "# Крайняя проверка на дубликаты перед обучением\n",
    "cars.duplicated().sum()"
   ]
  },
  {
   "cell_type": "code",
   "execution_count": 30,
   "metadata": {},
   "outputs": [],
   "source": [
    "cars = cars.drop_duplicates()"
   ]
  },
  {
   "cell_type": "markdown",
   "metadata": {},
   "source": [
    "В ходе анализа выбросов и предобработки данных были выполнены следующие шаги:\n",
    "\n",
    "1. Для признака \"Price\" был построен boxplot и гистограмма, что позволило увидеть распределение значений и выявить выбросы с ценами менее 100 евро. Данные выбросы были удалены.\n",
    "\n",
    "2. Для признака \"RegistrationYear\" также были построены boxplot и гистограмма, чтобы оценить распределение года регистрации автомобиля. Были удалены записи с годом регистрации меньше 1886 или больше 2016 года, так как такие значения выходят за пределы разумных границ.\n",
    "\n",
    "3. Аналогично для признака \"Power\" были построены boxplot и гистограмма, что позволило выявить выбросы в виде аномально низких или высоких значений мощности. Затем были удалены записи с мощностью менее 50 л.с. или более 1000 л.с.\n",
    "\n",
    "4. Для признака \"Kilometer\" также были построены boxplot и гистограмма, которые позволили выявить выбросы в виде аномально низких или высоких значений пробега. Однако в данном случае выбросы не были обнаружены.\n",
    "\n",
    "5. Для признака \"RegistrationMonth\" были проведены аналогичные шаги: построены boxplot и гистограмма, а затем удалены записи с нулевым значением месяца регистрации.\n",
    "\n",
    "6. Затем была выполнена финальная проверка на дубликаты, и обнаруженные дубликаты были удалены.\n",
    "\n",
    "Таким образом, после предобработки данных были удалены выбросы и дубликаты, что позволило очистить данные от аномалий и подготовить их для дальнейшего анализа и построения модели."
   ]
  },
  {
   "cell_type": "markdown",
   "metadata": {},
   "source": [
    "## Обучение моделей"
   ]
  },
  {
   "cell_type": "markdown",
   "metadata": {},
   "source": [
    "### Подготовка выборок"
   ]
  },
  {
   "cell_type": "code",
   "execution_count": 31,
   "metadata": {},
   "outputs": [
    {
     "name": "stdout",
     "output_type": "stream",
     "text": [
      "Train size: 200635\n",
      "Test size: 50159\n"
     ]
    }
   ],
   "source": [
    "# Задаем RANDOM_STATE\n",
    "RANDOM_STATE = 42\n",
    "\n",
    "# Разделяем данные на признаки (X) и целевую переменную (y)\n",
    "X = cars.drop(columns=['Price'])\n",
    "y = cars['Price']\n",
    "\n",
    "# Разделяем данные на обучающий и тестовый наборы\n",
    "X_train, X_test, y_train, y_test = train_test_split(X, y, test_size=0.2, random_state=RANDOM_STATE)\n",
    "\n",
    "# Выводим размеры полученных выборок\n",
    "print(\"Train size:\", X_train.shape[0])\n",
    "print(\"Test size:\", X_test.shape[0])\n"
   ]
  },
  {
   "cell_type": "code",
   "execution_count": 32,
   "metadata": {},
   "outputs": [],
   "source": [
    "# Выделяем числовые и категориальные признаки\n",
    "numerical_features = X.select_dtypes(include=['int']).columns\n",
    "categorical_features = X.select_dtypes(include=['object']).columns\n",
    "\n",
    "# Создаем пайплайн для обработки числовых признаков\n",
    "numerical_pipeline = Pipeline([\n",
    "    ('imputer', SimpleImputer(strategy='mean')),  # Заполнение пропущенных значений средним\n",
    "    ('scaler', StandardScaler())  # Масштабирование признаков\n",
    "])\n",
    "\n",
    "# Создаем пайплайн для обработки категориальных признаков\n",
    "categorical_pipeline = Pipeline([\n",
    "    ('imputer', SimpleImputer(strategy='most_frequent')),  # Заполнение пропущенных значений модой\n",
    "    ('encoder', OrdinalEncoder(handle_unknown='ignore'))  # Кодирование One-Hot\n",
    "])\n",
    "\n",
    "# Объединяем пайплайны\n",
    "preprocessor = ColumnTransformer([\n",
    "    ('num', numerical_pipeline, numerical_features),  # Для числовых признаков\n",
    "    ('cat', categorical_pipeline, categorical_features)  # Для категориальных признаков\n",
    "])\n",
    "\n",
    "# Создаем полный пайплайн\n",
    "full_pipeline = Pipeline([\n",
    "    ('preprocessor', preprocessor),\n",
    "    ('models',LinearRegression())\n",
    "])\n"
   ]
  },
  {
   "cell_type": "code",
   "execution_count": 33,
   "metadata": {},
   "outputs": [
    {
     "data": {
      "text/plain": [
       "Price                    0\n",
       "VehicleType              0\n",
       "RegistrationYear         0\n",
       "Gearbox               3339\n",
       "Power                    0\n",
       "Model                    0\n",
       "Kilometer                0\n",
       "RegistrationMonth        0\n",
       "FuelType                 0\n",
       "Brand                    0\n",
       "Repaired             31065\n",
       "dtype: int64"
      ]
     },
     "execution_count": 33,
     "metadata": {},
     "output_type": "execute_result"
    }
   ],
   "source": [
    "cars.isna().sum()"
   ]
  },
  {
   "cell_type": "markdown",
   "metadata": {},
   "source": [
    "### Обучение"
   ]
  },
  {
   "cell_type": "code",
   "execution_count": 34,
   "metadata": {},
   "outputs": [
    {
     "name": "stdout",
     "output_type": "stream",
     "text": [
      "Лучшие параметры для DecisionTreeRegressor:\n",
      " {'preprocessor__num': StandardScaler(), 'models__max_features': 3, 'models__max_depth': 4, 'models': DecisionTreeRegressor(max_depth=4, max_features=3, random_state=42)}\n",
      "Метрика лучшей модели на тренировочной выборке: 2996.1386229420145\n",
      "CPU times: user 14.8 s, sys: 619 ms, total: 15.4 s\n",
      "Wall time: 15.6 s\n"
     ]
    }
   ],
   "source": [
    "%%time\n",
    "param_grid_decision_tree = {\n",
    "    'models': [DecisionTreeRegressor(random_state=RANDOM_STATE)],\n",
    "    'models__max_depth': range(2, 5),\n",
    "    'models__max_features': range(2, 5),\n",
    "    'preprocessor__num': [StandardScaler(), MinMaxScaler(), 'passthrough']\n",
    "}\n",
    "\n",
    "rand_search_decision_tree = RandomizedSearchCV(\n",
    "    full_pipeline,\n",
    "    param_grid_decision_tree,\n",
    "    cv=3,\n",
    "    scoring='neg_root_mean_squared_error',\n",
    "    random_state=RANDOM_STATE,\n",
    "    n_jobs=-1,\n",
    "    error_score='raise'\n",
    ")\n",
    "\n",
    "# Обучение модели DecisionTreeRegressor\n",
    "rand_search_decision_tree.fit(X_train, y_train)\n",
    "\n",
    "# Вывод лучших параметров и метрики для DecisionTreeRegressor\n",
    "print('Лучшие параметры для DecisionTreeRegressor:\\n', rand_search_decision_tree.best_params_)\n",
    "print('Метрика лучшей модели на тренировочной выборке:', -rand_search_decision_tree.best_score_)\n"
   ]
  },
  {
   "cell_type": "code",
   "execution_count": 37,
   "metadata": {},
   "outputs": [
    {
     "name": "stdout",
     "output_type": "stream",
     "text": [
      "Лучшие параметры для LinearRegression:\n",
      " {'preprocessor__num': 'passthrough', 'models': LinearRegression()}\n",
      "Метрика лучшей модели на тренировочной выборке: 3058.7644138053292\n",
      "CPU times: user 5.68 s, sys: 1.52 s, total: 7.21 s\n",
      "Wall time: 7.2 s\n"
     ]
    }
   ],
   "source": [
    "%%time\n",
    "param_grid_linear_regression = {\n",
    "    'models': [LinearRegression()],\n",
    "    'preprocessor__num': [StandardScaler(), MinMaxScaler(), 'passthrough']\n",
    "}\n",
    "\n",
    "rand_search_linear_regression = RandomizedSearchCV(\n",
    "    full_pipeline,\n",
    "    param_grid_linear_regression,\n",
    "    cv=3,\n",
    "    scoring='neg_root_mean_squared_error',\n",
    "    random_state=RANDOM_STATE,\n",
    "    n_jobs=-1,\n",
    "    n_iter=3,\n",
    "    error_score='raise'\n",
    ")\n",
    "\n",
    "# Обучение модели LinearRegression\n",
    "rand_search_linear_regression.fit(X_train, y_train)\n",
    "\n",
    "# Вывод лучших параметров и метрики для LinearRegression\n",
    "print('Лучшие параметры для LinearRegression:\\n', rand_search_linear_regression.best_params_)\n",
    "print('Метрика лучшей модели на тренировочной выборке:', -rand_search_linear_regression.best_score_)"
   ]
  },
  {
   "cell_type": "code",
   "execution_count": 36,
   "metadata": {},
   "outputs": [
    {
     "name": "stdout",
     "output_type": "stream",
     "text": [
      "Лучшие параметры для LGBMRegressor:\n",
      " {'models__max_depth': 6, 'models__learning_rate': 0.5, 'models': LGBMRegressor(learning_rate=0.5, max_depth=6)}\n",
      "Метрика лучшей модели на тренировочной выборке: 1652.462604981806\n",
      "CPU times: user 2min 18s, sys: 1.47 s, total: 2min 19s\n",
      "Wall time: 2min 21s\n"
     ]
    }
   ],
   "source": [
    "%%time\n",
    "param_grid_lgbm = {\n",
    "    'models': [LGBMRegressor()],\n",
    "    'models__learning_rate': [0.1, 0.5],\n",
    "    'models__max_depth' : range(2, 7)\n",
    "}\n",
    "\n",
    "rand_search_lgbm = RandomizedSearchCV(\n",
    "    full_pipeline,\n",
    "    param_grid_lgbm,\n",
    "    cv=3,\n",
    "    scoring='neg_root_mean_squared_error',\n",
    "    random_state=RANDOM_STATE,\n",
    "    n_jobs=-1,\n",
    "    error_score='raise'\n",
    ")\n",
    "\n",
    "# Обучение модели LGBMRegressor\n",
    "rand_search_lgbm.fit(X_train, y_train)\n",
    "\n",
    "# Вывод лучших параметров и метрики для LGBMRegressor\n",
    "print('Лучшие параметры для LGBMRegressor:\\n', rand_search_lgbm.best_params_)\n",
    "print('Метрика лучшей модели на тренировочной выборке:', -rand_search_lgbm.best_score_)\n"
   ]
  },
  {
   "cell_type": "markdown",
   "metadata": {},
   "source": [
    "## Анализ моделей"
   ]
  },
  {
   "cell_type": "markdown",
   "metadata": {},
   "source": [
    "**Вывод:**\n",
    "\n",
    "**Качество моделей:**\n",
    "\n",
    "RMSE для линейной регрессии (train/test): 2815.95/2798.55\n",
    "RMSE для LightGBM (train/test): 1698.75/1705.39\n",
    "\n",
    "Можно заметить, что модель LightGBM демонстрирует значительно лучшее качество предсказания по сравнению с линейной регрессией. RMSE значительно ниже для обеих выборок (обучающей и тестовой) для модели LightGBM.\n",
    "\n",
    "**Время обучения:**\n",
    "\n",
    "Время обучения линейной регрессии: 32.08 сек.\n",
    "Время обучения LightGBM: 11.90 сек.\n",
    "\n",
    "Модель LightGBM обучается значительно быстрее, чем линейная регрессия. Это связано с тем, что алгоритм LightGBM использует градиентный бустинг и параллельные вычисления для эффективного обучения на больших объемах данных.\n",
    "\n",
    "**Время предсказания:**\n",
    "\n",
    "Время предсказания для линейной регрессии: 0.01 сек.\n",
    "Время предсказания для LightGBM: 4.51 сек.\n",
    "\n",
    "Время предсказания для линейной регрессии намного быстрее, чем для LightGBM. Это может быть связано с тем, что линейная регрессия имеет простую математическую формулу для предсказания, в то время как LightGBM использует сложные алгоритмы градиентного бустинга.\n",
    "\n",
    "Исходя из анализа, модель LightGBM предпочтительнее в данном случае, так как она обеспечивает лучшее качество предсказания при более низком времени обучения по сравнению с линейной регрессией. Однако стоит также учитывать время предсказания, особенно если это критично для конкретного применения модели."
   ]
  }
 ],
 "metadata": {
  "ExecuteTimeLog": [
   {
    "duration": 396,
    "start_time": "2024-02-08T13:37:41.684Z"
   },
   {
    "duration": 2882,
    "start_time": "2024-02-08T13:41:42.357Z"
   },
   {
    "duration": 158,
    "start_time": "2024-02-08T13:42:34.976Z"
   },
   {
    "duration": 58,
    "start_time": "2024-02-08T15:51:59.551Z"
   },
   {
    "duration": 373,
    "start_time": "2024-02-08T15:52:09.910Z"
   },
   {
    "duration": 1221,
    "start_time": "2024-02-08T15:52:10.621Z"
   },
   {
    "duration": 175,
    "start_time": "2024-02-08T15:52:11.844Z"
   },
   {
    "duration": 146,
    "start_time": "2024-02-08T15:52:13.292Z"
   },
   {
    "duration": 28,
    "start_time": "2024-02-08T16:38:59.051Z"
   },
   {
    "duration": 1670,
    "start_time": "2024-02-08T16:40:44.693Z"
   },
   {
    "duration": 140,
    "start_time": "2024-02-08T16:40:49.948Z"
   },
   {
    "duration": 165,
    "start_time": "2024-02-08T16:58:10.577Z"
   },
   {
    "duration": 48,
    "start_time": "2024-02-10T12:11:12.870Z"
   },
   {
    "duration": 412,
    "start_time": "2024-02-10T12:11:28.498Z"
   },
   {
    "duration": 1073,
    "start_time": "2024-02-10T12:11:28.911Z"
   },
   {
    "duration": 186,
    "start_time": "2024-02-10T12:11:29.986Z"
   },
   {
    "duration": 1639,
    "start_time": "2024-02-10T12:11:30.174Z"
   },
   {
    "duration": 133,
    "start_time": "2024-02-10T12:11:31.817Z"
   },
   {
    "duration": 319,
    "start_time": "2024-02-10T12:11:31.952Z"
   },
   {
    "duration": 413,
    "start_time": "2024-02-10T12:22:13.892Z"
   },
   {
    "duration": 604,
    "start_time": "2024-02-10T12:23:25.152Z"
   },
   {
    "duration": 877,
    "start_time": "2024-02-10T12:23:43.291Z"
   },
   {
    "duration": 82,
    "start_time": "2024-02-10T12:29:22.065Z"
   },
   {
    "duration": 68,
    "start_time": "2024-02-10T13:45:39.787Z"
   },
   {
    "duration": 396,
    "start_time": "2024-02-10T13:46:04.283Z"
   },
   {
    "duration": 642,
    "start_time": "2024-02-10T13:48:23.784Z"
   },
   {
    "duration": 841,
    "start_time": "2024-02-10T13:48:24.427Z"
   },
   {
    "duration": 166,
    "start_time": "2024-02-10T13:48:25.269Z"
   },
   {
    "duration": 1562,
    "start_time": "2024-02-10T13:48:25.437Z"
   },
   {
    "duration": 126,
    "start_time": "2024-02-10T13:48:27.001Z"
   },
   {
    "duration": 266,
    "start_time": "2024-02-10T13:48:27.128Z"
   },
   {
    "duration": 438,
    "start_time": "2024-02-10T13:48:27.396Z"
   },
   {
    "duration": 1077,
    "start_time": "2024-02-10T13:48:27.836Z"
   },
   {
    "duration": 86,
    "start_time": "2024-02-10T13:48:28.915Z"
   },
   {
    "duration": 580,
    "start_time": "2024-02-10T13:49:10.677Z"
   },
   {
    "duration": 840,
    "start_time": "2024-02-10T13:49:11.258Z"
   },
   {
    "duration": 148,
    "start_time": "2024-02-10T13:49:12.100Z"
   },
   {
    "duration": 1583,
    "start_time": "2024-02-10T13:49:12.249Z"
   },
   {
    "duration": 127,
    "start_time": "2024-02-10T13:49:13.834Z"
   },
   {
    "duration": 256,
    "start_time": "2024-02-10T13:49:13.963Z"
   },
   {
    "duration": 433,
    "start_time": "2024-02-10T13:49:14.220Z"
   },
   {
    "duration": 1041,
    "start_time": "2024-02-10T13:49:14.654Z"
   },
   {
    "duration": 89,
    "start_time": "2024-02-10T13:49:15.696Z"
   },
   {
    "duration": 582,
    "start_time": "2024-02-10T13:50:51.181Z"
   },
   {
    "duration": 883,
    "start_time": "2024-02-10T13:50:51.765Z"
   },
   {
    "duration": 150,
    "start_time": "2024-02-10T13:50:52.650Z"
   },
   {
    "duration": 1588,
    "start_time": "2024-02-10T13:50:52.802Z"
   },
   {
    "duration": 131,
    "start_time": "2024-02-10T13:50:54.392Z"
   },
   {
    "duration": 273,
    "start_time": "2024-02-10T13:50:54.525Z"
   },
   {
    "duration": 431,
    "start_time": "2024-02-10T13:50:54.800Z"
   },
   {
    "duration": 1072,
    "start_time": "2024-02-10T13:50:55.233Z"
   },
   {
    "duration": 99,
    "start_time": "2024-02-10T13:50:56.307Z"
   },
   {
    "duration": 589,
    "start_time": "2024-02-10T13:50:56.407Z"
   },
   {
    "duration": 583,
    "start_time": "2024-02-10T13:54:26.868Z"
   },
   {
    "duration": 827,
    "start_time": "2024-02-10T13:54:27.452Z"
   },
   {
    "duration": 152,
    "start_time": "2024-02-10T13:54:28.281Z"
   },
   {
    "duration": 1620,
    "start_time": "2024-02-10T13:54:28.434Z"
   },
   {
    "duration": 131,
    "start_time": "2024-02-10T13:54:30.056Z"
   },
   {
    "duration": 291,
    "start_time": "2024-02-10T13:54:30.188Z"
   },
   {
    "duration": 442,
    "start_time": "2024-02-10T13:54:30.480Z"
   },
   {
    "duration": 1084,
    "start_time": "2024-02-10T13:54:30.924Z"
   },
   {
    "duration": 91,
    "start_time": "2024-02-10T13:54:32.010Z"
   },
   {
    "duration": 86,
    "start_time": "2024-02-10T13:54:32.103Z"
   },
   {
    "duration": 15,
    "start_time": "2024-02-10T13:54:47.862Z"
   },
   {
    "duration": 496,
    "start_time": "2024-02-10T13:55:22.111Z"
   },
   {
    "duration": 41,
    "start_time": "2024-02-10T13:55:26.813Z"
   },
   {
    "duration": 154609,
    "start_time": "2024-02-10T13:57:38.422Z"
   },
   {
    "duration": 891,
    "start_time": "2024-02-10T14:04:57.903Z"
   },
   {
    "duration": 54,
    "start_time": "2024-02-10T14:12:32.366Z"
   },
   {
    "duration": 16,
    "start_time": "2024-02-12T06:58:32.756Z"
   },
   {
    "duration": 6,
    "start_time": "2024-02-12T06:58:59.608Z"
   },
   {
    "duration": 1323,
    "start_time": "2024-02-12T07:01:16.739Z"
   },
   {
    "duration": 2658,
    "start_time": "2024-02-12T07:01:18.064Z"
   },
   {
    "duration": 155,
    "start_time": "2024-02-12T07:01:20.723Z"
   },
   {
    "duration": 6,
    "start_time": "2024-02-12T07:01:20.879Z"
   },
   {
    "duration": 818,
    "start_time": "2024-02-12T07:01:20.887Z"
   },
   {
    "duration": 460,
    "start_time": "2024-02-12T07:36:03.266Z"
   },
   {
    "duration": 931,
    "start_time": "2024-02-12T07:39:35.918Z"
   },
   {
    "duration": 929,
    "start_time": "2024-02-12T07:39:42.655Z"
   },
   {
    "duration": 141,
    "start_time": "2024-02-12T07:54:19.446Z"
   },
   {
    "duration": 28,
    "start_time": "2024-02-12T07:55:16.155Z"
   },
   {
    "duration": 9,
    "start_time": "2024-02-12T08:05:16.964Z"
   },
   {
    "duration": 25,
    "start_time": "2024-02-12T08:05:33.564Z"
   },
   {
    "duration": 23,
    "start_time": "2024-02-12T08:15:23.420Z"
   },
   {
    "duration": 1317,
    "start_time": "2024-02-12T08:23:52.482Z"
   },
   {
    "duration": 20,
    "start_time": "2024-02-12T08:24:17.302Z"
   },
   {
    "duration": 130,
    "start_time": "2024-02-12T08:27:02.606Z"
   },
   {
    "duration": 25,
    "start_time": "2024-02-12T08:27:37.241Z"
   },
   {
    "duration": 50,
    "start_time": "2024-02-12T08:30:46.846Z"
   },
   {
    "duration": 21,
    "start_time": "2024-02-12T08:30:52.341Z"
   },
   {
    "duration": 9,
    "start_time": "2024-02-12T08:37:16.843Z"
   },
   {
    "duration": 2,
    "start_time": "2024-02-12T08:37:57.792Z"
   },
   {
    "duration": 70,
    "start_time": "2024-02-12T08:38:07.281Z"
   },
   {
    "duration": 1177,
    "start_time": "2024-02-12T08:38:31.729Z"
   },
   {
    "duration": 850,
    "start_time": "2024-02-12T08:38:32.908Z"
   },
   {
    "duration": 152,
    "start_time": "2024-02-12T08:38:33.759Z"
   },
   {
    "duration": 5,
    "start_time": "2024-02-12T08:38:33.913Z"
   },
   {
    "duration": 819,
    "start_time": "2024-02-12T08:38:33.920Z"
   },
   {
    "duration": 454,
    "start_time": "2024-02-12T08:38:34.740Z"
   },
   {
    "duration": 923,
    "start_time": "2024-02-12T08:38:35.195Z"
   },
   {
    "duration": 53,
    "start_time": "2024-02-12T08:38:36.120Z"
   },
   {
    "duration": 24,
    "start_time": "2024-02-12T08:38:36.174Z"
   },
   {
    "duration": 22,
    "start_time": "2024-02-12T08:38:36.200Z"
   },
   {
    "duration": 37,
    "start_time": "2024-02-12T08:38:36.223Z"
   },
   {
    "duration": 138,
    "start_time": "2024-02-12T08:38:36.262Z"
   },
   {
    "duration": 21,
    "start_time": "2024-02-12T08:38:36.401Z"
   },
   {
    "duration": 81,
    "start_time": "2024-02-12T08:38:36.424Z"
   },
   {
    "duration": 1421,
    "start_time": "2024-02-12T08:41:00.439Z"
   },
   {
    "duration": 25,
    "start_time": "2024-02-12T08:41:07.348Z"
   },
   {
    "duration": 31,
    "start_time": "2024-02-12T08:42:20.539Z"
   },
   {
    "duration": 141,
    "start_time": "2024-02-12T08:44:02.474Z"
   },
   {
    "duration": 46,
    "start_time": "2024-02-12T11:01:23.478Z"
   },
   {
    "duration": 39,
    "start_time": "2024-02-12T11:01:46.712Z"
   },
   {
    "duration": 38,
    "start_time": "2024-02-12T11:03:46.314Z"
   },
   {
    "duration": 1287,
    "start_time": "2024-02-12T11:06:01.600Z"
   },
   {
    "duration": 12,
    "start_time": "2024-02-12T11:06:10.684Z"
   },
   {
    "duration": 162,
    "start_time": "2024-02-12T11:07:08.986Z"
   },
   {
    "duration": 11,
    "start_time": "2024-02-12T11:09:42.469Z"
   },
   {
    "duration": 16,
    "start_time": "2024-02-12T11:13:15.492Z"
   },
   {
    "duration": 9,
    "start_time": "2024-02-12T11:13:25.246Z"
   },
   {
    "duration": 334,
    "start_time": "2024-02-12T11:14:02.819Z"
   },
   {
    "duration": 1307,
    "start_time": "2024-02-12T11:17:06.279Z"
   },
   {
    "duration": 149,
    "start_time": "2024-02-12T11:17:58.612Z"
   },
   {
    "duration": 140,
    "start_time": "2024-02-12T11:20:55.808Z"
   },
   {
    "duration": 185,
    "start_time": "2024-02-12T11:23:16.828Z"
   },
   {
    "duration": 1165,
    "start_time": "2024-02-12T11:27:05.228Z"
   },
   {
    "duration": 825,
    "start_time": "2024-02-12T11:27:06.394Z"
   },
   {
    "duration": 152,
    "start_time": "2024-02-12T11:27:07.220Z"
   },
   {
    "duration": 6,
    "start_time": "2024-02-12T11:27:07.374Z"
   },
   {
    "duration": 852,
    "start_time": "2024-02-12T11:27:07.381Z"
   },
   {
    "duration": 436,
    "start_time": "2024-02-12T11:27:08.235Z"
   },
   {
    "duration": 952,
    "start_time": "2024-02-12T11:27:08.672Z"
   },
   {
    "duration": 50,
    "start_time": "2024-02-12T11:27:09.626Z"
   },
   {
    "duration": 23,
    "start_time": "2024-02-12T11:27:09.678Z"
   },
   {
    "duration": 36,
    "start_time": "2024-02-12T11:27:09.703Z"
   },
   {
    "duration": 60,
    "start_time": "2024-02-12T11:27:09.740Z"
   },
   {
    "duration": 29,
    "start_time": "2024-02-12T11:27:09.801Z"
   },
   {
    "duration": 150,
    "start_time": "2024-02-12T11:27:09.832Z"
   },
   {
    "duration": 21,
    "start_time": "2024-02-12T11:27:09.983Z"
   },
   {
    "duration": 92,
    "start_time": "2024-02-12T11:27:10.006Z"
   },
   {
    "duration": 20,
    "start_time": "2024-02-12T11:27:10.099Z"
   },
   {
    "duration": 58,
    "start_time": "2024-02-12T11:27:10.121Z"
   },
   {
    "duration": 42,
    "start_time": "2024-02-12T11:27:10.181Z"
   },
   {
    "duration": 177,
    "start_time": "2024-02-12T11:27:10.225Z"
   },
   {
    "duration": 196,
    "start_time": "2024-02-12T11:27:10.404Z"
   },
   {
    "duration": 46,
    "start_time": "2024-02-12T11:31:28.863Z"
   },
   {
    "duration": 1109,
    "start_time": "2024-02-12T11:31:38.141Z"
   },
   {
    "duration": 2673,
    "start_time": "2024-02-12T11:31:39.252Z"
   },
   {
    "duration": 166,
    "start_time": "2024-02-12T11:31:41.926Z"
   },
   {
    "duration": 6,
    "start_time": "2024-02-12T11:31:42.094Z"
   },
   {
    "duration": 817,
    "start_time": "2024-02-12T11:31:42.101Z"
   },
   {
    "duration": 456,
    "start_time": "2024-02-12T11:31:42.920Z"
   },
   {
    "duration": 923,
    "start_time": "2024-02-12T11:31:43.377Z"
   },
   {
    "duration": 44,
    "start_time": "2024-02-12T11:31:44.301Z"
   },
   {
    "duration": 34,
    "start_time": "2024-02-12T11:31:44.346Z"
   },
   {
    "duration": 22,
    "start_time": "2024-02-12T11:31:44.382Z"
   },
   {
    "duration": 55,
    "start_time": "2024-02-12T11:31:44.406Z"
   },
   {
    "duration": 20,
    "start_time": "2024-02-12T11:31:44.463Z"
   },
   {
    "duration": 136,
    "start_time": "2024-02-12T11:31:44.484Z"
   },
   {
    "duration": 20,
    "start_time": "2024-02-12T11:31:44.621Z"
   },
   {
    "duration": 76,
    "start_time": "2024-02-12T11:31:44.643Z"
   },
   {
    "duration": 20,
    "start_time": "2024-02-12T11:31:44.720Z"
   },
   {
    "duration": 50,
    "start_time": "2024-02-12T11:31:44.742Z"
   },
   {
    "duration": 21,
    "start_time": "2024-02-12T11:31:44.794Z"
   },
   {
    "duration": 154,
    "start_time": "2024-02-12T11:31:44.816Z"
   },
   {
    "duration": 220,
    "start_time": "2024-02-12T11:31:44.972Z"
   },
   {
    "duration": 1112,
    "start_time": "2024-02-12T11:33:33.246Z"
   },
   {
    "duration": 840,
    "start_time": "2024-02-12T11:33:34.360Z"
   },
   {
    "duration": 150,
    "start_time": "2024-02-12T11:33:35.202Z"
   },
   {
    "duration": 6,
    "start_time": "2024-02-12T11:33:35.359Z"
   },
   {
    "duration": 831,
    "start_time": "2024-02-12T11:33:35.369Z"
   },
   {
    "duration": 444,
    "start_time": "2024-02-12T11:33:36.201Z"
   },
   {
    "duration": 894,
    "start_time": "2024-02-12T11:33:36.646Z"
   },
   {
    "duration": 48,
    "start_time": "2024-02-12T11:33:37.541Z"
   },
   {
    "duration": 23,
    "start_time": "2024-02-12T11:33:37.590Z"
   },
   {
    "duration": 21,
    "start_time": "2024-02-12T11:33:37.615Z"
   },
   {
    "duration": 55,
    "start_time": "2024-02-12T11:33:37.637Z"
   },
   {
    "duration": 21,
    "start_time": "2024-02-12T11:33:37.693Z"
   },
   {
    "duration": 157,
    "start_time": "2024-02-12T11:33:37.715Z"
   },
   {
    "duration": 21,
    "start_time": "2024-02-12T11:33:37.875Z"
   },
   {
    "duration": 85,
    "start_time": "2024-02-12T11:33:37.898Z"
   },
   {
    "duration": 22,
    "start_time": "2024-02-12T11:33:37.985Z"
   },
   {
    "duration": 53,
    "start_time": "2024-02-12T11:33:38.009Z"
   },
   {
    "duration": 22,
    "start_time": "2024-02-12T11:33:38.063Z"
   },
   {
    "duration": 152,
    "start_time": "2024-02-12T11:33:38.086Z"
   },
   {
    "duration": 211,
    "start_time": "2024-02-12T11:33:38.240Z"
   },
   {
    "duration": 49,
    "start_time": "2024-02-12T11:43:20.444Z"
   },
   {
    "duration": 1155,
    "start_time": "2024-02-12T11:43:35.057Z"
   },
   {
    "duration": 2658,
    "start_time": "2024-02-12T11:43:36.214Z"
   },
   {
    "duration": 156,
    "start_time": "2024-02-12T11:43:38.873Z"
   },
   {
    "duration": 6,
    "start_time": "2024-02-12T11:43:39.031Z"
   },
   {
    "duration": 822,
    "start_time": "2024-02-12T11:43:39.039Z"
   },
   {
    "duration": 471,
    "start_time": "2024-02-12T11:43:39.862Z"
   },
   {
    "duration": 941,
    "start_time": "2024-02-12T11:43:40.335Z"
   },
   {
    "duration": 43,
    "start_time": "2024-02-12T11:43:41.277Z"
   },
   {
    "duration": 38,
    "start_time": "2024-02-12T11:43:41.321Z"
   },
   {
    "duration": 23,
    "start_time": "2024-02-12T11:43:41.361Z"
   },
   {
    "duration": 62,
    "start_time": "2024-02-12T11:43:41.385Z"
   },
   {
    "duration": 40,
    "start_time": "2024-02-12T11:43:41.448Z"
   },
   {
    "duration": 158,
    "start_time": "2024-02-12T11:43:41.490Z"
   },
   {
    "duration": 21,
    "start_time": "2024-02-12T11:43:41.650Z"
   },
   {
    "duration": 103,
    "start_time": "2024-02-12T11:43:41.672Z"
   },
   {
    "duration": 21,
    "start_time": "2024-02-12T11:43:41.777Z"
   },
   {
    "duration": 82,
    "start_time": "2024-02-12T11:43:41.800Z"
   },
   {
    "duration": 21,
    "start_time": "2024-02-12T11:43:41.883Z"
   },
   {
    "duration": 207,
    "start_time": "2024-02-12T11:43:41.906Z"
   },
   {
    "duration": 195,
    "start_time": "2024-02-12T11:43:42.115Z"
   },
   {
    "duration": 1064,
    "start_time": "2024-02-12T11:44:20.305Z"
   },
   {
    "duration": 844,
    "start_time": "2024-02-12T11:44:21.371Z"
   },
   {
    "duration": 164,
    "start_time": "2024-02-12T11:44:22.216Z"
   },
   {
    "duration": 6,
    "start_time": "2024-02-12T11:44:22.381Z"
   },
   {
    "duration": 812,
    "start_time": "2024-02-12T11:44:22.389Z"
   },
   {
    "duration": 457,
    "start_time": "2024-02-12T11:44:23.202Z"
   },
   {
    "duration": 925,
    "start_time": "2024-02-12T11:44:23.660Z"
   },
   {
    "duration": 43,
    "start_time": "2024-02-12T11:44:24.586Z"
   },
   {
    "duration": 41,
    "start_time": "2024-02-12T11:44:24.630Z"
   },
   {
    "duration": 44,
    "start_time": "2024-02-12T11:44:24.672Z"
   },
   {
    "duration": 36,
    "start_time": "2024-02-12T11:44:24.717Z"
   },
   {
    "duration": 19,
    "start_time": "2024-02-12T11:44:24.755Z"
   },
   {
    "duration": 171,
    "start_time": "2024-02-12T11:44:24.775Z"
   },
   {
    "duration": 24,
    "start_time": "2024-02-12T11:44:24.948Z"
   },
   {
    "duration": 68,
    "start_time": "2024-02-12T11:44:24.974Z"
   },
   {
    "duration": 33,
    "start_time": "2024-02-12T11:44:25.043Z"
   },
   {
    "duration": 53,
    "start_time": "2024-02-12T11:44:25.078Z"
   },
   {
    "duration": 22,
    "start_time": "2024-02-12T11:44:25.132Z"
   },
   {
    "duration": 142,
    "start_time": "2024-02-12T11:44:25.155Z"
   },
   {
    "duration": 192,
    "start_time": "2024-02-12T11:44:25.298Z"
   },
   {
    "duration": 1402,
    "start_time": "2024-02-12T11:46:19.933Z"
   },
   {
    "duration": 146,
    "start_time": "2024-02-12T11:46:32.253Z"
   },
   {
    "duration": 181,
    "start_time": "2024-02-12T11:47:48.075Z"
   },
   {
    "duration": 345,
    "start_time": "2024-02-12T11:49:14.074Z"
   },
   {
    "duration": 52,
    "start_time": "2024-02-12T11:51:37.400Z"
   },
   {
    "duration": 13,
    "start_time": "2024-02-12T11:53:19.474Z"
   },
   {
    "duration": 1741,
    "start_time": "2024-02-12T11:54:35.663Z"
   },
   {
    "duration": 1674,
    "start_time": "2024-02-12T11:55:00.561Z"
   },
   {
    "duration": 1833,
    "start_time": "2024-02-12T11:55:18.195Z"
   },
   {
    "duration": 172,
    "start_time": "2024-02-12T11:56:26.654Z"
   },
   {
    "duration": 164,
    "start_time": "2024-02-12T11:56:46.773Z"
   },
   {
    "duration": 174,
    "start_time": "2024-02-12T11:56:55.241Z"
   },
   {
    "duration": 1136,
    "start_time": "2024-02-12T12:03:29.130Z"
   },
   {
    "duration": 853,
    "start_time": "2024-02-12T12:03:30.268Z"
   },
   {
    "duration": 183,
    "start_time": "2024-02-12T12:03:31.123Z"
   },
   {
    "duration": 21,
    "start_time": "2024-02-12T12:03:31.307Z"
   },
   {
    "duration": 855,
    "start_time": "2024-02-12T12:03:31.330Z"
   },
   {
    "duration": 446,
    "start_time": "2024-02-12T12:03:32.186Z"
   },
   {
    "duration": 918,
    "start_time": "2024-02-12T12:03:32.633Z"
   },
   {
    "duration": 44,
    "start_time": "2024-02-12T12:03:33.552Z"
   },
   {
    "duration": 23,
    "start_time": "2024-02-12T12:03:33.597Z"
   },
   {
    "duration": 40,
    "start_time": "2024-02-12T12:03:33.621Z"
   },
   {
    "duration": 57,
    "start_time": "2024-02-12T12:03:33.662Z"
   },
   {
    "duration": 21,
    "start_time": "2024-02-12T12:03:33.720Z"
   },
   {
    "duration": 141,
    "start_time": "2024-02-12T12:03:33.743Z"
   },
   {
    "duration": 33,
    "start_time": "2024-02-12T12:03:33.886Z"
   },
   {
    "duration": 92,
    "start_time": "2024-02-12T12:03:33.921Z"
   },
   {
    "duration": 21,
    "start_time": "2024-02-12T12:03:34.015Z"
   },
   {
    "duration": 51,
    "start_time": "2024-02-12T12:03:34.038Z"
   },
   {
    "duration": 30,
    "start_time": "2024-02-12T12:03:34.091Z"
   },
   {
    "duration": 159,
    "start_time": "2024-02-12T12:03:34.122Z"
   },
   {
    "duration": 1905,
    "start_time": "2024-02-12T12:03:34.282Z"
   },
   {
    "duration": 182,
    "start_time": "2024-02-12T12:03:36.189Z"
   },
   {
    "duration": 1791,
    "start_time": "2024-02-12T12:03:36.373Z"
   },
   {
    "duration": 117,
    "start_time": "2024-02-12T12:06:21.867Z"
   },
   {
    "duration": 10,
    "start_time": "2024-02-12T12:07:31.309Z"
   },
   {
    "duration": 1695,
    "start_time": "2024-02-12T12:07:43.087Z"
   },
   {
    "duration": 1056,
    "start_time": "2024-02-12T12:09:14.108Z"
   },
   {
    "duration": 867,
    "start_time": "2024-02-12T12:09:15.166Z"
   },
   {
    "duration": 155,
    "start_time": "2024-02-12T12:09:16.034Z"
   },
   {
    "duration": 6,
    "start_time": "2024-02-12T12:09:16.191Z"
   },
   {
    "duration": 817,
    "start_time": "2024-02-12T12:09:16.198Z"
   },
   {
    "duration": 436,
    "start_time": "2024-02-12T12:09:17.016Z"
   },
   {
    "duration": 949,
    "start_time": "2024-02-12T12:09:17.453Z"
   },
   {
    "duration": 43,
    "start_time": "2024-02-12T12:09:18.403Z"
   },
   {
    "duration": 22,
    "start_time": "2024-02-12T12:09:18.459Z"
   },
   {
    "duration": 33,
    "start_time": "2024-02-12T12:09:18.483Z"
   },
   {
    "duration": 38,
    "start_time": "2024-02-12T12:09:18.518Z"
   },
   {
    "duration": 21,
    "start_time": "2024-02-12T12:09:18.558Z"
   },
   {
    "duration": 142,
    "start_time": "2024-02-12T12:09:18.581Z"
   },
   {
    "duration": 20,
    "start_time": "2024-02-12T12:09:18.725Z"
   },
   {
    "duration": 72,
    "start_time": "2024-02-12T12:09:18.759Z"
   },
   {
    "duration": 20,
    "start_time": "2024-02-12T12:09:18.832Z"
   },
   {
    "duration": 37,
    "start_time": "2024-02-12T12:09:18.858Z"
   },
   {
    "duration": 20,
    "start_time": "2024-02-12T12:09:18.896Z"
   },
   {
    "duration": 159,
    "start_time": "2024-02-12T12:09:18.917Z"
   },
   {
    "duration": 1902,
    "start_time": "2024-02-12T12:09:19.078Z"
   },
   {
    "duration": 136,
    "start_time": "2024-02-12T12:09:20.982Z"
   },
   {
    "duration": 0,
    "start_time": "2024-02-12T12:09:21.119Z"
   },
   {
    "duration": 13,
    "start_time": "2024-02-12T12:10:40.862Z"
   },
   {
    "duration": 20,
    "start_time": "2024-02-12T12:10:53.296Z"
   },
   {
    "duration": 11,
    "start_time": "2024-02-12T12:11:04.667Z"
   },
   {
    "duration": 11,
    "start_time": "2024-02-12T12:11:10.326Z"
   },
   {
    "duration": 42,
    "start_time": "2024-02-12T12:11:49.158Z"
   },
   {
    "duration": 1763,
    "start_time": "2024-02-12T12:11:51.558Z"
   },
   {
    "duration": 27,
    "start_time": "2024-02-12T12:12:13.858Z"
   },
   {
    "duration": 1715,
    "start_time": "2024-02-12T12:14:25.319Z"
   },
   {
    "duration": 17,
    "start_time": "2024-02-12T12:19:39.389Z"
   },
   {
    "duration": 49,
    "start_time": "2024-02-12T12:21:48.251Z"
   },
   {
    "duration": 1755,
    "start_time": "2024-02-12T12:22:08.642Z"
   },
   {
    "duration": 1780,
    "start_time": "2024-02-12T12:24:06.980Z"
   },
   {
    "duration": 31,
    "start_time": "2024-02-12T12:31:21.028Z"
   },
   {
    "duration": 1136,
    "start_time": "2024-02-12T12:33:34.356Z"
   },
   {
    "duration": 895,
    "start_time": "2024-02-12T12:33:35.494Z"
   },
   {
    "duration": 155,
    "start_time": "2024-02-12T12:33:36.391Z"
   },
   {
    "duration": 15,
    "start_time": "2024-02-12T12:33:36.548Z"
   },
   {
    "duration": 889,
    "start_time": "2024-02-12T12:33:36.565Z"
   },
   {
    "duration": 527,
    "start_time": "2024-02-12T12:33:37.456Z"
   },
   {
    "duration": 991,
    "start_time": "2024-02-12T12:33:37.985Z"
   },
   {
    "duration": 45,
    "start_time": "2024-02-12T12:33:38.977Z"
   },
   {
    "duration": 61,
    "start_time": "2024-02-12T12:33:39.023Z"
   },
   {
    "duration": 48,
    "start_time": "2024-02-12T12:33:39.087Z"
   },
   {
    "duration": 95,
    "start_time": "2024-02-12T12:33:39.137Z"
   },
   {
    "duration": 45,
    "start_time": "2024-02-12T12:33:39.234Z"
   },
   {
    "duration": 171,
    "start_time": "2024-02-12T12:33:39.281Z"
   },
   {
    "duration": 28,
    "start_time": "2024-02-12T12:33:39.454Z"
   },
   {
    "duration": 149,
    "start_time": "2024-02-12T12:33:39.484Z"
   },
   {
    "duration": 36,
    "start_time": "2024-02-12T12:33:39.635Z"
   },
   {
    "duration": 101,
    "start_time": "2024-02-12T12:33:39.673Z"
   },
   {
    "duration": 35,
    "start_time": "2024-02-12T12:33:39.775Z"
   },
   {
    "duration": 199,
    "start_time": "2024-02-12T12:33:39.812Z"
   },
   {
    "duration": 1878,
    "start_time": "2024-02-12T12:33:40.013Z"
   },
   {
    "duration": 121,
    "start_time": "2024-02-12T12:33:41.893Z"
   },
   {
    "duration": 0,
    "start_time": "2024-02-12T12:33:42.016Z"
   },
   {
    "duration": 0,
    "start_time": "2024-02-12T12:33:42.017Z"
   },
   {
    "duration": 0,
    "start_time": "2024-02-12T12:33:42.018Z"
   },
   {
    "duration": 0,
    "start_time": "2024-02-12T12:33:42.019Z"
   },
   {
    "duration": 0,
    "start_time": "2024-02-12T12:33:42.020Z"
   },
   {
    "duration": 45,
    "start_time": "2024-02-12T12:33:54.622Z"
   },
   {
    "duration": 78,
    "start_time": "2024-02-12T12:34:24.957Z"
   },
   {
    "duration": 1701,
    "start_time": "2024-02-12T12:34:30.966Z"
   },
   {
    "duration": 39,
    "start_time": "2024-02-12T12:34:40.157Z"
   },
   {
    "duration": 1854,
    "start_time": "2024-02-12T12:34:41.171Z"
   },
   {
    "duration": 1762,
    "start_time": "2024-02-12T12:34:46.741Z"
   },
   {
    "duration": 45,
    "start_time": "2024-02-12T12:34:55.026Z"
   },
   {
    "duration": 1601,
    "start_time": "2024-02-12T12:35:13.434Z"
   },
   {
    "duration": 1425,
    "start_time": "2024-02-12T12:36:50.618Z"
   },
   {
    "duration": 2000,
    "start_time": "2024-02-12T12:37:11.026Z"
   },
   {
    "duration": 1533,
    "start_time": "2024-02-12T12:38:12.217Z"
   },
   {
    "duration": 42,
    "start_time": "2024-02-12T12:39:49.995Z"
   },
   {
    "duration": 1345,
    "start_time": "2024-02-12T12:40:04.023Z"
   },
   {
    "duration": 1726,
    "start_time": "2024-02-12T15:16:32.107Z"
   },
   {
    "duration": 110,
    "start_time": "2024-02-12T15:16:43.024Z"
   },
   {
    "duration": 1634,
    "start_time": "2024-02-12T15:16:50.572Z"
   },
   {
    "duration": 3026,
    "start_time": "2024-02-12T15:16:52.208Z"
   },
   {
    "duration": 197,
    "start_time": "2024-02-12T15:16:55.236Z"
   },
   {
    "duration": 7,
    "start_time": "2024-02-12T15:16:55.434Z"
   },
   {
    "duration": 951,
    "start_time": "2024-02-12T15:16:55.443Z"
   },
   {
    "duration": 552,
    "start_time": "2024-02-12T15:16:56.396Z"
   },
   {
    "duration": 1094,
    "start_time": "2024-02-12T15:16:56.949Z"
   },
   {
    "duration": 55,
    "start_time": "2024-02-12T15:16:58.045Z"
   },
   {
    "duration": 27,
    "start_time": "2024-02-12T15:16:58.101Z"
   },
   {
    "duration": 24,
    "start_time": "2024-02-12T15:16:58.130Z"
   },
   {
    "duration": 62,
    "start_time": "2024-02-12T15:16:58.156Z"
   },
   {
    "duration": 23,
    "start_time": "2024-02-12T15:16:58.219Z"
   },
   {
    "duration": 181,
    "start_time": "2024-02-12T15:16:58.243Z"
   },
   {
    "duration": 22,
    "start_time": "2024-02-12T15:16:58.427Z"
   },
   {
    "duration": 112,
    "start_time": "2024-02-12T15:16:58.451Z"
   },
   {
    "duration": 33,
    "start_time": "2024-02-12T15:16:58.564Z"
   },
   {
    "duration": 44,
    "start_time": "2024-02-12T15:16:58.598Z"
   },
   {
    "duration": 39,
    "start_time": "2024-02-12T15:16:58.644Z"
   },
   {
    "duration": 184,
    "start_time": "2024-02-12T15:16:58.685Z"
   },
   {
    "duration": 2218,
    "start_time": "2024-02-12T15:16:58.870Z"
   },
   {
    "duration": 70,
    "start_time": "2024-02-12T15:17:01.090Z"
   },
   {
    "duration": 2099,
    "start_time": "2024-02-12T15:17:01.162Z"
   },
   {
    "duration": 51,
    "start_time": "2024-02-12T15:17:03.263Z"
   },
   {
    "duration": 2008,
    "start_time": "2024-02-12T15:17:03.316Z"
   },
   {
    "duration": 2004,
    "start_time": "2024-02-12T15:17:05.326Z"
   },
   {
    "duration": 70,
    "start_time": "2024-02-12T15:17:07.332Z"
   },
   {
    "duration": 1802,
    "start_time": "2024-02-12T15:17:07.405Z"
   },
   {
    "duration": 1988,
    "start_time": "2024-02-12T15:17:09.209Z"
   },
   {
    "duration": 1587,
    "start_time": "2024-02-12T15:17:11.199Z"
   },
   {
    "duration": 41,
    "start_time": "2024-02-12T15:17:12.788Z"
   },
   {
    "duration": 1555,
    "start_time": "2024-02-12T15:17:12.831Z"
   },
   {
    "duration": 71,
    "start_time": "2024-02-12T15:17:14.387Z"
   },
   {
    "duration": 40,
    "start_time": "2024-02-12T15:30:04.255Z"
   },
   {
    "duration": 6,
    "start_time": "2024-02-12T15:30:13.621Z"
   },
   {
    "duration": 38,
    "start_time": "2024-02-12T15:37:21.039Z"
   },
   {
    "duration": 686,
    "start_time": "2024-02-12T15:37:30.315Z"
   },
   {
    "duration": 66,
    "start_time": "2024-02-12T15:39:22.496Z"
   },
   {
    "duration": 1550,
    "start_time": "2024-02-12T15:44:37.270Z"
   },
   {
    "duration": 1013,
    "start_time": "2024-02-12T15:44:38.822Z"
   },
   {
    "duration": 190,
    "start_time": "2024-02-12T15:44:39.840Z"
   },
   {
    "duration": 7,
    "start_time": "2024-02-12T15:44:40.033Z"
   },
   {
    "duration": 951,
    "start_time": "2024-02-12T15:44:40.042Z"
   },
   {
    "duration": 547,
    "start_time": "2024-02-12T15:44:40.995Z"
   },
   {
    "duration": 1103,
    "start_time": "2024-02-12T15:44:41.543Z"
   },
   {
    "duration": 54,
    "start_time": "2024-02-12T15:44:42.648Z"
   },
   {
    "duration": 45,
    "start_time": "2024-02-12T15:44:42.704Z"
   },
   {
    "duration": 61,
    "start_time": "2024-02-12T15:44:42.753Z"
   },
   {
    "duration": 44,
    "start_time": "2024-02-12T15:44:42.816Z"
   },
   {
    "duration": 32,
    "start_time": "2024-02-12T15:44:42.861Z"
   },
   {
    "duration": 158,
    "start_time": "2024-02-12T15:44:42.895Z"
   },
   {
    "duration": 27,
    "start_time": "2024-02-12T15:44:43.055Z"
   },
   {
    "duration": 103,
    "start_time": "2024-02-12T15:44:43.085Z"
   },
   {
    "duration": 23,
    "start_time": "2024-02-12T15:44:43.190Z"
   },
   {
    "duration": 42,
    "start_time": "2024-02-12T15:44:43.215Z"
   },
   {
    "duration": 43,
    "start_time": "2024-02-12T15:44:43.258Z"
   },
   {
    "duration": 165,
    "start_time": "2024-02-12T15:44:43.302Z"
   },
   {
    "duration": 2129,
    "start_time": "2024-02-12T15:44:43.468Z"
   },
   {
    "duration": 107,
    "start_time": "2024-02-12T15:44:45.599Z"
   },
   {
    "duration": 1918,
    "start_time": "2024-02-12T15:44:45.708Z"
   },
   {
    "duration": 53,
    "start_time": "2024-02-12T15:44:47.628Z"
   },
   {
    "duration": 2127,
    "start_time": "2024-02-12T15:44:47.683Z"
   },
   {
    "duration": 1933,
    "start_time": "2024-02-12T15:44:49.811Z"
   },
   {
    "duration": 71,
    "start_time": "2024-02-12T15:44:51.746Z"
   },
   {
    "duration": 2124,
    "start_time": "2024-02-12T15:44:51.819Z"
   },
   {
    "duration": 2055,
    "start_time": "2024-02-12T15:44:53.946Z"
   },
   {
    "duration": 1784,
    "start_time": "2024-02-12T15:44:56.003Z"
   },
   {
    "duration": 53,
    "start_time": "2024-02-12T15:44:57.790Z"
   },
   {
    "duration": 3501,
    "start_time": "2024-02-12T15:44:57.844Z"
   },
   {
    "duration": 816,
    "start_time": "2024-02-12T15:45:01.347Z"
   },
   {
    "duration": 1829,
    "start_time": "2024-02-12T15:45:02.165Z"
   },
   {
    "duration": 7018,
    "start_time": "2024-02-12T15:45:03.996Z"
   },
   {
    "duration": 146,
    "start_time": "2024-02-12T15:51:05.997Z"
   },
   {
    "duration": 142,
    "start_time": "2024-02-12T15:52:02.930Z"
   },
   {
    "duration": 1535,
    "start_time": "2024-02-12T15:53:09.945Z"
   },
   {
    "duration": 976,
    "start_time": "2024-02-12T15:53:11.482Z"
   },
   {
    "duration": 208,
    "start_time": "2024-02-12T15:53:12.460Z"
   },
   {
    "duration": 11,
    "start_time": "2024-02-12T15:53:12.670Z"
   },
   {
    "duration": 909,
    "start_time": "2024-02-12T15:53:12.683Z"
   },
   {
    "duration": 518,
    "start_time": "2024-02-12T15:53:13.594Z"
   },
   {
    "duration": 1084,
    "start_time": "2024-02-12T15:53:14.114Z"
   },
   {
    "duration": 47,
    "start_time": "2024-02-12T15:53:15.200Z"
   },
   {
    "duration": 37,
    "start_time": "2024-02-12T15:53:15.249Z"
   },
   {
    "duration": 25,
    "start_time": "2024-02-12T15:53:15.288Z"
   },
   {
    "duration": 48,
    "start_time": "2024-02-12T15:53:15.315Z"
   },
   {
    "duration": 35,
    "start_time": "2024-02-12T15:53:15.365Z"
   },
   {
    "duration": 168,
    "start_time": "2024-02-12T15:53:15.402Z"
   },
   {
    "duration": 24,
    "start_time": "2024-02-12T15:53:15.573Z"
   },
   {
    "duration": 85,
    "start_time": "2024-02-12T15:53:15.598Z"
   },
   {
    "duration": 24,
    "start_time": "2024-02-12T15:53:15.685Z"
   },
   {
    "duration": 43,
    "start_time": "2024-02-12T15:53:15.711Z"
   },
   {
    "duration": 40,
    "start_time": "2024-02-12T15:53:15.755Z"
   },
   {
    "duration": 169,
    "start_time": "2024-02-12T15:53:15.797Z"
   },
   {
    "duration": 2048,
    "start_time": "2024-02-12T15:53:15.968Z"
   },
   {
    "duration": 83,
    "start_time": "2024-02-12T15:53:18.018Z"
   },
   {
    "duration": 1928,
    "start_time": "2024-02-12T15:53:18.103Z"
   },
   {
    "duration": 49,
    "start_time": "2024-02-12T15:53:20.033Z"
   },
   {
    "duration": 1838,
    "start_time": "2024-02-12T15:53:20.083Z"
   },
   {
    "duration": 1888,
    "start_time": "2024-02-12T15:53:21.923Z"
   },
   {
    "duration": 76,
    "start_time": "2024-02-12T15:53:23.812Z"
   },
   {
    "duration": 1808,
    "start_time": "2024-02-12T15:53:23.889Z"
   },
   {
    "duration": 1875,
    "start_time": "2024-02-12T15:53:25.699Z"
   },
   {
    "duration": 1598,
    "start_time": "2024-02-12T15:53:27.576Z"
   },
   {
    "duration": 42,
    "start_time": "2024-02-12T15:53:29.176Z"
   },
   {
    "duration": 1442,
    "start_time": "2024-02-12T15:53:29.220Z"
   },
   {
    "duration": 89,
    "start_time": "2024-02-12T15:53:30.664Z"
   },
   {
    "duration": 304,
    "start_time": "2024-02-12T15:53:30.755Z"
   },
   {
    "duration": 197,
    "start_time": "2024-02-12T15:56:02.138Z"
   },
   {
    "duration": 1508,
    "start_time": "2024-02-12T15:56:22.411Z"
   },
   {
    "duration": 942,
    "start_time": "2024-02-12T15:56:23.921Z"
   },
   {
    "duration": 191,
    "start_time": "2024-02-12T15:56:24.865Z"
   },
   {
    "duration": 11,
    "start_time": "2024-02-12T15:56:25.058Z"
   },
   {
    "duration": 936,
    "start_time": "2024-02-12T15:56:25.079Z"
   },
   {
    "duration": 510,
    "start_time": "2024-02-12T15:56:26.017Z"
   },
   {
    "duration": 1117,
    "start_time": "2024-02-12T15:56:26.529Z"
   },
   {
    "duration": 52,
    "start_time": "2024-02-12T15:56:27.648Z"
   },
   {
    "duration": 26,
    "start_time": "2024-02-12T15:56:27.702Z"
   },
   {
    "duration": 39,
    "start_time": "2024-02-12T15:56:27.730Z"
   },
   {
    "duration": 49,
    "start_time": "2024-02-12T15:56:27.770Z"
   },
   {
    "duration": 22,
    "start_time": "2024-02-12T15:56:27.821Z"
   },
   {
    "duration": 169,
    "start_time": "2024-02-12T15:56:27.845Z"
   },
   {
    "duration": 24,
    "start_time": "2024-02-12T15:56:28.017Z"
   },
   {
    "duration": 95,
    "start_time": "2024-02-12T15:56:28.043Z"
   },
   {
    "duration": 25,
    "start_time": "2024-02-12T15:56:28.140Z"
   },
   {
    "duration": 55,
    "start_time": "2024-02-12T15:56:28.167Z"
   },
   {
    "duration": 23,
    "start_time": "2024-02-12T15:56:28.223Z"
   },
   {
    "duration": 169,
    "start_time": "2024-02-12T15:56:28.247Z"
   },
   {
    "duration": 2137,
    "start_time": "2024-02-12T15:56:28.418Z"
   },
   {
    "duration": 88,
    "start_time": "2024-02-12T15:56:30.557Z"
   },
   {
    "duration": 1970,
    "start_time": "2024-02-12T15:56:30.647Z"
   },
   {
    "duration": 44,
    "start_time": "2024-02-12T15:56:32.619Z"
   },
   {
    "duration": 1881,
    "start_time": "2024-02-12T15:56:32.665Z"
   },
   {
    "duration": 1873,
    "start_time": "2024-02-12T15:56:34.548Z"
   },
   {
    "duration": 78,
    "start_time": "2024-02-12T15:56:36.423Z"
   },
   {
    "duration": 2011,
    "start_time": "2024-02-12T15:56:36.502Z"
   },
   {
    "duration": 1999,
    "start_time": "2024-02-12T15:56:38.515Z"
   },
   {
    "duration": 1716,
    "start_time": "2024-02-12T15:56:40.516Z"
   },
   {
    "duration": 54,
    "start_time": "2024-02-12T15:56:42.234Z"
   },
   {
    "duration": 1496,
    "start_time": "2024-02-12T15:56:42.290Z"
   },
   {
    "duration": 78,
    "start_time": "2024-02-12T15:56:43.788Z"
   },
   {
    "duration": 347,
    "start_time": "2024-02-12T15:56:43.881Z"
   },
   {
    "duration": 75,
    "start_time": "2024-02-12T16:04:41.348Z"
   },
   {
    "duration": 43,
    "start_time": "2024-02-12T16:13:43.993Z"
   },
   {
    "duration": 16,
    "start_time": "2024-02-12T16:15:33.706Z"
   },
   {
    "duration": 16,
    "start_time": "2024-02-12T16:16:47.807Z"
   },
   {
    "duration": 37,
    "start_time": "2024-02-12T16:17:07.025Z"
   },
   {
    "duration": 15,
    "start_time": "2024-02-12T16:18:51.239Z"
   },
   {
    "duration": 38,
    "start_time": "2024-02-12T16:19:00.914Z"
   },
   {
    "duration": 37,
    "start_time": "2024-02-12T16:20:09.139Z"
   },
   {
    "duration": 1487,
    "start_time": "2024-02-12T16:23:32.832Z"
   },
   {
    "duration": 974,
    "start_time": "2024-02-12T16:23:34.321Z"
   },
   {
    "duration": 180,
    "start_time": "2024-02-12T16:23:35.297Z"
   },
   {
    "duration": 7,
    "start_time": "2024-02-12T16:23:35.481Z"
   },
   {
    "duration": 933,
    "start_time": "2024-02-12T16:23:35.489Z"
   },
   {
    "duration": 511,
    "start_time": "2024-02-12T16:23:36.424Z"
   },
   {
    "duration": 1072,
    "start_time": "2024-02-12T16:23:36.937Z"
   },
   {
    "duration": 50,
    "start_time": "2024-02-12T16:23:38.011Z"
   },
   {
    "duration": 42,
    "start_time": "2024-02-12T16:23:38.062Z"
   },
   {
    "duration": 25,
    "start_time": "2024-02-12T16:23:38.107Z"
   },
   {
    "duration": 61,
    "start_time": "2024-02-12T16:23:38.133Z"
   },
   {
    "duration": 22,
    "start_time": "2024-02-12T16:23:38.196Z"
   },
   {
    "duration": 169,
    "start_time": "2024-02-12T16:23:38.220Z"
   },
   {
    "duration": 25,
    "start_time": "2024-02-12T16:23:38.391Z"
   },
   {
    "duration": 92,
    "start_time": "2024-02-12T16:23:38.417Z"
   },
   {
    "duration": 31,
    "start_time": "2024-02-12T16:23:38.510Z"
   },
   {
    "duration": 59,
    "start_time": "2024-02-12T16:23:38.543Z"
   },
   {
    "duration": 23,
    "start_time": "2024-02-12T16:23:38.604Z"
   },
   {
    "duration": 187,
    "start_time": "2024-02-12T16:23:38.629Z"
   },
   {
    "duration": 2009,
    "start_time": "2024-02-12T16:23:38.818Z"
   },
   {
    "duration": 88,
    "start_time": "2024-02-12T16:23:40.829Z"
   },
   {
    "duration": 2006,
    "start_time": "2024-02-12T16:23:40.919Z"
   },
   {
    "duration": 43,
    "start_time": "2024-02-12T16:23:42.926Z"
   },
   {
    "duration": 1873,
    "start_time": "2024-02-12T16:23:42.979Z"
   },
   {
    "duration": 1831,
    "start_time": "2024-02-12T16:23:44.854Z"
   },
   {
    "duration": 69,
    "start_time": "2024-02-12T16:23:46.687Z"
   },
   {
    "duration": 1835,
    "start_time": "2024-02-12T16:23:46.758Z"
   },
   {
    "duration": 1875,
    "start_time": "2024-02-12T16:23:48.596Z"
   },
   {
    "duration": 1573,
    "start_time": "2024-02-12T16:23:50.473Z"
   },
   {
    "duration": 54,
    "start_time": "2024-02-12T16:23:52.047Z"
   },
   {
    "duration": 1489,
    "start_time": "2024-02-12T16:23:52.102Z"
   },
   {
    "duration": 134,
    "start_time": "2024-02-12T16:23:53.593Z"
   },
   {
    "duration": 87,
    "start_time": "2024-02-12T16:24:34.779Z"
   },
   {
    "duration": 688,
    "start_time": "2024-02-12T16:24:47.557Z"
   },
   {
    "duration": 107551,
    "start_time": "2024-02-12T16:26:12.048Z"
   },
   {
    "duration": 37992,
    "start_time": "2024-02-12T16:29:39.394Z"
   },
   {
    "duration": 48992,
    "start_time": "2024-02-12T16:35:12.090Z"
   },
   {
    "duration": 1534,
    "start_time": "2024-02-12T16:39:59.078Z"
   },
   {
    "duration": 948,
    "start_time": "2024-02-12T16:40:00.614Z"
   },
   {
    "duration": 181,
    "start_time": "2024-02-12T16:40:01.564Z"
   },
   {
    "duration": 7,
    "start_time": "2024-02-12T16:40:01.747Z"
   },
   {
    "duration": 1007,
    "start_time": "2024-02-12T16:40:01.756Z"
   },
   {
    "duration": 524,
    "start_time": "2024-02-12T16:40:02.765Z"
   },
   {
    "duration": 1061,
    "start_time": "2024-02-12T16:40:03.291Z"
   },
   {
    "duration": 54,
    "start_time": "2024-02-12T16:40:04.354Z"
   },
   {
    "duration": 27,
    "start_time": "2024-02-12T16:40:04.410Z"
   },
   {
    "duration": 42,
    "start_time": "2024-02-12T16:40:04.439Z"
   },
   {
    "duration": 64,
    "start_time": "2024-02-12T16:40:04.483Z"
   },
   {
    "duration": 23,
    "start_time": "2024-02-12T16:40:04.549Z"
   },
   {
    "duration": 169,
    "start_time": "2024-02-12T16:40:04.580Z"
   },
   {
    "duration": 30,
    "start_time": "2024-02-12T16:40:04.752Z"
   },
   {
    "duration": 97,
    "start_time": "2024-02-12T16:40:04.784Z"
   },
   {
    "duration": 23,
    "start_time": "2024-02-12T16:40:04.883Z"
   },
   {
    "duration": 51,
    "start_time": "2024-02-12T16:40:04.908Z"
   },
   {
    "duration": 34,
    "start_time": "2024-02-12T16:40:04.961Z"
   },
   {
    "duration": 165,
    "start_time": "2024-02-12T16:40:04.997Z"
   },
   {
    "duration": 2070,
    "start_time": "2024-02-12T16:40:05.164Z"
   },
   {
    "duration": 83,
    "start_time": "2024-02-12T16:40:07.236Z"
   },
   {
    "duration": 1872,
    "start_time": "2024-02-12T16:40:07.320Z"
   },
   {
    "duration": 41,
    "start_time": "2024-02-12T16:40:09.193Z"
   },
   {
    "duration": 1885,
    "start_time": "2024-02-12T16:40:09.235Z"
   },
   {
    "duration": 1898,
    "start_time": "2024-02-12T16:40:11.121Z"
   },
   {
    "duration": 76,
    "start_time": "2024-02-12T16:40:13.021Z"
   },
   {
    "duration": 1915,
    "start_time": "2024-02-12T16:40:13.099Z"
   },
   {
    "duration": 1853,
    "start_time": "2024-02-12T16:40:15.015Z"
   },
   {
    "duration": 1580,
    "start_time": "2024-02-12T16:40:16.869Z"
   },
   {
    "duration": 56,
    "start_time": "2024-02-12T16:40:18.451Z"
   },
   {
    "duration": 1483,
    "start_time": "2024-02-12T16:40:18.508Z"
   },
   {
    "duration": 92,
    "start_time": "2024-02-12T16:40:19.994Z"
   },
   {
    "duration": 711,
    "start_time": "2024-02-12T16:40:20.087Z"
   },
   {
    "duration": 46994,
    "start_time": "2024-02-12T16:40:20.799Z"
   },
   {
    "duration": 47824,
    "start_time": "2024-02-12T16:46:32.682Z"
   },
   {
    "duration": 6,
    "start_time": "2024-02-12T16:48:03.561Z"
   },
   {
    "duration": 46941,
    "start_time": "2024-02-12T16:48:25.552Z"
   },
   {
    "duration": 45914,
    "start_time": "2024-02-12T16:52:23.771Z"
   },
   {
    "duration": 47118,
    "start_time": "2024-02-12T16:54:41.463Z"
   },
   {
    "duration": 46254,
    "start_time": "2024-02-12T16:59:41.328Z"
   },
   {
    "duration": 46058,
    "start_time": "2024-02-12T17:05:58.233Z"
   },
   {
    "duration": 1559,
    "start_time": "2024-02-12T17:07:21.948Z"
   },
   {
    "duration": 948,
    "start_time": "2024-02-12T17:07:23.509Z"
   },
   {
    "duration": 175,
    "start_time": "2024-02-12T17:07:24.459Z"
   },
   {
    "duration": 10,
    "start_time": "2024-02-12T17:07:24.637Z"
   },
   {
    "duration": 877,
    "start_time": "2024-02-12T17:07:24.649Z"
   },
   {
    "duration": 501,
    "start_time": "2024-02-12T17:07:25.528Z"
   },
   {
    "duration": 1007,
    "start_time": "2024-02-12T17:07:26.031Z"
   },
   {
    "duration": 56,
    "start_time": "2024-02-12T17:07:27.039Z"
   },
   {
    "duration": 25,
    "start_time": "2024-02-12T17:07:27.096Z"
   },
   {
    "duration": 25,
    "start_time": "2024-02-12T17:07:27.124Z"
   },
   {
    "duration": 61,
    "start_time": "2024-02-12T17:07:27.151Z"
   },
   {
    "duration": 36,
    "start_time": "2024-02-12T17:07:27.214Z"
   },
   {
    "duration": 176,
    "start_time": "2024-02-12T17:07:27.251Z"
   },
   {
    "duration": 25,
    "start_time": "2024-02-12T17:07:27.429Z"
   },
   {
    "duration": 86,
    "start_time": "2024-02-12T17:07:27.456Z"
   },
   {
    "duration": 39,
    "start_time": "2024-02-12T17:07:27.543Z"
   },
   {
    "duration": 44,
    "start_time": "2024-02-12T17:07:27.585Z"
   },
   {
    "duration": 23,
    "start_time": "2024-02-12T17:07:27.631Z"
   },
   {
    "duration": 199,
    "start_time": "2024-02-12T17:07:27.656Z"
   },
   {
    "duration": 2061,
    "start_time": "2024-02-12T17:07:27.857Z"
   },
   {
    "duration": 77,
    "start_time": "2024-02-12T17:07:29.920Z"
   },
   {
    "duration": 1983,
    "start_time": "2024-02-12T17:07:29.999Z"
   },
   {
    "duration": 41,
    "start_time": "2024-02-12T17:07:31.984Z"
   },
   {
    "duration": 1917,
    "start_time": "2024-02-12T17:07:32.026Z"
   },
   {
    "duration": 1862,
    "start_time": "2024-02-12T17:07:33.945Z"
   },
   {
    "duration": 59,
    "start_time": "2024-02-12T17:07:35.809Z"
   },
   {
    "duration": 1816,
    "start_time": "2024-02-12T17:07:35.870Z"
   },
   {
    "duration": 1890,
    "start_time": "2024-02-12T17:07:37.690Z"
   },
   {
    "duration": 1702,
    "start_time": "2024-02-12T17:07:39.581Z"
   },
   {
    "duration": 56,
    "start_time": "2024-02-12T17:07:41.284Z"
   },
   {
    "duration": 1582,
    "start_time": "2024-02-12T17:07:41.341Z"
   },
   {
    "duration": 78,
    "start_time": "2024-02-12T17:07:42.924Z"
   },
   {
    "duration": 750,
    "start_time": "2024-02-12T17:07:43.004Z"
   },
   {
    "duration": 142,
    "start_time": "2024-02-12T17:07:43.756Z"
   },
   {
    "duration": 49487,
    "start_time": "2024-02-12T17:11:03.121Z"
   },
   {
    "duration": 1479,
    "start_time": "2024-02-12T17:12:22.736Z"
   },
   {
    "duration": 979,
    "start_time": "2024-02-12T17:12:24.218Z"
   },
   {
    "duration": 188,
    "start_time": "2024-02-12T17:12:25.199Z"
   },
   {
    "duration": 7,
    "start_time": "2024-02-12T17:12:25.389Z"
   },
   {
    "duration": 925,
    "start_time": "2024-02-12T17:12:25.398Z"
   },
   {
    "duration": 510,
    "start_time": "2024-02-12T17:12:26.327Z"
   },
   {
    "duration": 1061,
    "start_time": "2024-02-12T17:12:26.838Z"
   },
   {
    "duration": 49,
    "start_time": "2024-02-12T17:12:27.901Z"
   },
   {
    "duration": 46,
    "start_time": "2024-02-12T17:12:27.951Z"
   },
   {
    "duration": 27,
    "start_time": "2024-02-12T17:12:27.998Z"
   },
   {
    "duration": 63,
    "start_time": "2024-02-12T17:12:28.027Z"
   },
   {
    "duration": 25,
    "start_time": "2024-02-12T17:12:28.091Z"
   },
   {
    "duration": 171,
    "start_time": "2024-02-12T17:12:28.118Z"
   },
   {
    "duration": 24,
    "start_time": "2024-02-12T17:12:28.291Z"
   },
   {
    "duration": 91,
    "start_time": "2024-02-12T17:12:28.317Z"
   },
   {
    "duration": 24,
    "start_time": "2024-02-12T17:12:28.409Z"
   },
   {
    "duration": 56,
    "start_time": "2024-02-12T17:12:28.435Z"
   },
   {
    "duration": 24,
    "start_time": "2024-02-12T17:12:28.492Z"
   },
   {
    "duration": 188,
    "start_time": "2024-02-12T17:12:28.518Z"
   },
   {
    "duration": 2043,
    "start_time": "2024-02-12T17:12:28.708Z"
   },
   {
    "duration": 80,
    "start_time": "2024-02-12T17:12:30.753Z"
   },
   {
    "duration": 1957,
    "start_time": "2024-02-12T17:12:30.834Z"
   },
   {
    "duration": 41,
    "start_time": "2024-02-12T17:12:32.793Z"
   },
   {
    "duration": 1866,
    "start_time": "2024-02-12T17:12:32.836Z"
   },
   {
    "duration": 1868,
    "start_time": "2024-02-12T17:12:34.704Z"
   },
   {
    "duration": 67,
    "start_time": "2024-02-12T17:12:36.574Z"
   },
   {
    "duration": 1814,
    "start_time": "2024-02-12T17:12:36.643Z"
   },
   {
    "duration": 1900,
    "start_time": "2024-02-12T17:12:38.459Z"
   },
   {
    "duration": 1607,
    "start_time": "2024-02-12T17:12:40.361Z"
   },
   {
    "duration": 46,
    "start_time": "2024-02-12T17:12:41.969Z"
   },
   {
    "duration": 1484,
    "start_time": "2024-02-12T17:12:42.017Z"
   },
   {
    "duration": 84,
    "start_time": "2024-02-12T17:12:43.502Z"
   },
   {
    "duration": 709,
    "start_time": "2024-02-12T17:12:43.588Z"
   },
   {
    "duration": 47390,
    "start_time": "2024-02-12T17:12:44.299Z"
   },
   {
    "duration": 1486,
    "start_time": "2024-02-12T17:36:43.538Z"
   },
   {
    "duration": 931,
    "start_time": "2024-02-12T17:36:45.026Z"
   },
   {
    "duration": 168,
    "start_time": "2024-02-12T17:36:45.959Z"
   },
   {
    "duration": 7,
    "start_time": "2024-02-12T17:36:46.129Z"
   },
   {
    "duration": 891,
    "start_time": "2024-02-12T17:36:46.138Z"
   },
   {
    "duration": 471,
    "start_time": "2024-02-12T17:36:47.031Z"
   },
   {
    "duration": 1010,
    "start_time": "2024-02-12T17:36:47.504Z"
   },
   {
    "duration": 46,
    "start_time": "2024-02-12T17:36:48.515Z"
   },
   {
    "duration": 39,
    "start_time": "2024-02-12T17:36:48.563Z"
   },
   {
    "duration": 24,
    "start_time": "2024-02-12T17:36:48.604Z"
   },
   {
    "duration": 57,
    "start_time": "2024-02-12T17:36:48.630Z"
   },
   {
    "duration": 25,
    "start_time": "2024-02-12T17:36:48.688Z"
   },
   {
    "duration": 171,
    "start_time": "2024-02-12T17:36:48.714Z"
   },
   {
    "duration": 24,
    "start_time": "2024-02-12T17:36:48.887Z"
   },
   {
    "duration": 90,
    "start_time": "2024-02-12T17:36:48.913Z"
   },
   {
    "duration": 23,
    "start_time": "2024-02-12T17:36:49.004Z"
   },
   {
    "duration": 53,
    "start_time": "2024-02-12T17:36:49.029Z"
   },
   {
    "duration": 22,
    "start_time": "2024-02-12T17:36:49.083Z"
   },
   {
    "duration": 159,
    "start_time": "2024-02-12T17:36:49.107Z"
   },
   {
    "duration": 2057,
    "start_time": "2024-02-12T17:36:49.268Z"
   },
   {
    "duration": 80,
    "start_time": "2024-02-12T17:36:51.326Z"
   },
   {
    "duration": 1903,
    "start_time": "2024-02-12T17:36:51.408Z"
   },
   {
    "duration": 39,
    "start_time": "2024-02-12T17:36:53.313Z"
   },
   {
    "duration": 1889,
    "start_time": "2024-02-12T17:36:53.354Z"
   },
   {
    "duration": 2621,
    "start_time": "2024-02-12T17:36:55.245Z"
   },
   {
    "duration": 60,
    "start_time": "2024-02-12T17:36:57.867Z"
   },
   {
    "duration": 1857,
    "start_time": "2024-02-12T17:36:57.929Z"
   },
   {
    "duration": 1920,
    "start_time": "2024-02-12T17:36:59.787Z"
   },
   {
    "duration": 1574,
    "start_time": "2024-02-12T17:37:01.709Z"
   },
   {
    "duration": 42,
    "start_time": "2024-02-12T17:37:03.285Z"
   },
   {
    "duration": 1481,
    "start_time": "2024-02-12T17:37:03.329Z"
   },
   {
    "duration": 87,
    "start_time": "2024-02-12T17:37:04.812Z"
   },
   {
    "duration": 700,
    "start_time": "2024-02-12T17:37:04.901Z"
   },
   {
    "duration": 48509,
    "start_time": "2024-02-12T17:37:05.603Z"
   },
   {
    "duration": 1778,
    "start_time": "2024-02-12T17:41:01.889Z"
   },
   {
    "duration": 1406,
    "start_time": "2024-02-12T17:55:49.566Z"
   },
   {
    "duration": 1117,
    "start_time": "2024-02-12T17:55:50.974Z"
   },
   {
    "duration": 169,
    "start_time": "2024-02-12T17:55:52.093Z"
   },
   {
    "duration": 7,
    "start_time": "2024-02-12T17:55:52.263Z"
   },
   {
    "duration": 824,
    "start_time": "2024-02-12T17:55:52.273Z"
   },
   {
    "duration": 487,
    "start_time": "2024-02-12T17:55:53.099Z"
   },
   {
    "duration": 946,
    "start_time": "2024-02-12T17:55:53.588Z"
   },
   {
    "duration": 43,
    "start_time": "2024-02-12T17:55:54.535Z"
   },
   {
    "duration": 29,
    "start_time": "2024-02-12T17:55:54.580Z"
   },
   {
    "duration": 35,
    "start_time": "2024-02-12T17:55:54.610Z"
   },
   {
    "duration": 42,
    "start_time": "2024-02-12T17:55:54.647Z"
   },
   {
    "duration": 21,
    "start_time": "2024-02-12T17:55:54.691Z"
   },
   {
    "duration": 157,
    "start_time": "2024-02-12T17:55:54.713Z"
   },
   {
    "duration": 20,
    "start_time": "2024-02-12T17:55:54.873Z"
   },
   {
    "duration": 75,
    "start_time": "2024-02-12T17:55:54.895Z"
   },
   {
    "duration": 27,
    "start_time": "2024-02-12T17:55:54.972Z"
   },
   {
    "duration": 66,
    "start_time": "2024-02-12T17:55:55.001Z"
   },
   {
    "duration": 22,
    "start_time": "2024-02-12T17:55:55.068Z"
   },
   {
    "duration": 156,
    "start_time": "2024-02-12T17:55:55.092Z"
   },
   {
    "duration": 1840,
    "start_time": "2024-02-12T17:55:55.249Z"
   },
   {
    "duration": 69,
    "start_time": "2024-02-12T17:55:57.090Z"
   },
   {
    "duration": 1830,
    "start_time": "2024-02-12T17:55:57.160Z"
   },
   {
    "duration": 1699,
    "start_time": "2024-02-12T17:55:58.992Z"
   },
   {
    "duration": 47,
    "start_time": "2024-02-12T17:56:00.692Z"
   },
   {
    "duration": 1696,
    "start_time": "2024-02-12T17:56:00.741Z"
   },
   {
    "duration": 1841,
    "start_time": "2024-02-12T17:56:02.439Z"
   },
   {
    "duration": 66,
    "start_time": "2024-02-12T17:56:04.282Z"
   },
   {
    "duration": 1618,
    "start_time": "2024-02-12T17:56:04.350Z"
   },
   {
    "duration": 1721,
    "start_time": "2024-02-12T17:56:05.969Z"
   },
   {
    "duration": 1422,
    "start_time": "2024-02-12T17:56:07.692Z"
   },
   {
    "duration": 57,
    "start_time": "2024-02-12T17:56:09.116Z"
   },
   {
    "duration": 1450,
    "start_time": "2024-02-12T17:56:09.174Z"
   },
   {
    "duration": 65,
    "start_time": "2024-02-12T17:56:10.626Z"
   },
   {
    "duration": 710,
    "start_time": "2024-02-12T17:56:10.692Z"
   },
   {
    "duration": 49248,
    "start_time": "2024-02-12T17:56:11.403Z"
   },
   {
    "duration": 1624,
    "start_time": "2024-02-13T07:42:58.706Z"
   },
   {
    "duration": 1150,
    "start_time": "2024-02-13T07:43:00.332Z"
   },
   {
    "duration": 154,
    "start_time": "2024-02-13T07:43:01.484Z"
   },
   {
    "duration": 7,
    "start_time": "2024-02-13T07:43:01.640Z"
   },
   {
    "duration": 829,
    "start_time": "2024-02-13T07:43:01.650Z"
   },
   {
    "duration": 474,
    "start_time": "2024-02-13T07:43:02.481Z"
   },
   {
    "duration": 936,
    "start_time": "2024-02-13T07:43:02.957Z"
   },
   {
    "duration": 49,
    "start_time": "2024-02-13T07:43:03.895Z"
   },
   {
    "duration": 25,
    "start_time": "2024-02-13T07:43:03.945Z"
   },
   {
    "duration": 24,
    "start_time": "2024-02-13T07:43:03.972Z"
   },
   {
    "duration": 62,
    "start_time": "2024-02-13T07:43:03.997Z"
   },
   {
    "duration": 21,
    "start_time": "2024-02-13T07:43:04.060Z"
   },
   {
    "duration": 160,
    "start_time": "2024-02-13T07:43:04.083Z"
   },
   {
    "duration": 23,
    "start_time": "2024-02-13T07:43:04.247Z"
   },
   {
    "duration": 88,
    "start_time": "2024-02-13T07:43:04.272Z"
   },
   {
    "duration": 21,
    "start_time": "2024-02-13T07:43:04.362Z"
   },
   {
    "duration": 52,
    "start_time": "2024-02-13T07:43:04.384Z"
   },
   {
    "duration": 26,
    "start_time": "2024-02-13T07:43:04.437Z"
   },
   {
    "duration": 185,
    "start_time": "2024-02-13T07:43:04.465Z"
   },
   {
    "duration": 1941,
    "start_time": "2024-02-13T07:43:04.651Z"
   },
   {
    "duration": 69,
    "start_time": "2024-02-13T07:43:06.593Z"
   },
   {
    "duration": 2005,
    "start_time": "2024-02-13T07:43:06.664Z"
   },
   {
    "duration": 2492,
    "start_time": "2024-02-13T07:43:08.670Z"
   },
   {
    "duration": 58,
    "start_time": "2024-02-13T07:43:11.164Z"
   },
   {
    "duration": 1737,
    "start_time": "2024-02-13T07:43:11.234Z"
   },
   {
    "duration": 1877,
    "start_time": "2024-02-13T07:43:12.973Z"
   },
   {
    "duration": 56,
    "start_time": "2024-02-13T07:43:14.852Z"
   },
   {
    "duration": 1517,
    "start_time": "2024-02-13T07:43:14.909Z"
   },
   {
    "duration": 1641,
    "start_time": "2024-02-13T07:43:16.432Z"
   },
   {
    "duration": 1426,
    "start_time": "2024-02-13T07:43:18.075Z"
   },
   {
    "duration": 46,
    "start_time": "2024-02-13T07:43:19.503Z"
   },
   {
    "duration": 1452,
    "start_time": "2024-02-13T07:43:19.551Z"
   },
   {
    "duration": 101,
    "start_time": "2024-02-13T07:43:21.005Z"
   },
   {
    "duration": 65,
    "start_time": "2024-02-13T07:43:21.108Z"
   },
   {
    "duration": 595,
    "start_time": "2024-02-13T07:43:21.175Z"
   },
   {
    "duration": 555668,
    "start_time": "2024-02-13T07:43:21.772Z"
   },
   {
    "duration": 0,
    "start_time": "2024-02-13T07:52:37.576Z"
   },
   {
    "duration": 584500,
    "start_time": "2024-02-13T08:57:42.962Z"
   },
   {
    "duration": 1000349,
    "start_time": "2024-02-13T09:14:59.009Z"
   },
   {
    "duration": 104462,
    "start_time": "2024-02-13T09:39:16.769Z"
   },
   {
    "duration": 57487,
    "start_time": "2024-02-13T09:44:49.198Z"
   },
   {
    "duration": 47133,
    "start_time": "2024-02-13T09:50:28.233Z"
   },
   {
    "duration": 191742,
    "start_time": "2024-02-13T09:51:17.599Z"
   },
   {
    "duration": 11092,
    "start_time": "2024-02-13T09:55:04.909Z"
   },
   {
    "duration": 4,
    "start_time": "2024-02-13T10:05:18.708Z"
   },
   {
    "duration": 20,
    "start_time": "2024-02-13T10:05:18.841Z"
   },
   {
    "duration": 4,
    "start_time": "2024-02-13T10:09:43.529Z"
   },
   {
    "duration": 24,
    "start_time": "2024-02-13T10:11:01.269Z"
   },
   {
    "duration": 87,
    "start_time": "2024-02-13T10:12:27.905Z"
   },
   {
    "duration": 5,
    "start_time": "2024-02-13T10:12:32.679Z"
   },
   {
    "duration": 59,
    "start_time": "2024-02-13T10:12:49.435Z"
   },
   {
    "duration": 49,
    "start_time": "2024-02-13T10:14:56.412Z"
   },
   {
    "duration": 44,
    "start_time": "2024-02-13T10:16:25.484Z"
   },
   {
    "duration": 1372,
    "start_time": "2024-02-13T10:18:52.163Z"
   },
   {
    "duration": 860,
    "start_time": "2024-02-13T10:18:53.536Z"
   },
   {
    "duration": 152,
    "start_time": "2024-02-13T10:18:54.397Z"
   },
   {
    "duration": 6,
    "start_time": "2024-02-13T10:18:54.551Z"
   },
   {
    "duration": 876,
    "start_time": "2024-02-13T10:18:54.558Z"
   },
   {
    "duration": 35,
    "start_time": "2024-02-13T10:18:55.436Z"
   },
   {
    "duration": 53,
    "start_time": "2024-02-13T10:18:55.473Z"
   },
   {
    "duration": 24,
    "start_time": "2024-02-13T10:18:55.527Z"
   },
   {
    "duration": 54,
    "start_time": "2024-02-13T10:18:55.552Z"
   },
   {
    "duration": 35,
    "start_time": "2024-02-13T10:18:55.608Z"
   },
   {
    "duration": 170,
    "start_time": "2024-02-13T10:18:55.644Z"
   },
   {
    "duration": 22,
    "start_time": "2024-02-13T10:18:55.815Z"
   },
   {
    "duration": 88,
    "start_time": "2024-02-13T10:18:55.839Z"
   },
   {
    "duration": 22,
    "start_time": "2024-02-13T10:18:55.930Z"
   },
   {
    "duration": 52,
    "start_time": "2024-02-13T10:18:55.954Z"
   },
   {
    "duration": 24,
    "start_time": "2024-02-13T10:18:56.007Z"
   },
   {
    "duration": 173,
    "start_time": "2024-02-13T10:18:56.032Z"
   },
   {
    "duration": 1917,
    "start_time": "2024-02-13T10:18:56.207Z"
   },
   {
    "duration": 77,
    "start_time": "2024-02-13T10:18:58.126Z"
   },
   {
    "duration": 1948,
    "start_time": "2024-02-13T10:18:58.205Z"
   },
   {
    "duration": 1677,
    "start_time": "2024-02-13T10:19:00.154Z"
   },
   {
    "duration": 58,
    "start_time": "2024-02-13T10:19:01.833Z"
   },
   {
    "duration": 1726,
    "start_time": "2024-02-13T10:19:01.893Z"
   },
   {
    "duration": 1733,
    "start_time": "2024-02-13T10:19:03.620Z"
   },
   {
    "duration": 46,
    "start_time": "2024-02-13T10:19:05.354Z"
   },
   {
    "duration": 1653,
    "start_time": "2024-02-13T10:19:05.402Z"
   },
   {
    "duration": 1680,
    "start_time": "2024-02-13T10:19:07.057Z"
   },
   {
    "duration": 1458,
    "start_time": "2024-02-13T10:19:08.738Z"
   },
   {
    "duration": 59,
    "start_time": "2024-02-13T10:19:10.198Z"
   },
   {
    "duration": 1566,
    "start_time": "2024-02-13T10:19:10.258Z"
   },
   {
    "duration": 98,
    "start_time": "2024-02-13T10:19:11.826Z"
   },
   {
    "duration": 119,
    "start_time": "2024-02-13T10:19:11.926Z"
   },
   {
    "duration": 60,
    "start_time": "2024-02-13T10:19:12.046Z"
   },
   {
    "duration": 603,
    "start_time": "2024-02-13T10:19:12.107Z"
   },
   {
    "duration": 122,
    "start_time": "2024-02-13T10:19:12.712Z"
   },
   {
    "duration": 0,
    "start_time": "2024-02-13T10:19:12.836Z"
   },
   {
    "duration": 5,
    "start_time": "2024-02-13T10:20:50.185Z"
   },
   {
    "duration": 46,
    "start_time": "2024-02-13T10:20:55.108Z"
   },
   {
    "duration": 130884,
    "start_time": "2024-02-13T10:30:17.062Z"
   },
   {
    "duration": 54564,
    "start_time": "2024-02-13T10:32:35.370Z"
   },
   {
    "duration": 271466,
    "start_time": "2024-02-13T10:33:34.103Z"
   },
   {
    "duration": 4,
    "start_time": "2024-02-13T10:55:42.707Z"
   },
   {
    "duration": 1381,
    "start_time": "2024-02-13T11:06:38.520Z"
   },
   {
    "duration": 837,
    "start_time": "2024-02-13T11:06:39.902Z"
   },
   {
    "duration": 155,
    "start_time": "2024-02-13T11:06:40.740Z"
   },
   {
    "duration": 6,
    "start_time": "2024-02-13T11:06:40.896Z"
   },
   {
    "duration": 837,
    "start_time": "2024-02-13T11:06:40.905Z"
   },
   {
    "duration": 35,
    "start_time": "2024-02-13T11:06:41.744Z"
   },
   {
    "duration": 28,
    "start_time": "2024-02-13T11:06:41.781Z"
   },
   {
    "duration": 45,
    "start_time": "2024-02-13T11:06:41.811Z"
   },
   {
    "duration": 39,
    "start_time": "2024-02-13T11:06:41.857Z"
   },
   {
    "duration": 36,
    "start_time": "2024-02-13T11:06:41.898Z"
   },
   {
    "duration": 148,
    "start_time": "2024-02-13T11:06:41.935Z"
   },
   {
    "duration": 21,
    "start_time": "2024-02-13T11:06:42.085Z"
   },
   {
    "duration": 83,
    "start_time": "2024-02-13T11:06:42.107Z"
   },
   {
    "duration": 21,
    "start_time": "2024-02-13T11:06:42.193Z"
   },
   {
    "duration": 53,
    "start_time": "2024-02-13T11:06:42.216Z"
   },
   {
    "duration": 19,
    "start_time": "2024-02-13T11:06:42.270Z"
   },
   {
    "duration": 186,
    "start_time": "2024-02-13T11:06:42.291Z"
   },
   {
    "duration": 2046,
    "start_time": "2024-02-13T11:06:42.478Z"
   },
   {
    "duration": 75,
    "start_time": "2024-02-13T11:06:44.526Z"
   },
   {
    "duration": 1886,
    "start_time": "2024-02-13T11:06:44.603Z"
   },
   {
    "duration": 1600,
    "start_time": "2024-02-13T11:06:46.490Z"
   },
   {
    "duration": 52,
    "start_time": "2024-02-13T11:06:48.091Z"
   },
   {
    "duration": 1659,
    "start_time": "2024-02-13T11:06:48.145Z"
   },
   {
    "duration": 1775,
    "start_time": "2024-02-13T11:06:49.806Z"
   },
   {
    "duration": 43,
    "start_time": "2024-02-13T11:06:51.583Z"
   },
   {
    "duration": 1567,
    "start_time": "2024-02-13T11:06:51.632Z"
   },
   {
    "duration": 1693,
    "start_time": "2024-02-13T11:06:53.201Z"
   },
   {
    "duration": 1406,
    "start_time": "2024-02-13T11:06:54.895Z"
   },
   {
    "duration": 53,
    "start_time": "2024-02-13T11:06:56.303Z"
   },
   {
    "duration": 1336,
    "start_time": "2024-02-13T11:06:56.357Z"
   },
   {
    "duration": 96,
    "start_time": "2024-02-13T11:06:57.694Z"
   },
   {
    "duration": 111,
    "start_time": "2024-02-13T11:06:57.792Z"
   },
   {
    "duration": 58,
    "start_time": "2024-02-13T11:06:57.905Z"
   },
   {
    "duration": 565,
    "start_time": "2024-02-13T11:06:57.965Z"
   },
   {
    "duration": 47525,
    "start_time": "2024-02-13T11:06:58.532Z"
   },
   {
    "duration": 536767,
    "start_time": "2024-02-13T11:11:06.983Z"
   },
   {
    "duration": 140,
    "start_time": "2024-02-13T11:20:49.634Z"
   },
   {
    "duration": 37,
    "start_time": "2024-02-13T11:25:08.934Z"
   },
   {
    "duration": 75,
    "start_time": "2024-02-13T11:26:06.842Z"
   },
   {
    "duration": 71,
    "start_time": "2024-02-13T11:26:33.433Z"
   },
   {
    "duration": 67,
    "start_time": "2024-02-13T11:26:56.264Z"
   },
   {
    "duration": 4,
    "start_time": "2024-02-13T11:27:10.940Z"
   },
   {
    "duration": 78,
    "start_time": "2024-02-13T11:27:15.608Z"
   },
   {
    "duration": 4,
    "start_time": "2024-02-13T11:28:07.972Z"
   },
   {
    "duration": 73,
    "start_time": "2024-02-13T11:28:16.005Z"
   },
   {
    "duration": 23,
    "start_time": "2024-02-13T12:20:18.892Z"
   },
   {
    "duration": 479,
    "start_time": "2024-02-13T12:20:39.651Z"
   },
   {
    "duration": 13,
    "start_time": "2024-02-13T12:20:45.551Z"
   },
   {
    "duration": 4,
    "start_time": "2024-02-13T12:28:10.996Z"
   },
   {
    "duration": 10,
    "start_time": "2024-02-13T12:28:19.078Z"
   },
   {
    "duration": 5,
    "start_time": "2024-02-13T12:29:08.112Z"
   },
   {
    "duration": 5,
    "start_time": "2024-02-13T12:37:38.678Z"
   },
   {
    "duration": 13,
    "start_time": "2024-02-13T12:38:05.694Z"
   },
   {
    "duration": 25,
    "start_time": "2024-02-13T12:38:19.272Z"
   },
   {
    "duration": 91,
    "start_time": "2024-02-13T12:39:09.329Z"
   },
   {
    "duration": 571677,
    "start_time": "2024-02-13T12:39:35.501Z"
   },
   {
    "duration": 1454,
    "start_time": "2024-02-13T13:03:21.379Z"
   },
   {
    "duration": 910,
    "start_time": "2024-02-13T13:03:22.840Z"
   },
   {
    "duration": 181,
    "start_time": "2024-02-13T13:03:23.751Z"
   },
   {
    "duration": 8,
    "start_time": "2024-02-13T13:03:23.933Z"
   },
   {
    "duration": 879,
    "start_time": "2024-02-13T13:03:23.943Z"
   },
   {
    "duration": 45,
    "start_time": "2024-02-13T13:03:24.824Z"
   },
   {
    "duration": 26,
    "start_time": "2024-02-13T13:03:24.871Z"
   },
   {
    "duration": 37,
    "start_time": "2024-02-13T13:03:24.899Z"
   },
   {
    "duration": 47,
    "start_time": "2024-02-13T13:03:24.943Z"
   },
   {
    "duration": 21,
    "start_time": "2024-02-13T13:03:24.991Z"
   },
   {
    "duration": 182,
    "start_time": "2024-02-13T13:03:25.013Z"
   },
   {
    "duration": 21,
    "start_time": "2024-02-13T13:03:25.197Z"
   },
   {
    "duration": 91,
    "start_time": "2024-02-13T13:03:25.220Z"
   },
   {
    "duration": 37,
    "start_time": "2024-02-13T13:03:25.314Z"
   },
   {
    "duration": 41,
    "start_time": "2024-02-13T13:03:25.353Z"
   },
   {
    "duration": 22,
    "start_time": "2024-02-13T13:03:25.395Z"
   },
   {
    "duration": 190,
    "start_time": "2024-02-13T13:03:25.433Z"
   },
   {
    "duration": 2044,
    "start_time": "2024-02-13T13:03:25.625Z"
   },
   {
    "duration": 89,
    "start_time": "2024-02-13T13:03:27.670Z"
   },
   {
    "duration": 2058,
    "start_time": "2024-02-13T13:03:27.761Z"
   },
   {
    "duration": 2626,
    "start_time": "2024-02-13T13:03:29.821Z"
   },
   {
    "duration": 102,
    "start_time": "2024-02-13T13:03:32.449Z"
   },
   {
    "duration": 2024,
    "start_time": "2024-02-13T13:03:32.553Z"
   },
   {
    "duration": 1976,
    "start_time": "2024-02-13T13:03:34.579Z"
   },
   {
    "duration": 46,
    "start_time": "2024-02-13T13:03:36.557Z"
   },
   {
    "duration": 1767,
    "start_time": "2024-02-13T13:03:36.605Z"
   },
   {
    "duration": 1856,
    "start_time": "2024-02-13T13:03:38.374Z"
   },
   {
    "duration": 1578,
    "start_time": "2024-02-13T13:03:40.233Z"
   },
   {
    "duration": 63,
    "start_time": "2024-02-13T13:03:41.813Z"
   },
   {
    "duration": 1599,
    "start_time": "2024-02-13T13:03:41.878Z"
   },
   {
    "duration": 103,
    "start_time": "2024-02-13T13:03:43.478Z"
   },
   {
    "duration": 122,
    "start_time": "2024-02-13T13:03:43.583Z"
   },
   {
    "duration": 63,
    "start_time": "2024-02-13T13:03:43.707Z"
   },
   {
    "duration": 15,
    "start_time": "2024-02-13T13:03:43.772Z"
   },
   {
    "duration": 343292,
    "start_time": "2024-02-13T13:03:43.788Z"
   },
   {
    "duration": 7,
    "start_time": "2024-02-13T13:32:08.696Z"
   },
   {
    "duration": 5,
    "start_time": "2024-02-13T13:32:15.780Z"
   },
   {
    "duration": 89,
    "start_time": "2024-02-13T13:32:20.460Z"
   },
   {
    "duration": 15,
    "start_time": "2024-02-13T13:36:30.721Z"
   },
   {
    "duration": 6,
    "start_time": "2024-02-13T13:36:41.449Z"
   },
   {
    "duration": 1780,
    "start_time": "2024-02-13T13:36:46.664Z"
   },
   {
    "duration": 8,
    "start_time": "2024-02-13T13:37:43.154Z"
   },
   {
    "duration": 80,
    "start_time": "2024-02-13T13:37:45.327Z"
   },
   {
    "duration": 5,
    "start_time": "2024-02-13T13:39:02.936Z"
   },
   {
    "duration": 90,
    "start_time": "2024-02-13T13:39:05.328Z"
   },
   {
    "duration": 1587,
    "start_time": "2024-02-13T13:40:17.674Z"
   },
   {
    "duration": 1017,
    "start_time": "2024-02-13T13:40:19.263Z"
   },
   {
    "duration": 187,
    "start_time": "2024-02-13T13:40:20.282Z"
   },
   {
    "duration": 7,
    "start_time": "2024-02-13T13:40:20.471Z"
   },
   {
    "duration": 998,
    "start_time": "2024-02-13T13:40:20.481Z"
   },
   {
    "duration": 38,
    "start_time": "2024-02-13T13:40:21.481Z"
   },
   {
    "duration": 58,
    "start_time": "2024-02-13T13:40:21.521Z"
   },
   {
    "duration": 25,
    "start_time": "2024-02-13T13:40:21.580Z"
   },
   {
    "duration": 66,
    "start_time": "2024-02-13T13:40:21.607Z"
   },
   {
    "duration": 22,
    "start_time": "2024-02-13T13:40:21.674Z"
   },
   {
    "duration": 25,
    "start_time": "2024-02-13T13:40:21.697Z"
   },
   {
    "duration": 119,
    "start_time": "2024-02-13T13:40:21.723Z"
   },
   {
    "duration": 27,
    "start_time": "2024-02-13T13:40:21.844Z"
   },
   {
    "duration": 46,
    "start_time": "2024-02-13T13:40:21.874Z"
   },
   {
    "duration": 43,
    "start_time": "2024-02-13T13:40:21.922Z"
   },
   {
    "duration": 2243,
    "start_time": "2024-02-13T13:40:21.968Z"
   },
   {
    "duration": 93,
    "start_time": "2024-02-13T13:40:24.213Z"
   },
   {
    "duration": 2158,
    "start_time": "2024-02-13T13:40:24.308Z"
   },
   {
    "duration": 1924,
    "start_time": "2024-02-13T13:40:26.468Z"
   },
   {
    "duration": 88,
    "start_time": "2024-02-13T13:40:28.394Z"
   },
   {
    "duration": 2070,
    "start_time": "2024-02-13T13:40:28.484Z"
   },
   {
    "duration": 2216,
    "start_time": "2024-02-13T13:40:30.556Z"
   },
   {
    "duration": 81,
    "start_time": "2024-02-13T13:40:32.775Z"
   },
   {
    "duration": 1861,
    "start_time": "2024-02-13T13:40:32.859Z"
   },
   {
    "duration": 2017,
    "start_time": "2024-02-13T13:40:34.722Z"
   },
   {
    "duration": 1644,
    "start_time": "2024-02-13T13:40:36.745Z"
   },
   {
    "duration": 53,
    "start_time": "2024-02-13T13:40:38.391Z"
   },
   {
    "duration": 1710,
    "start_time": "2024-02-13T13:40:38.446Z"
   },
   {
    "duration": 149,
    "start_time": "2024-02-13T13:40:40.157Z"
   },
   {
    "duration": 187,
    "start_time": "2024-02-13T13:40:40.308Z"
   },
   {
    "duration": 119,
    "start_time": "2024-02-13T13:40:40.497Z"
   },
   {
    "duration": 157,
    "start_time": "2024-02-13T13:40:40.618Z"
   },
   {
    "duration": 0,
    "start_time": "2024-02-13T13:40:40.776Z"
   },
   {
    "duration": 6,
    "start_time": "2024-02-13T13:41:12.112Z"
   },
   {
    "duration": 156,
    "start_time": "2024-02-13T13:41:15.362Z"
   },
   {
    "duration": 1492,
    "start_time": "2024-02-13T13:42:35.578Z"
   },
   {
    "duration": 995,
    "start_time": "2024-02-13T13:42:37.072Z"
   },
   {
    "duration": 189,
    "start_time": "2024-02-13T13:42:38.069Z"
   },
   {
    "duration": 7,
    "start_time": "2024-02-13T13:42:38.259Z"
   },
   {
    "duration": 968,
    "start_time": "2024-02-13T13:42:38.268Z"
   },
   {
    "duration": 35,
    "start_time": "2024-02-13T13:42:39.239Z"
   },
   {
    "duration": 23,
    "start_time": "2024-02-13T13:42:39.276Z"
   },
   {
    "duration": 49,
    "start_time": "2024-02-13T13:42:39.300Z"
   },
   {
    "duration": 45,
    "start_time": "2024-02-13T13:42:39.351Z"
   },
   {
    "duration": 39,
    "start_time": "2024-02-13T13:42:39.398Z"
   },
   {
    "duration": 186,
    "start_time": "2024-02-13T13:42:39.438Z"
   },
   {
    "duration": 39,
    "start_time": "2024-02-13T13:42:39.627Z"
   },
   {
    "duration": 108,
    "start_time": "2024-02-13T13:42:39.668Z"
   },
   {
    "duration": 41,
    "start_time": "2024-02-13T13:42:39.781Z"
   },
   {
    "duration": 67,
    "start_time": "2024-02-13T13:42:39.833Z"
   },
   {
    "duration": 40,
    "start_time": "2024-02-13T13:42:39.902Z"
   },
   {
    "duration": 227,
    "start_time": "2024-02-13T13:42:39.944Z"
   },
   {
    "duration": 2370,
    "start_time": "2024-02-13T13:42:40.172Z"
   },
   {
    "duration": 74,
    "start_time": "2024-02-13T13:42:42.546Z"
   },
   {
    "duration": 2175,
    "start_time": "2024-02-13T13:42:42.622Z"
   },
   {
    "duration": 1934,
    "start_time": "2024-02-13T13:42:44.799Z"
   },
   {
    "duration": 129,
    "start_time": "2024-02-13T13:42:46.736Z"
   },
   {
    "duration": 2585,
    "start_time": "2024-02-13T13:42:46.867Z"
   },
   {
    "duration": 2011,
    "start_time": "2024-02-13T13:42:49.454Z"
   },
   {
    "duration": 47,
    "start_time": "2024-02-13T13:42:51.466Z"
   },
   {
    "duration": 1759,
    "start_time": "2024-02-13T13:42:51.515Z"
   },
   {
    "duration": 1885,
    "start_time": "2024-02-13T13:42:53.275Z"
   },
   {
    "duration": 1558,
    "start_time": "2024-02-13T13:42:55.162Z"
   },
   {
    "duration": 56,
    "start_time": "2024-02-13T13:42:56.722Z"
   },
   {
    "duration": 1579,
    "start_time": "2024-02-13T13:42:56.780Z"
   },
   {
    "duration": 112,
    "start_time": "2024-02-13T13:42:58.361Z"
   },
   {
    "duration": 127,
    "start_time": "2024-02-13T13:42:58.475Z"
   },
   {
    "duration": 65,
    "start_time": "2024-02-13T13:42:58.603Z"
   },
   {
    "duration": 7,
    "start_time": "2024-02-13T13:42:58.669Z"
   },
   {
    "duration": 193,
    "start_time": "2024-02-13T13:42:58.677Z"
   },
   {
    "duration": 13,
    "start_time": "2024-02-13T13:46:22.845Z"
   },
   {
    "duration": 14,
    "start_time": "2024-02-13T13:47:36.811Z"
   },
   {
    "duration": 41,
    "start_time": "2024-02-13T13:48:42.578Z"
   },
   {
    "duration": 1606,
    "start_time": "2024-02-13T13:50:37.650Z"
   },
   {
    "duration": 1048,
    "start_time": "2024-02-13T13:50:39.258Z"
   },
   {
    "duration": 189,
    "start_time": "2024-02-13T13:50:40.308Z"
   },
   {
    "duration": 7,
    "start_time": "2024-02-13T13:50:40.498Z"
   },
   {
    "duration": 1127,
    "start_time": "2024-02-13T13:50:40.507Z"
   },
   {
    "duration": 39,
    "start_time": "2024-02-13T13:50:41.636Z"
   },
   {
    "duration": 30,
    "start_time": "2024-02-13T13:50:41.677Z"
   },
   {
    "duration": 41,
    "start_time": "2024-02-13T13:50:41.709Z"
   },
   {
    "duration": 50,
    "start_time": "2024-02-13T13:50:41.752Z"
   },
   {
    "duration": 45,
    "start_time": "2024-02-13T13:50:41.803Z"
   },
   {
    "duration": 166,
    "start_time": "2024-02-13T13:50:41.850Z"
   },
   {
    "duration": 34,
    "start_time": "2024-02-13T13:50:42.018Z"
   },
   {
    "duration": 84,
    "start_time": "2024-02-13T13:50:42.053Z"
   },
   {
    "duration": 27,
    "start_time": "2024-02-13T13:50:42.141Z"
   },
   {
    "duration": 42,
    "start_time": "2024-02-13T13:50:42.170Z"
   },
   {
    "duration": 38,
    "start_time": "2024-02-13T13:50:42.213Z"
   },
   {
    "duration": 194,
    "start_time": "2024-02-13T13:50:42.254Z"
   },
   {
    "duration": 2107,
    "start_time": "2024-02-13T13:50:42.450Z"
   },
   {
    "duration": 81,
    "start_time": "2024-02-13T13:50:44.560Z"
   },
   {
    "duration": 2042,
    "start_time": "2024-02-13T13:50:44.644Z"
   },
   {
    "duration": 2000,
    "start_time": "2024-02-13T13:50:46.687Z"
   },
   {
    "duration": 63,
    "start_time": "2024-02-13T13:50:48.689Z"
   },
   {
    "duration": 1902,
    "start_time": "2024-02-13T13:50:48.754Z"
   },
   {
    "duration": 1994,
    "start_time": "2024-02-13T13:50:50.658Z"
   },
   {
    "duration": 46,
    "start_time": "2024-02-13T13:50:52.654Z"
   },
   {
    "duration": 1851,
    "start_time": "2024-02-13T13:50:52.702Z"
   },
   {
    "duration": 1847,
    "start_time": "2024-02-13T13:50:54.555Z"
   },
   {
    "duration": 1633,
    "start_time": "2024-02-13T13:50:56.404Z"
   },
   {
    "duration": 55,
    "start_time": "2024-02-13T13:50:58.039Z"
   },
   {
    "duration": 1645,
    "start_time": "2024-02-13T13:50:58.097Z"
   },
   {
    "duration": 122,
    "start_time": "2024-02-13T13:50:59.745Z"
   },
   {
    "duration": 122,
    "start_time": "2024-02-13T13:50:59.869Z"
   },
   {
    "duration": 60,
    "start_time": "2024-02-13T13:50:59.993Z"
   },
   {
    "duration": 125,
    "start_time": "2024-02-13T13:51:00.055Z"
   },
   {
    "duration": 0,
    "start_time": "2024-02-13T13:51:00.182Z"
   },
   {
    "duration": 21,
    "start_time": "2024-02-13T13:52:02.329Z"
   },
   {
    "duration": 11,
    "start_time": "2024-02-13T13:52:17.609Z"
   },
   {
    "duration": 41,
    "start_time": "2024-02-13T13:53:07.327Z"
   },
   {
    "duration": 91,
    "start_time": "2024-02-13T13:57:52.214Z"
   },
   {
    "duration": 94,
    "start_time": "2024-02-13T13:58:06.385Z"
   },
   {
    "duration": 79,
    "start_time": "2024-02-13T13:58:14.169Z"
   },
   {
    "duration": 87,
    "start_time": "2024-02-13T13:58:37.260Z"
   },
   {
    "duration": 114,
    "start_time": "2024-02-13T13:58:59.088Z"
   },
   {
    "duration": 638,
    "start_time": "2024-02-13T14:00:18.190Z"
   },
   {
    "duration": 48,
    "start_time": "2024-02-13T14:00:22.486Z"
   },
   {
    "duration": 13,
    "start_time": "2024-02-13T14:03:37.996Z"
   },
   {
    "duration": 1532,
    "start_time": "2024-02-13T14:17:14.730Z"
   },
   {
    "duration": 905,
    "start_time": "2024-02-13T14:17:16.264Z"
   },
   {
    "duration": 163,
    "start_time": "2024-02-13T14:17:17.171Z"
   },
   {
    "duration": 10,
    "start_time": "2024-02-13T14:17:17.336Z"
   },
   {
    "duration": 858,
    "start_time": "2024-02-13T14:17:17.348Z"
   },
   {
    "duration": 39,
    "start_time": "2024-02-13T14:17:18.208Z"
   },
   {
    "duration": 25,
    "start_time": "2024-02-13T14:17:18.249Z"
   },
   {
    "duration": 25,
    "start_time": "2024-02-13T14:17:18.275Z"
   },
   {
    "duration": 63,
    "start_time": "2024-02-13T14:17:18.301Z"
   },
   {
    "duration": 21,
    "start_time": "2024-02-13T14:17:18.366Z"
   },
   {
    "duration": 181,
    "start_time": "2024-02-13T14:17:18.388Z"
   },
   {
    "duration": 23,
    "start_time": "2024-02-13T14:17:18.571Z"
   },
   {
    "duration": 105,
    "start_time": "2024-02-13T14:17:18.595Z"
   },
   {
    "duration": 41,
    "start_time": "2024-02-13T14:17:18.705Z"
   },
   {
    "duration": 57,
    "start_time": "2024-02-13T14:17:18.748Z"
   },
   {
    "duration": 40,
    "start_time": "2024-02-13T14:17:18.807Z"
   },
   {
    "duration": 169,
    "start_time": "2024-02-13T14:17:18.848Z"
   },
   {
    "duration": 1852,
    "start_time": "2024-02-13T14:17:19.019Z"
   },
   {
    "duration": 76,
    "start_time": "2024-02-13T14:17:20.873Z"
   },
   {
    "duration": 1934,
    "start_time": "2024-02-13T14:17:20.951Z"
   },
   {
    "duration": 1725,
    "start_time": "2024-02-13T14:17:22.887Z"
   },
   {
    "duration": 60,
    "start_time": "2024-02-13T14:17:24.614Z"
   },
   {
    "duration": 1860,
    "start_time": "2024-02-13T14:17:24.676Z"
   },
   {
    "duration": 1870,
    "start_time": "2024-02-13T14:17:26.538Z"
   },
   {
    "duration": 46,
    "start_time": "2024-02-13T14:17:28.410Z"
   },
   {
    "duration": 1578,
    "start_time": "2024-02-13T14:17:28.458Z"
   },
   {
    "duration": 1652,
    "start_time": "2024-02-13T14:17:30.038Z"
   },
   {
    "duration": 1409,
    "start_time": "2024-02-13T14:17:31.691Z"
   },
   {
    "duration": 54,
    "start_time": "2024-02-13T14:17:33.102Z"
   },
   {
    "duration": 1505,
    "start_time": "2024-02-13T14:17:33.158Z"
   },
   {
    "duration": 105,
    "start_time": "2024-02-13T14:17:34.665Z"
   },
   {
    "duration": 115,
    "start_time": "2024-02-13T14:17:34.772Z"
   },
   {
    "duration": 69,
    "start_time": "2024-02-13T14:17:34.889Z"
   },
   {
    "duration": 15,
    "start_time": "2024-02-13T14:17:34.960Z"
   },
   {
    "duration": 1486,
    "start_time": "2024-02-13T14:30:42.522Z"
   },
   {
    "duration": 914,
    "start_time": "2024-02-13T14:30:44.010Z"
   },
   {
    "duration": 154,
    "start_time": "2024-02-13T14:30:44.926Z"
   },
   {
    "duration": 6,
    "start_time": "2024-02-13T14:30:45.082Z"
   },
   {
    "duration": 859,
    "start_time": "2024-02-13T14:30:45.090Z"
   },
   {
    "duration": 30,
    "start_time": "2024-02-13T14:30:45.950Z"
   },
   {
    "duration": 27,
    "start_time": "2024-02-13T14:30:45.983Z"
   },
   {
    "duration": 41,
    "start_time": "2024-02-13T14:30:46.012Z"
   },
   {
    "duration": 61,
    "start_time": "2024-02-13T14:30:46.055Z"
   },
   {
    "duration": 21,
    "start_time": "2024-02-13T14:30:46.134Z"
   },
   {
    "duration": 160,
    "start_time": "2024-02-13T14:30:46.157Z"
   },
   {
    "duration": 27,
    "start_time": "2024-02-13T14:30:46.319Z"
   },
   {
    "duration": 87,
    "start_time": "2024-02-13T14:30:46.347Z"
   },
   {
    "duration": 22,
    "start_time": "2024-02-13T14:30:46.438Z"
   },
   {
    "duration": 42,
    "start_time": "2024-02-13T14:30:46.461Z"
   },
   {
    "duration": 34,
    "start_time": "2024-02-13T14:30:46.505Z"
   },
   {
    "duration": 170,
    "start_time": "2024-02-13T14:30:46.541Z"
   },
   {
    "duration": 1940,
    "start_time": "2024-02-13T14:30:46.713Z"
   },
   {
    "duration": 84,
    "start_time": "2024-02-13T14:30:48.654Z"
   },
   {
    "duration": 1854,
    "start_time": "2024-02-13T14:30:48.739Z"
   },
   {
    "duration": 1791,
    "start_time": "2024-02-13T14:30:50.595Z"
   },
   {
    "duration": 62,
    "start_time": "2024-02-13T14:30:52.387Z"
   },
   {
    "duration": 1682,
    "start_time": "2024-02-13T14:30:52.451Z"
   },
   {
    "duration": 1777,
    "start_time": "2024-02-13T14:30:54.134Z"
   },
   {
    "duration": 58,
    "start_time": "2024-02-13T14:30:55.913Z"
   },
   {
    "duration": 1582,
    "start_time": "2024-02-13T14:30:55.973Z"
   },
   {
    "duration": 2510,
    "start_time": "2024-02-13T14:30:57.557Z"
   },
   {
    "duration": 1552,
    "start_time": "2024-02-13T14:31:00.069Z"
   },
   {
    "duration": 58,
    "start_time": "2024-02-13T14:31:01.623Z"
   },
   {
    "duration": 1644,
    "start_time": "2024-02-13T14:31:01.682Z"
   },
   {
    "duration": 119,
    "start_time": "2024-02-13T14:31:03.328Z"
   },
   {
    "duration": 128,
    "start_time": "2024-02-13T14:31:03.448Z"
   },
   {
    "duration": 66,
    "start_time": "2024-02-13T14:31:03.577Z"
   },
   {
    "duration": 21,
    "start_time": "2024-02-13T14:31:03.645Z"
   },
   {
    "duration": 1402,
    "start_time": "2024-02-13T14:33:28.092Z"
   },
   {
    "duration": 862,
    "start_time": "2024-02-13T14:33:29.496Z"
   },
   {
    "duration": 175,
    "start_time": "2024-02-13T14:33:30.359Z"
   },
   {
    "duration": 7,
    "start_time": "2024-02-13T14:33:30.535Z"
   },
   {
    "duration": 981,
    "start_time": "2024-02-13T14:33:30.544Z"
   },
   {
    "duration": 40,
    "start_time": "2024-02-13T14:33:31.526Z"
   },
   {
    "duration": 48,
    "start_time": "2024-02-13T14:33:31.568Z"
   },
   {
    "duration": 25,
    "start_time": "2024-02-13T14:33:31.618Z"
   },
   {
    "duration": 46,
    "start_time": "2024-02-13T14:33:31.645Z"
   },
   {
    "duration": 51,
    "start_time": "2024-02-13T14:33:31.693Z"
   },
   {
    "duration": 168,
    "start_time": "2024-02-13T14:33:31.746Z"
   },
   {
    "duration": 31,
    "start_time": "2024-02-13T14:33:31.916Z"
   },
   {
    "duration": 77,
    "start_time": "2024-02-13T14:33:31.948Z"
   },
   {
    "duration": 26,
    "start_time": "2024-02-13T14:33:32.027Z"
   },
   {
    "duration": 65,
    "start_time": "2024-02-13T14:33:32.055Z"
   },
   {
    "duration": 21,
    "start_time": "2024-02-13T14:33:32.121Z"
   },
   {
    "duration": 184,
    "start_time": "2024-02-13T14:33:32.143Z"
   },
   {
    "duration": 2107,
    "start_time": "2024-02-13T14:33:32.333Z"
   },
   {
    "duration": 122,
    "start_time": "2024-02-13T14:33:34.442Z"
   },
   {
    "duration": 2570,
    "start_time": "2024-02-13T14:33:34.565Z"
   },
   {
    "duration": 1882,
    "start_time": "2024-02-13T14:33:37.137Z"
   },
   {
    "duration": 57,
    "start_time": "2024-02-13T14:33:39.020Z"
   },
   {
    "duration": 1932,
    "start_time": "2024-02-13T14:33:39.079Z"
   },
   {
    "duration": 1940,
    "start_time": "2024-02-13T14:33:41.012Z"
   },
   {
    "duration": 48,
    "start_time": "2024-02-13T14:33:42.954Z"
   },
   {
    "duration": 1614,
    "start_time": "2024-02-13T14:33:43.004Z"
   },
   {
    "duration": 1770,
    "start_time": "2024-02-13T14:33:44.621Z"
   },
   {
    "duration": 1373,
    "start_time": "2024-02-13T14:33:46.394Z"
   },
   {
    "duration": 70,
    "start_time": "2024-02-13T14:33:47.769Z"
   },
   {
    "duration": 1518,
    "start_time": "2024-02-13T14:33:47.841Z"
   },
   {
    "duration": 110,
    "start_time": "2024-02-13T14:33:49.361Z"
   },
   {
    "duration": 112,
    "start_time": "2024-02-13T14:33:49.473Z"
   },
   {
    "duration": 65,
    "start_time": "2024-02-13T14:33:49.587Z"
   },
   {
    "duration": 13,
    "start_time": "2024-02-13T14:33:49.654Z"
   },
   {
    "duration": 17,
    "start_time": "2024-02-13T14:48:04.986Z"
   },
   {
    "duration": 1358,
    "start_time": "2024-02-13T14:50:15.670Z"
   },
   {
    "duration": 856,
    "start_time": "2024-02-13T14:50:17.030Z"
   },
   {
    "duration": 160,
    "start_time": "2024-02-13T14:50:17.887Z"
   },
   {
    "duration": 6,
    "start_time": "2024-02-13T14:50:18.049Z"
   },
   {
    "duration": 837,
    "start_time": "2024-02-13T14:50:18.057Z"
   },
   {
    "duration": 46,
    "start_time": "2024-02-13T14:50:18.895Z"
   },
   {
    "duration": 41,
    "start_time": "2024-02-13T14:50:18.943Z"
   },
   {
    "duration": 52,
    "start_time": "2024-02-13T14:50:18.986Z"
   },
   {
    "duration": 55,
    "start_time": "2024-02-13T14:50:19.041Z"
   },
   {
    "duration": 19,
    "start_time": "2024-02-13T14:50:19.097Z"
   },
   {
    "duration": 182,
    "start_time": "2024-02-13T14:50:19.118Z"
   },
   {
    "duration": 22,
    "start_time": "2024-02-13T14:50:19.302Z"
   },
   {
    "duration": 73,
    "start_time": "2024-02-13T14:50:19.333Z"
   },
   {
    "duration": 29,
    "start_time": "2024-02-13T14:50:19.410Z"
   },
   {
    "duration": 64,
    "start_time": "2024-02-13T14:50:19.441Z"
   },
   {
    "duration": 29,
    "start_time": "2024-02-13T14:50:19.506Z"
   },
   {
    "duration": 167,
    "start_time": "2024-02-13T14:50:19.537Z"
   },
   {
    "duration": 1806,
    "start_time": "2024-02-13T14:50:19.706Z"
   },
   {
    "duration": 77,
    "start_time": "2024-02-13T14:50:21.514Z"
   },
   {
    "duration": 1901,
    "start_time": "2024-02-13T14:50:21.593Z"
   },
   {
    "duration": 1772,
    "start_time": "2024-02-13T14:50:23.496Z"
   },
   {
    "duration": 45,
    "start_time": "2024-02-13T14:50:25.270Z"
   },
   {
    "duration": 1676,
    "start_time": "2024-02-13T14:50:25.316Z"
   },
   {
    "duration": 1856,
    "start_time": "2024-02-13T14:50:26.993Z"
   },
   {
    "duration": 53,
    "start_time": "2024-02-13T14:50:28.850Z"
   },
   {
    "duration": 1648,
    "start_time": "2024-02-13T14:50:28.905Z"
   },
   {
    "duration": 2407,
    "start_time": "2024-02-13T14:50:30.555Z"
   },
   {
    "duration": 1544,
    "start_time": "2024-02-13T14:50:32.963Z"
   },
   {
    "duration": 55,
    "start_time": "2024-02-13T14:50:34.508Z"
   },
   {
    "duration": 1579,
    "start_time": "2024-02-13T14:50:34.565Z"
   },
   {
    "duration": 100,
    "start_time": "2024-02-13T14:50:36.146Z"
   },
   {
    "duration": 114,
    "start_time": "2024-02-13T14:50:36.248Z"
   },
   {
    "duration": 56,
    "start_time": "2024-02-13T14:50:36.363Z"
   },
   {
    "duration": 23,
    "start_time": "2024-02-13T14:50:36.420Z"
   },
   {
    "duration": 146,
    "start_time": "2024-02-13T14:50:36.445Z"
   },
   {
    "duration": 29,
    "start_time": "2024-02-13T14:51:16.903Z"
   },
   {
    "duration": 343,
    "start_time": "2024-02-13T14:52:20.684Z"
   },
   {
    "duration": 18,
    "start_time": "2024-02-13T14:53:30.041Z"
   },
   {
    "duration": 351,
    "start_time": "2024-02-13T14:53:54.657Z"
   },
   {
    "duration": 1504,
    "start_time": "2024-02-13T14:54:08.536Z"
   },
   {
    "duration": 858,
    "start_time": "2024-02-13T14:54:10.041Z"
   },
   {
    "duration": 174,
    "start_time": "2024-02-13T14:54:10.900Z"
   },
   {
    "duration": 10,
    "start_time": "2024-02-13T14:54:11.076Z"
   },
   {
    "duration": 862,
    "start_time": "2024-02-13T14:54:11.089Z"
   },
   {
    "duration": 38,
    "start_time": "2024-02-13T14:54:11.952Z"
   },
   {
    "duration": 42,
    "start_time": "2024-02-13T14:54:11.992Z"
   },
   {
    "duration": 23,
    "start_time": "2024-02-13T14:54:12.036Z"
   },
   {
    "duration": 43,
    "start_time": "2024-02-13T14:54:12.060Z"
   },
   {
    "duration": 32,
    "start_time": "2024-02-13T14:54:12.104Z"
   },
   {
    "duration": 177,
    "start_time": "2024-02-13T14:54:12.137Z"
   },
   {
    "duration": 32,
    "start_time": "2024-02-13T14:54:12.315Z"
   },
   {
    "duration": 73,
    "start_time": "2024-02-13T14:54:12.349Z"
   },
   {
    "duration": 22,
    "start_time": "2024-02-13T14:54:12.432Z"
   },
   {
    "duration": 41,
    "start_time": "2024-02-13T14:54:12.456Z"
   },
   {
    "duration": 38,
    "start_time": "2024-02-13T14:54:12.499Z"
   },
   {
    "duration": 180,
    "start_time": "2024-02-13T14:54:12.538Z"
   },
   {
    "duration": 2014,
    "start_time": "2024-02-13T14:54:12.719Z"
   },
   {
    "duration": 74,
    "start_time": "2024-02-13T14:54:14.735Z"
   },
   {
    "duration": 1925,
    "start_time": "2024-02-13T14:54:14.811Z"
   },
   {
    "duration": 1693,
    "start_time": "2024-02-13T14:54:16.738Z"
   },
   {
    "duration": 48,
    "start_time": "2024-02-13T14:54:18.432Z"
   },
   {
    "duration": 1733,
    "start_time": "2024-02-13T14:54:18.481Z"
   },
   {
    "duration": 1796,
    "start_time": "2024-02-13T14:54:20.216Z"
   },
   {
    "duration": 49,
    "start_time": "2024-02-13T14:54:22.013Z"
   },
   {
    "duration": 1550,
    "start_time": "2024-02-13T14:54:22.064Z"
   },
   {
    "duration": 1641,
    "start_time": "2024-02-13T14:54:23.615Z"
   },
   {
    "duration": 1397,
    "start_time": "2024-02-13T14:54:25.258Z"
   },
   {
    "duration": 49,
    "start_time": "2024-02-13T14:54:26.656Z"
   },
   {
    "duration": 1511,
    "start_time": "2024-02-13T14:54:26.706Z"
   },
   {
    "duration": 101,
    "start_time": "2024-02-13T14:54:28.218Z"
   },
   {
    "duration": 128,
    "start_time": "2024-02-13T14:54:28.321Z"
   },
   {
    "duration": 54,
    "start_time": "2024-02-13T14:54:28.450Z"
   },
   {
    "duration": 28,
    "start_time": "2024-02-13T14:54:28.505Z"
   },
   {
    "duration": 431,
    "start_time": "2024-02-13T14:54:28.535Z"
   },
   {
    "duration": 16352,
    "start_time": "2024-02-13T14:54:48.307Z"
   },
   {
    "duration": 20,
    "start_time": "2024-02-13T14:55:57.427Z"
   },
   {
    "duration": 517,
    "start_time": "2024-02-13T14:56:37.844Z"
   },
   {
    "duration": 541,
    "start_time": "2024-02-13T14:56:50.096Z"
   },
   {
    "duration": 174854,
    "start_time": "2024-02-13T14:56:54.399Z"
   },
   {
    "duration": 531,
    "start_time": "2024-02-13T15:00:13.253Z"
   },
   {
    "duration": 13,
    "start_time": "2024-02-13T15:00:27.833Z"
   },
   {
    "duration": 16,
    "start_time": "2024-02-13T15:01:21.529Z"
   },
   {
    "duration": 17,
    "start_time": "2024-02-13T15:01:45.824Z"
   },
   {
    "duration": 152965,
    "start_time": "2024-02-13T15:02:10.991Z"
   },
   {
    "duration": 13,
    "start_time": "2024-02-13T15:05:51.504Z"
   },
   {
    "duration": 22,
    "start_time": "2024-02-13T15:06:54.670Z"
   },
   {
    "duration": 1475,
    "start_time": "2024-02-13T15:07:12.755Z"
   },
   {
    "duration": 885,
    "start_time": "2024-02-13T15:07:14.232Z"
   },
   {
    "duration": 184,
    "start_time": "2024-02-13T15:07:15.119Z"
   },
   {
    "duration": 8,
    "start_time": "2024-02-13T15:07:15.305Z"
   },
   {
    "duration": 878,
    "start_time": "2024-02-13T15:07:15.315Z"
   },
   {
    "duration": 43,
    "start_time": "2024-02-13T15:07:16.195Z"
   },
   {
    "duration": 26,
    "start_time": "2024-02-13T15:07:16.239Z"
   },
   {
    "duration": 24,
    "start_time": "2024-02-13T15:07:16.266Z"
   },
   {
    "duration": 65,
    "start_time": "2024-02-13T15:07:16.292Z"
   },
   {
    "duration": 21,
    "start_time": "2024-02-13T15:07:16.359Z"
   },
   {
    "duration": 165,
    "start_time": "2024-02-13T15:07:16.382Z"
   },
   {
    "duration": 22,
    "start_time": "2024-02-13T15:07:16.548Z"
   },
   {
    "duration": 96,
    "start_time": "2024-02-13T15:07:16.572Z"
   },
   {
    "duration": 22,
    "start_time": "2024-02-13T15:07:16.670Z"
   },
   {
    "duration": 53,
    "start_time": "2024-02-13T15:07:16.693Z"
   },
   {
    "duration": 21,
    "start_time": "2024-02-13T15:07:16.748Z"
   },
   {
    "duration": 202,
    "start_time": "2024-02-13T15:07:16.771Z"
   },
   {
    "duration": 2218,
    "start_time": "2024-02-13T15:07:16.975Z"
   },
   {
    "duration": 80,
    "start_time": "2024-02-13T15:07:19.195Z"
   },
   {
    "duration": 2066,
    "start_time": "2024-02-13T15:07:19.277Z"
   },
   {
    "duration": 1880,
    "start_time": "2024-02-13T15:07:21.345Z"
   },
   {
    "duration": 46,
    "start_time": "2024-02-13T15:07:23.227Z"
   },
   {
    "duration": 1770,
    "start_time": "2024-02-13T15:07:23.274Z"
   },
   {
    "duration": 1738,
    "start_time": "2024-02-13T15:07:25.045Z"
   },
   {
    "duration": 49,
    "start_time": "2024-02-13T15:07:26.785Z"
   },
   {
    "duration": 1553,
    "start_time": "2024-02-13T15:07:26.835Z"
   },
   {
    "duration": 1684,
    "start_time": "2024-02-13T15:07:28.389Z"
   },
   {
    "duration": 1399,
    "start_time": "2024-02-13T15:07:30.075Z"
   },
   {
    "duration": 59,
    "start_time": "2024-02-13T15:07:31.476Z"
   },
   {
    "duration": 1487,
    "start_time": "2024-02-13T15:07:31.536Z"
   },
   {
    "duration": 98,
    "start_time": "2024-02-13T15:07:33.032Z"
   },
   {
    "duration": 123,
    "start_time": "2024-02-13T15:07:33.133Z"
   },
   {
    "duration": 95,
    "start_time": "2024-02-13T15:07:33.258Z"
   },
   {
    "duration": 13,
    "start_time": "2024-02-13T15:07:33.354Z"
   },
   {
    "duration": 120,
    "start_time": "2024-02-13T15:07:33.369Z"
   },
   {
    "duration": 14,
    "start_time": "2024-02-13T15:09:03.823Z"
   },
   {
    "duration": 23,
    "start_time": "2024-02-13T15:09:07.574Z"
   },
   {
    "duration": 45,
    "start_time": "2024-02-13T15:09:23.699Z"
   },
   {
    "duration": 218210,
    "start_time": "2024-02-13T15:10:44.048Z"
   },
   {
    "duration": 233,
    "start_time": "2024-02-13T15:14:27.039Z"
   },
   {
    "duration": 14,
    "start_time": "2024-02-13T15:15:02.444Z"
   },
   {
    "duration": 28,
    "start_time": "2024-02-13T15:15:13.143Z"
   },
   {
    "duration": 351,
    "start_time": "2024-02-13T15:15:23.053Z"
   },
   {
    "duration": 497,
    "start_time": "2024-02-13T15:16:20.047Z"
   },
   {
    "duration": 707,
    "start_time": "2024-02-13T15:16:32.051Z"
   },
   {
    "duration": 47,
    "start_time": "2024-02-13T15:16:46.776Z"
   },
   {
    "duration": 11,
    "start_time": "2024-02-13T15:17:08.431Z"
   },
   {
    "duration": 14,
    "start_time": "2024-02-13T15:18:53.842Z"
   },
   {
    "duration": 12347,
    "start_time": "2024-02-13T15:55:02.475Z"
   },
   {
    "duration": 1407,
    "start_time": "2024-02-13T16:13:18.596Z"
   },
   {
    "duration": 838,
    "start_time": "2024-02-13T16:13:20.004Z"
   },
   {
    "duration": 162,
    "start_time": "2024-02-13T16:13:20.844Z"
   },
   {
    "duration": 7,
    "start_time": "2024-02-13T16:13:21.007Z"
   },
   {
    "duration": 863,
    "start_time": "2024-02-13T16:13:21.016Z"
   },
   {
    "duration": 33,
    "start_time": "2024-02-13T16:13:21.880Z"
   },
   {
    "duration": 48,
    "start_time": "2024-02-13T16:13:21.915Z"
   },
   {
    "duration": 28,
    "start_time": "2024-02-13T16:13:21.965Z"
   },
   {
    "duration": 46,
    "start_time": "2024-02-13T16:13:21.995Z"
   },
   {
    "duration": 19,
    "start_time": "2024-02-13T16:13:22.043Z"
   },
   {
    "duration": 156,
    "start_time": "2024-02-13T16:13:22.065Z"
   },
   {
    "duration": 22,
    "start_time": "2024-02-13T16:13:22.223Z"
   },
   {
    "duration": 69,
    "start_time": "2024-02-13T16:13:22.246Z"
   },
   {
    "duration": 21,
    "start_time": "2024-02-13T16:13:22.332Z"
   },
   {
    "duration": 54,
    "start_time": "2024-02-13T16:13:22.354Z"
   },
   {
    "duration": 26,
    "start_time": "2024-02-13T16:13:22.409Z"
   },
   {
    "duration": 167,
    "start_time": "2024-02-13T16:13:22.436Z"
   },
   {
    "duration": 1944,
    "start_time": "2024-02-13T16:13:22.604Z"
   },
   {
    "duration": 67,
    "start_time": "2024-02-13T16:13:24.549Z"
   },
   {
    "duration": 1877,
    "start_time": "2024-02-13T16:13:24.618Z"
   },
   {
    "duration": 1737,
    "start_time": "2024-02-13T16:13:26.497Z"
   },
   {
    "duration": 48,
    "start_time": "2024-02-13T16:13:28.236Z"
   },
   {
    "duration": 1646,
    "start_time": "2024-02-13T16:13:28.285Z"
   },
   {
    "duration": 1745,
    "start_time": "2024-02-13T16:13:29.933Z"
   },
   {
    "duration": 56,
    "start_time": "2024-02-13T16:13:31.680Z"
   },
   {
    "duration": 1695,
    "start_time": "2024-02-13T16:13:31.738Z"
   },
   {
    "duration": 1902,
    "start_time": "2024-02-13T16:13:33.435Z"
   },
   {
    "duration": 1439,
    "start_time": "2024-02-13T16:13:35.339Z"
   },
   {
    "duration": 65,
    "start_time": "2024-02-13T16:13:36.780Z"
   },
   {
    "duration": 1439,
    "start_time": "2024-02-13T16:13:36.847Z"
   },
   {
    "duration": 102,
    "start_time": "2024-02-13T16:13:38.288Z"
   },
   {
    "duration": 117,
    "start_time": "2024-02-13T16:13:38.392Z"
   },
   {
    "duration": 61,
    "start_time": "2024-02-13T16:13:38.511Z"
   },
   {
    "duration": 15,
    "start_time": "2024-02-13T16:13:38.574Z"
   },
   {
    "duration": 23539,
    "start_time": "2024-02-13T16:13:38.591Z"
   },
   {
    "duration": 177123,
    "start_time": "2024-02-13T16:14:04.038Z"
   },
   {
    "duration": 18,
    "start_time": "2024-02-13T16:17:27.384Z"
   },
   {
    "duration": 0,
    "start_time": "2024-02-13T16:36:33.548Z"
   },
   {
    "duration": 0,
    "start_time": "2024-02-13T16:36:33.549Z"
   },
   {
    "duration": 320,
    "start_time": "2024-02-13T16:41:48.734Z"
   },
   {
    "duration": 220936,
    "start_time": "2024-02-13T16:43:32.626Z"
   },
   {
    "duration": 312,
    "start_time": "2024-02-13T16:47:20.280Z"
   },
   {
    "duration": 1435,
    "start_time": "2024-02-13T16:47:34.623Z"
   },
   {
    "duration": 892,
    "start_time": "2024-02-13T16:47:36.060Z"
   },
   {
    "duration": 157,
    "start_time": "2024-02-13T16:47:36.953Z"
   },
   {
    "duration": 7,
    "start_time": "2024-02-13T16:47:37.111Z"
   },
   {
    "duration": 857,
    "start_time": "2024-02-13T16:47:37.120Z"
   },
   {
    "duration": 36,
    "start_time": "2024-02-13T16:47:37.979Z"
   },
   {
    "duration": 37,
    "start_time": "2024-02-13T16:47:38.016Z"
   },
   {
    "duration": 24,
    "start_time": "2024-02-13T16:47:38.054Z"
   },
   {
    "duration": 55,
    "start_time": "2024-02-13T16:47:38.079Z"
   },
   {
    "duration": 21,
    "start_time": "2024-02-13T16:47:38.136Z"
   },
   {
    "duration": 156,
    "start_time": "2024-02-13T16:47:38.158Z"
   },
   {
    "duration": 25,
    "start_time": "2024-02-13T16:47:38.315Z"
   },
   {
    "duration": 69,
    "start_time": "2024-02-13T16:47:38.342Z"
   },
   {
    "duration": 33,
    "start_time": "2024-02-13T16:47:38.414Z"
   },
   {
    "duration": 46,
    "start_time": "2024-02-13T16:47:38.449Z"
   },
   {
    "duration": 21,
    "start_time": "2024-02-13T16:47:38.497Z"
   },
   {
    "duration": 180,
    "start_time": "2024-02-13T16:47:38.519Z"
   },
   {
    "duration": 1841,
    "start_time": "2024-02-13T16:47:38.700Z"
   },
   {
    "duration": 69,
    "start_time": "2024-02-13T16:47:40.542Z"
   },
   {
    "duration": 1901,
    "start_time": "2024-02-13T16:47:40.613Z"
   },
   {
    "duration": 1704,
    "start_time": "2024-02-13T16:47:42.516Z"
   },
   {
    "duration": 54,
    "start_time": "2024-02-13T16:47:44.222Z"
   },
   {
    "duration": 1740,
    "start_time": "2024-02-13T16:47:44.278Z"
   },
   {
    "duration": 1702,
    "start_time": "2024-02-13T16:47:46.020Z"
   },
   {
    "duration": 59,
    "start_time": "2024-02-13T16:47:47.723Z"
   },
   {
    "duration": 1523,
    "start_time": "2024-02-13T16:47:47.783Z"
   },
   {
    "duration": 1893,
    "start_time": "2024-02-13T16:47:49.308Z"
   },
   {
    "duration": 1386,
    "start_time": "2024-02-13T16:47:51.203Z"
   },
   {
    "duration": 46,
    "start_time": "2024-02-13T16:47:52.591Z"
   },
   {
    "duration": 1429,
    "start_time": "2024-02-13T16:47:52.638Z"
   },
   {
    "duration": 96,
    "start_time": "2024-02-13T16:47:54.069Z"
   },
   {
    "duration": 112,
    "start_time": "2024-02-13T16:47:54.166Z"
   },
   {
    "duration": 54,
    "start_time": "2024-02-13T16:47:54.280Z"
   },
   {
    "duration": 14,
    "start_time": "2024-02-13T16:47:54.336Z"
   },
   {
    "duration": 429,
    "start_time": "2024-02-13T16:47:54.351Z"
   },
   {
    "duration": 0,
    "start_time": "2024-02-13T16:47:54.781Z"
   },
   {
    "duration": 0,
    "start_time": "2024-02-13T16:47:54.782Z"
   },
   {
    "duration": 368,
    "start_time": "2024-02-13T16:49:14.380Z"
   },
   {
    "duration": 14,
    "start_time": "2024-02-13T16:49:27.863Z"
   },
   {
    "duration": 319,
    "start_time": "2024-02-13T16:49:29.521Z"
   },
   {
    "duration": 327,
    "start_time": "2024-02-13T16:49:30.994Z"
   },
   {
    "duration": 31,
    "start_time": "2024-02-13T16:52:38.308Z"
   },
   {
    "duration": 30,
    "start_time": "2024-02-13T16:54:12.460Z"
   },
   {
    "duration": 1339,
    "start_time": "2024-02-13T16:54:53.465Z"
   },
   {
    "duration": 850,
    "start_time": "2024-02-13T16:54:54.807Z"
   },
   {
    "duration": 176,
    "start_time": "2024-02-13T16:54:55.659Z"
   },
   {
    "duration": 6,
    "start_time": "2024-02-13T16:54:55.837Z"
   },
   {
    "duration": 847,
    "start_time": "2024-02-13T16:54:55.845Z"
   },
   {
    "duration": 42,
    "start_time": "2024-02-13T16:54:56.694Z"
   },
   {
    "duration": 24,
    "start_time": "2024-02-13T16:54:56.738Z"
   },
   {
    "duration": 23,
    "start_time": "2024-02-13T16:54:56.763Z"
   },
   {
    "duration": 61,
    "start_time": "2024-02-13T16:54:56.787Z"
   },
   {
    "duration": 21,
    "start_time": "2024-02-13T16:54:56.849Z"
   },
   {
    "duration": 163,
    "start_time": "2024-02-13T16:54:56.871Z"
   },
   {
    "duration": 21,
    "start_time": "2024-02-13T16:54:57.035Z"
   },
   {
    "duration": 91,
    "start_time": "2024-02-13T16:54:57.058Z"
   },
   {
    "duration": 20,
    "start_time": "2024-02-13T16:54:57.153Z"
   },
   {
    "duration": 39,
    "start_time": "2024-02-13T16:54:57.175Z"
   },
   {
    "duration": 30,
    "start_time": "2024-02-13T16:54:57.215Z"
   },
   {
    "duration": 166,
    "start_time": "2024-02-13T16:54:57.247Z"
   },
   {
    "duration": 1811,
    "start_time": "2024-02-13T16:54:57.415Z"
   },
   {
    "duration": 70,
    "start_time": "2024-02-13T16:54:59.228Z"
   },
   {
    "duration": 1951,
    "start_time": "2024-02-13T16:54:59.299Z"
   },
   {
    "duration": 1830,
    "start_time": "2024-02-13T16:55:01.251Z"
   },
   {
    "duration": 60,
    "start_time": "2024-02-13T16:55:03.083Z"
   },
   {
    "duration": 1685,
    "start_time": "2024-02-13T16:55:03.145Z"
   },
   {
    "duration": 1792,
    "start_time": "2024-02-13T16:55:04.832Z"
   },
   {
    "duration": 50,
    "start_time": "2024-02-13T16:55:06.625Z"
   },
   {
    "duration": 1532,
    "start_time": "2024-02-13T16:55:06.676Z"
   },
   {
    "duration": 1762,
    "start_time": "2024-02-13T16:55:08.210Z"
   },
   {
    "duration": 1562,
    "start_time": "2024-02-13T16:55:09.973Z"
   },
   {
    "duration": 46,
    "start_time": "2024-02-13T16:55:11.536Z"
   },
   {
    "duration": 1479,
    "start_time": "2024-02-13T16:55:11.583Z"
   },
   {
    "duration": 105,
    "start_time": "2024-02-13T16:55:13.063Z"
   },
   {
    "duration": 114,
    "start_time": "2024-02-13T16:55:13.170Z"
   },
   {
    "duration": 58,
    "start_time": "2024-02-13T16:55:13.285Z"
   },
   {
    "duration": 13,
    "start_time": "2024-02-13T16:55:13.345Z"
   },
   {
    "duration": 136,
    "start_time": "2024-02-13T16:55:13.360Z"
   },
   {
    "duration": 0,
    "start_time": "2024-02-13T16:55:13.497Z"
   },
   {
    "duration": 0,
    "start_time": "2024-02-13T16:55:13.499Z"
   },
   {
    "duration": 0,
    "start_time": "2024-02-13T16:55:13.500Z"
   },
   {
    "duration": 313,
    "start_time": "2024-02-13T16:55:34.772Z"
   },
   {
    "duration": 14,
    "start_time": "2024-02-13T16:58:23.865Z"
   },
   {
    "duration": 291,
    "start_time": "2024-02-13T16:58:26.359Z"
   },
   {
    "duration": 1387,
    "start_time": "2024-02-13T16:58:35.334Z"
   },
   {
    "duration": 819,
    "start_time": "2024-02-13T16:58:36.723Z"
   },
   {
    "duration": 171,
    "start_time": "2024-02-13T16:58:37.544Z"
   },
   {
    "duration": 7,
    "start_time": "2024-02-13T16:58:37.716Z"
   },
   {
    "duration": 870,
    "start_time": "2024-02-13T16:58:37.732Z"
   },
   {
    "duration": 38,
    "start_time": "2024-02-13T16:58:38.603Z"
   },
   {
    "duration": 28,
    "start_time": "2024-02-13T16:58:38.643Z"
   },
   {
    "duration": 24,
    "start_time": "2024-02-13T16:58:38.672Z"
   },
   {
    "duration": 55,
    "start_time": "2024-02-13T16:58:38.698Z"
   },
   {
    "duration": 21,
    "start_time": "2024-02-13T16:58:38.755Z"
   },
   {
    "duration": 169,
    "start_time": "2024-02-13T16:58:38.778Z"
   },
   {
    "duration": 23,
    "start_time": "2024-02-13T16:58:38.949Z"
   },
   {
    "duration": 82,
    "start_time": "2024-02-13T16:58:38.974Z"
   },
   {
    "duration": 30,
    "start_time": "2024-02-13T16:58:39.060Z"
   },
   {
    "duration": 74,
    "start_time": "2024-02-13T16:58:39.092Z"
   },
   {
    "duration": 20,
    "start_time": "2024-02-13T16:58:39.168Z"
   },
   {
    "duration": 173,
    "start_time": "2024-02-13T16:58:39.189Z"
   },
   {
    "duration": 1912,
    "start_time": "2024-02-13T16:58:39.363Z"
   },
   {
    "duration": 74,
    "start_time": "2024-02-13T16:58:41.276Z"
   },
   {
    "duration": 1971,
    "start_time": "2024-02-13T16:58:41.352Z"
   },
   {
    "duration": 1760,
    "start_time": "2024-02-13T16:58:43.325Z"
   },
   {
    "duration": 65,
    "start_time": "2024-02-13T16:58:45.086Z"
   },
   {
    "duration": 1845,
    "start_time": "2024-02-13T16:58:45.153Z"
   },
   {
    "duration": 1827,
    "start_time": "2024-02-13T16:58:46.999Z"
   },
   {
    "duration": 45,
    "start_time": "2024-02-13T16:58:48.828Z"
   },
   {
    "duration": 1601,
    "start_time": "2024-02-13T16:58:48.874Z"
   },
   {
    "duration": 1763,
    "start_time": "2024-02-13T16:58:50.477Z"
   },
   {
    "duration": 1559,
    "start_time": "2024-02-13T16:58:52.246Z"
   },
   {
    "duration": 60,
    "start_time": "2024-02-13T16:58:53.806Z"
   },
   {
    "duration": 1455,
    "start_time": "2024-02-13T16:58:53.868Z"
   },
   {
    "duration": 120,
    "start_time": "2024-02-13T16:58:55.325Z"
   },
   {
    "duration": 120,
    "start_time": "2024-02-13T16:58:55.446Z"
   },
   {
    "duration": 67,
    "start_time": "2024-02-13T16:58:55.567Z"
   },
   {
    "duration": 13,
    "start_time": "2024-02-13T16:58:55.636Z"
   },
   {
    "duration": 433,
    "start_time": "2024-02-13T16:58:55.650Z"
   },
   {
    "duration": 0,
    "start_time": "2024-02-13T16:58:56.085Z"
   },
   {
    "duration": 0,
    "start_time": "2024-02-13T16:58:56.086Z"
   },
   {
    "duration": 0,
    "start_time": "2024-02-13T16:58:56.087Z"
   },
   {
    "duration": 14,
    "start_time": "2024-02-13T17:01:56.738Z"
   },
   {
    "duration": 357,
    "start_time": "2024-02-13T17:02:02.331Z"
   },
   {
    "duration": 11,
    "start_time": "2024-02-13T17:05:59.196Z"
   },
   {
    "duration": 30,
    "start_time": "2024-02-13T17:06:06.150Z"
   },
   {
    "duration": 252,
    "start_time": "2024-02-13T17:06:11.110Z"
   },
   {
    "duration": 238,
    "start_time": "2024-02-13T17:08:18.929Z"
   },
   {
    "duration": 1403,
    "start_time": "2024-02-13T17:09:36.807Z"
   },
   {
    "duration": 864,
    "start_time": "2024-02-13T17:09:38.212Z"
   },
   {
    "duration": 161,
    "start_time": "2024-02-13T17:09:39.077Z"
   },
   {
    "duration": 6,
    "start_time": "2024-02-13T17:09:39.240Z"
   },
   {
    "duration": 881,
    "start_time": "2024-02-13T17:09:39.248Z"
   },
   {
    "duration": 36,
    "start_time": "2024-02-13T17:09:40.132Z"
   },
   {
    "duration": 37,
    "start_time": "2024-02-13T17:09:40.169Z"
   },
   {
    "duration": 27,
    "start_time": "2024-02-13T17:09:40.207Z"
   },
   {
    "duration": 56,
    "start_time": "2024-02-13T17:09:40.235Z"
   },
   {
    "duration": 20,
    "start_time": "2024-02-13T17:09:40.293Z"
   },
   {
    "duration": 56,
    "start_time": "2024-02-13T17:09:40.314Z"
   },
   {
    "duration": 91,
    "start_time": "2024-02-13T17:09:40.372Z"
   },
   {
    "duration": 22,
    "start_time": "2024-02-13T17:09:40.464Z"
   },
   {
    "duration": 72,
    "start_time": "2024-02-13T17:09:40.488Z"
   },
   {
    "duration": 21,
    "start_time": "2024-02-13T17:09:40.561Z"
   },
   {
    "duration": 1872,
    "start_time": "2024-02-13T17:09:40.584Z"
   },
   {
    "duration": 87,
    "start_time": "2024-02-13T17:09:42.457Z"
   },
   {
    "duration": 1957,
    "start_time": "2024-02-13T17:09:42.545Z"
   },
   {
    "duration": 1705,
    "start_time": "2024-02-13T17:09:44.504Z"
   },
   {
    "duration": 85,
    "start_time": "2024-02-13T17:09:46.210Z"
   },
   {
    "duration": 1655,
    "start_time": "2024-02-13T17:09:46.297Z"
   },
   {
    "duration": 1683,
    "start_time": "2024-02-13T17:09:47.953Z"
   },
   {
    "duration": 61,
    "start_time": "2024-02-13T17:09:49.638Z"
   },
   {
    "duration": 1496,
    "start_time": "2024-02-13T17:09:49.700Z"
   },
   {
    "duration": 1662,
    "start_time": "2024-02-13T17:09:51.198Z"
   },
   {
    "duration": 1412,
    "start_time": "2024-02-13T17:09:52.862Z"
   },
   {
    "duration": 44,
    "start_time": "2024-02-13T17:09:54.276Z"
   },
   {
    "duration": 1386,
    "start_time": "2024-02-13T17:09:54.332Z"
   },
   {
    "duration": 136,
    "start_time": "2024-02-13T17:09:55.719Z"
   },
   {
    "duration": 136,
    "start_time": "2024-02-13T17:09:55.856Z"
   },
   {
    "duration": 77,
    "start_time": "2024-02-13T17:09:55.993Z"
   },
   {
    "duration": 18,
    "start_time": "2024-02-13T17:09:56.072Z"
   },
   {
    "duration": 196,
    "start_time": "2024-02-13T17:09:56.091Z"
   },
   {
    "duration": 0,
    "start_time": "2024-02-13T17:09:56.289Z"
   },
   {
    "duration": 0,
    "start_time": "2024-02-13T17:09:56.290Z"
   },
   {
    "duration": 63,
    "start_time": "2024-02-13T17:11:50.979Z"
   },
   {
    "duration": 22,
    "start_time": "2024-02-13T17:29:18.697Z"
   },
   {
    "duration": 63,
    "start_time": "2024-02-13T17:29:21.883Z"
   },
   {
    "duration": 15371,
    "start_time": "2024-02-13T17:29:31.406Z"
   },
   {
    "duration": 1366,
    "start_time": "2024-02-13T17:30:19.253Z"
   },
   {
    "duration": 826,
    "start_time": "2024-02-13T17:30:20.621Z"
   },
   {
    "duration": 155,
    "start_time": "2024-02-13T17:30:21.449Z"
   },
   {
    "duration": 6,
    "start_time": "2024-02-13T17:30:21.605Z"
   },
   {
    "duration": 826,
    "start_time": "2024-02-13T17:30:21.613Z"
   },
   {
    "duration": 33,
    "start_time": "2024-02-13T17:30:22.440Z"
   },
   {
    "duration": 24,
    "start_time": "2024-02-13T17:30:22.474Z"
   },
   {
    "duration": 39,
    "start_time": "2024-02-13T17:30:22.499Z"
   },
   {
    "duration": 37,
    "start_time": "2024-02-13T17:30:22.540Z"
   },
   {
    "duration": 20,
    "start_time": "2024-02-13T17:30:22.578Z"
   },
   {
    "duration": 156,
    "start_time": "2024-02-13T17:30:22.599Z"
   },
   {
    "duration": 21,
    "start_time": "2024-02-13T17:30:22.757Z"
   },
   {
    "duration": 78,
    "start_time": "2024-02-13T17:30:22.779Z"
   },
   {
    "duration": 35,
    "start_time": "2024-02-13T17:30:22.860Z"
   },
   {
    "duration": 53,
    "start_time": "2024-02-13T17:30:22.897Z"
   },
   {
    "duration": 20,
    "start_time": "2024-02-13T17:30:22.952Z"
   },
   {
    "duration": 166,
    "start_time": "2024-02-13T17:30:22.973Z"
   },
   {
    "duration": 1912,
    "start_time": "2024-02-13T17:30:23.140Z"
   },
   {
    "duration": 80,
    "start_time": "2024-02-13T17:30:25.053Z"
   },
   {
    "duration": 2502,
    "start_time": "2024-02-13T17:30:25.134Z"
   },
   {
    "duration": 1672,
    "start_time": "2024-02-13T17:30:27.638Z"
   },
   {
    "duration": 52,
    "start_time": "2024-02-13T17:30:29.312Z"
   },
   {
    "duration": 1668,
    "start_time": "2024-02-13T17:30:29.365Z"
   },
   {
    "duration": 1703,
    "start_time": "2024-02-13T17:30:31.034Z"
   },
   {
    "duration": 46,
    "start_time": "2024-02-13T17:30:32.739Z"
   },
   {
    "duration": 1589,
    "start_time": "2024-02-13T17:30:32.787Z"
   },
   {
    "duration": 1679,
    "start_time": "2024-02-13T17:30:34.377Z"
   },
   {
    "duration": 1382,
    "start_time": "2024-02-13T17:30:36.058Z"
   },
   {
    "duration": 40,
    "start_time": "2024-02-13T17:30:37.442Z"
   },
   {
    "duration": 1432,
    "start_time": "2024-02-13T17:30:37.483Z"
   },
   {
    "duration": 97,
    "start_time": "2024-02-13T17:30:38.917Z"
   },
   {
    "duration": 108,
    "start_time": "2024-02-13T17:30:39.016Z"
   },
   {
    "duration": 53,
    "start_time": "2024-02-13T17:30:39.125Z"
   },
   {
    "duration": 13,
    "start_time": "2024-02-13T17:30:39.179Z"
   },
   {
    "duration": 60,
    "start_time": "2024-02-13T17:30:39.194Z"
   },
   {
    "duration": 398,
    "start_time": "2024-02-13T17:30:39.256Z"
   },
   {
    "duration": 0,
    "start_time": "2024-02-13T17:30:39.656Z"
   },
   {
    "duration": 0,
    "start_time": "2024-02-13T17:30:39.658Z"
   },
   {
    "duration": 1370,
    "start_time": "2024-02-13T17:31:11.164Z"
   },
   {
    "duration": 894,
    "start_time": "2024-02-13T17:31:12.536Z"
   },
   {
    "duration": 162,
    "start_time": "2024-02-13T17:31:13.432Z"
   },
   {
    "duration": 7,
    "start_time": "2024-02-13T17:31:13.595Z"
   },
   {
    "duration": 880,
    "start_time": "2024-02-13T17:31:13.604Z"
   },
   {
    "duration": 35,
    "start_time": "2024-02-13T17:31:14.485Z"
   },
   {
    "duration": 26,
    "start_time": "2024-02-13T17:31:14.532Z"
   },
   {
    "duration": 23,
    "start_time": "2024-02-13T17:31:14.560Z"
   },
   {
    "duration": 60,
    "start_time": "2024-02-13T17:31:14.584Z"
   },
   {
    "duration": 21,
    "start_time": "2024-02-13T17:31:14.645Z"
   },
   {
    "duration": 21,
    "start_time": "2024-02-13T17:31:14.668Z"
   },
   {
    "duration": 100,
    "start_time": "2024-02-13T17:31:14.691Z"
   },
   {
    "duration": 24,
    "start_time": "2024-02-13T17:31:14.792Z"
   },
   {
    "duration": 58,
    "start_time": "2024-02-13T17:31:14.819Z"
   },
   {
    "duration": 23,
    "start_time": "2024-02-13T17:31:14.879Z"
   },
   {
    "duration": 1950,
    "start_time": "2024-02-13T17:31:14.904Z"
   },
   {
    "duration": 81,
    "start_time": "2024-02-13T17:31:16.855Z"
   },
   {
    "duration": 1837,
    "start_time": "2024-02-13T17:31:16.938Z"
   },
   {
    "duration": 1703,
    "start_time": "2024-02-13T17:31:18.777Z"
   },
   {
    "duration": 80,
    "start_time": "2024-02-13T17:31:20.482Z"
   },
   {
    "duration": 1678,
    "start_time": "2024-02-13T17:31:20.564Z"
   },
   {
    "duration": 1715,
    "start_time": "2024-02-13T17:31:22.244Z"
   },
   {
    "duration": 62,
    "start_time": "2024-02-13T17:31:23.960Z"
   },
   {
    "duration": 1555,
    "start_time": "2024-02-13T17:31:24.024Z"
   },
   {
    "duration": 1642,
    "start_time": "2024-02-13T17:31:25.581Z"
   },
   {
    "duration": 1440,
    "start_time": "2024-02-13T17:31:27.225Z"
   },
   {
    "duration": 40,
    "start_time": "2024-02-13T17:31:28.666Z"
   },
   {
    "duration": 1402,
    "start_time": "2024-02-13T17:31:28.708Z"
   },
   {
    "duration": 126,
    "start_time": "2024-02-13T17:31:30.111Z"
   },
   {
    "duration": 140,
    "start_time": "2024-02-13T17:31:30.239Z"
   },
   {
    "duration": 73,
    "start_time": "2024-02-13T17:31:30.381Z"
   },
   {
    "duration": 26,
    "start_time": "2024-02-13T17:31:30.456Z"
   },
   {
    "duration": 116,
    "start_time": "2024-02-13T17:31:30.484Z"
   },
   {
    "duration": 15549,
    "start_time": "2024-02-13T17:31:30.602Z"
   },
   {
    "duration": 102420,
    "start_time": "2024-02-13T17:31:46.153Z"
   },
   {
    "duration": 0,
    "start_time": "2024-02-13T17:33:28.574Z"
   },
   {
    "duration": 0,
    "start_time": "2024-02-13T17:33:28.575Z"
   },
   {
    "duration": 14946,
    "start_time": "2024-02-13T17:33:35.554Z"
   },
   {
    "duration": 15292,
    "start_time": "2024-02-13T17:35:35.608Z"
   },
   {
    "duration": 50,
    "start_time": "2024-02-13T17:37:15.846Z"
   },
   {
    "duration": 7722,
    "start_time": "2024-02-13T17:37:36.231Z"
   },
   {
    "duration": 1446387,
    "start_time": "2024-02-13T17:38:05.974Z"
   },
   {
    "duration": 47,
    "start_time": "2024-02-13T18:02:15.588Z"
   },
   {
    "duration": 51,
    "start_time": "2024-02-13T18:04:41.301Z"
   },
   {
    "duration": 49,
    "start_time": "2024-02-13T18:06:11.252Z"
   },
   {
    "duration": 525567,
    "start_time": "2024-02-13T18:07:15.395Z"
   },
   {
    "duration": 81272,
    "start_time": "2024-02-13T18:16:38.595Z"
   },
   {
    "duration": 1498,
    "start_time": "2024-02-13T18:42:59.367Z"
   },
   {
    "duration": 998,
    "start_time": "2024-02-13T18:43:00.866Z"
   },
   {
    "duration": 189,
    "start_time": "2024-02-13T18:43:01.865Z"
   },
   {
    "duration": 10,
    "start_time": "2024-02-13T18:43:02.056Z"
   },
   {
    "duration": 911,
    "start_time": "2024-02-13T18:43:02.068Z"
   },
   {
    "duration": 33,
    "start_time": "2024-02-13T18:43:02.980Z"
   },
   {
    "duration": 53,
    "start_time": "2024-02-13T18:43:03.014Z"
   },
   {
    "duration": 22,
    "start_time": "2024-02-13T18:43:03.068Z"
   },
   {
    "duration": 59,
    "start_time": "2024-02-13T18:43:03.091Z"
   },
   {
    "duration": 24,
    "start_time": "2024-02-13T18:43:03.153Z"
   },
   {
    "duration": 19,
    "start_time": "2024-02-13T18:43:03.179Z"
   },
   {
    "duration": 110,
    "start_time": "2024-02-13T18:43:03.200Z"
   },
   {
    "duration": 35,
    "start_time": "2024-02-13T18:43:03.311Z"
   },
   {
    "duration": 44,
    "start_time": "2024-02-13T18:43:03.359Z"
   },
   {
    "duration": 21,
    "start_time": "2024-02-13T18:43:03.404Z"
   },
   {
    "duration": 2209,
    "start_time": "2024-02-13T18:43:03.426Z"
   },
   {
    "duration": 82,
    "start_time": "2024-02-13T18:43:05.637Z"
   },
   {
    "duration": 2211,
    "start_time": "2024-02-13T18:43:05.726Z"
   },
   {
    "duration": 1948,
    "start_time": "2024-02-13T18:43:07.939Z"
   },
   {
    "duration": 91,
    "start_time": "2024-02-13T18:43:09.889Z"
   },
   {
    "duration": 1935,
    "start_time": "2024-02-13T18:43:09.982Z"
   },
   {
    "duration": 2030,
    "start_time": "2024-02-13T18:43:11.919Z"
   },
   {
    "duration": 67,
    "start_time": "2024-02-13T18:43:13.951Z"
   },
   {
    "duration": 2766,
    "start_time": "2024-02-13T18:43:14.019Z"
   },
   {
    "duration": 1785,
    "start_time": "2024-02-13T18:43:16.786Z"
   },
   {
    "duration": 1506,
    "start_time": "2024-02-13T18:43:18.572Z"
   },
   {
    "duration": 70,
    "start_time": "2024-02-13T18:43:20.080Z"
   },
   {
    "duration": 1556,
    "start_time": "2024-02-13T18:43:20.152Z"
   },
   {
    "duration": 171,
    "start_time": "2024-02-13T18:43:21.710Z"
   },
   {
    "duration": 171,
    "start_time": "2024-02-13T18:43:21.883Z"
   },
   {
    "duration": 68,
    "start_time": "2024-02-13T18:43:22.062Z"
   },
   {
    "duration": 32,
    "start_time": "2024-02-13T18:43:22.131Z"
   },
   {
    "duration": 71,
    "start_time": "2024-02-13T18:43:22.165Z"
   },
   {
    "duration": 19359,
    "start_time": "2024-02-13T18:43:22.238Z"
   },
   {
    "duration": 8184,
    "start_time": "2024-02-13T18:43:41.599Z"
   },
   {
    "duration": 1605,
    "start_time": "2024-02-14T11:42:03.424Z"
   },
   {
    "duration": 1214,
    "start_time": "2024-02-14T11:42:05.031Z"
   },
   {
    "duration": 172,
    "start_time": "2024-02-14T11:42:06.246Z"
   },
   {
    "duration": 8,
    "start_time": "2024-02-14T11:42:06.419Z"
   },
   {
    "duration": 903,
    "start_time": "2024-02-14T11:42:06.429Z"
   },
   {
    "duration": 36,
    "start_time": "2024-02-14T11:42:07.334Z"
   },
   {
    "duration": 36,
    "start_time": "2024-02-14T11:42:07.372Z"
   },
   {
    "duration": 26,
    "start_time": "2024-02-14T11:42:07.410Z"
   },
   {
    "duration": 67,
    "start_time": "2024-02-14T11:42:07.438Z"
   },
   {
    "duration": 23,
    "start_time": "2024-02-14T11:42:07.507Z"
   },
   {
    "duration": 24,
    "start_time": "2024-02-14T11:42:07.532Z"
   },
   {
    "duration": 101,
    "start_time": "2024-02-14T11:42:07.557Z"
   },
   {
    "duration": 29,
    "start_time": "2024-02-14T11:42:07.660Z"
   },
   {
    "duration": 49,
    "start_time": "2024-02-14T11:42:07.692Z"
   },
   {
    "duration": 22,
    "start_time": "2024-02-14T11:42:07.743Z"
   },
   {
    "duration": 2125,
    "start_time": "2024-02-14T11:42:07.766Z"
   },
   {
    "duration": 101,
    "start_time": "2024-02-14T11:42:09.893Z"
   },
   {
    "duration": 2107,
    "start_time": "2024-02-14T11:42:09.996Z"
   },
   {
    "duration": 2033,
    "start_time": "2024-02-14T11:42:12.105Z"
   },
   {
    "duration": 89,
    "start_time": "2024-02-14T11:42:14.140Z"
   },
   {
    "duration": 1991,
    "start_time": "2024-02-14T11:42:14.231Z"
   },
   {
    "duration": 1951,
    "start_time": "2024-02-14T11:42:16.224Z"
   },
   {
    "duration": 73,
    "start_time": "2024-02-14T11:42:18.178Z"
   },
   {
    "duration": 1747,
    "start_time": "2024-02-14T11:42:18.253Z"
   },
   {
    "duration": 1889,
    "start_time": "2024-02-14T11:42:20.002Z"
   },
   {
    "duration": 1555,
    "start_time": "2024-02-14T11:42:21.893Z"
   },
   {
    "duration": 69,
    "start_time": "2024-02-14T11:42:23.449Z"
   },
   {
    "duration": 1563,
    "start_time": "2024-02-14T11:42:23.520Z"
   },
   {
    "duration": 156,
    "start_time": "2024-02-14T11:42:25.085Z"
   },
   {
    "duration": 162,
    "start_time": "2024-02-14T11:42:25.242Z"
   },
   {
    "duration": 66,
    "start_time": "2024-02-14T11:42:25.405Z"
   },
   {
    "duration": 30,
    "start_time": "2024-02-14T11:42:25.472Z"
   },
   {
    "duration": 97,
    "start_time": "2024-02-14T11:42:25.503Z"
   },
   {
    "duration": 16856,
    "start_time": "2024-02-14T11:42:25.602Z"
   },
   {
    "duration": 8023,
    "start_time": "2024-02-14T11:42:42.460Z"
   },
   {
    "duration": 130107,
    "start_time": "2024-02-14T11:42:50.486Z"
   },
   {
    "duration": 12263,
    "start_time": "2024-02-14T11:45:00.594Z"
   },
   {
    "duration": 0,
    "start_time": "2024-02-14T11:45:12.859Z"
   },
   {
    "duration": 1552,
    "start_time": "2024-02-23T12:47:42.053Z"
   },
   {
    "duration": 2700,
    "start_time": "2024-02-23T12:47:43.607Z"
   },
   {
    "duration": 154,
    "start_time": "2024-02-23T12:47:46.308Z"
   },
   {
    "duration": 6,
    "start_time": "2024-02-23T12:47:46.464Z"
   },
   {
    "duration": 825,
    "start_time": "2024-02-23T12:47:46.472Z"
   },
   {
    "duration": 33,
    "start_time": "2024-02-23T12:47:47.298Z"
   },
   {
    "duration": 55,
    "start_time": "2024-02-23T12:47:47.332Z"
   },
   {
    "duration": 53,
    "start_time": "2024-02-23T12:47:47.388Z"
   },
   {
    "duration": 61,
    "start_time": "2024-02-23T12:47:47.443Z"
   },
   {
    "duration": 31,
    "start_time": "2024-02-23T12:47:47.506Z"
   },
   {
    "duration": 48,
    "start_time": "2024-02-23T12:47:47.538Z"
   },
   {
    "duration": 107,
    "start_time": "2024-02-23T12:47:47.587Z"
   },
   {
    "duration": 21,
    "start_time": "2024-02-23T12:47:47.695Z"
   },
   {
    "duration": 114,
    "start_time": "2024-02-23T12:47:47.719Z"
   },
   {
    "duration": 84,
    "start_time": "2024-02-23T12:47:47.835Z"
   },
   {
    "duration": 2557,
    "start_time": "2024-02-23T12:47:47.921Z"
   },
   {
    "duration": 78,
    "start_time": "2024-02-23T12:47:50.480Z"
   },
   {
    "duration": 1920,
    "start_time": "2024-02-23T12:47:50.560Z"
   },
   {
    "duration": 1691,
    "start_time": "2024-02-23T12:47:52.481Z"
   },
   {
    "duration": 78,
    "start_time": "2024-02-23T12:47:54.174Z"
   },
   {
    "duration": 1687,
    "start_time": "2024-02-23T12:47:54.254Z"
   },
   {
    "duration": 1706,
    "start_time": "2024-02-23T12:47:55.943Z"
   },
   {
    "duration": 64,
    "start_time": "2024-02-23T12:47:57.651Z"
   },
   {
    "duration": 1583,
    "start_time": "2024-02-23T12:47:57.716Z"
   },
   {
    "duration": 1616,
    "start_time": "2024-02-23T12:47:59.300Z"
   },
   {
    "duration": 1418,
    "start_time": "2024-02-23T12:48:00.917Z"
   },
   {
    "duration": 41,
    "start_time": "2024-02-23T12:48:02.336Z"
   },
   {
    "duration": 1440,
    "start_time": "2024-02-23T12:48:02.379Z"
   },
   {
    "duration": 132,
    "start_time": "2024-02-23T12:48:03.821Z"
   },
   {
    "duration": 139,
    "start_time": "2024-02-23T12:48:03.955Z"
   },
   {
    "duration": 58,
    "start_time": "2024-02-23T12:48:04.096Z"
   },
   {
    "duration": 17,
    "start_time": "2024-02-23T12:48:04.156Z"
   },
   {
    "duration": 78,
    "start_time": "2024-02-23T12:48:04.174Z"
   },
   {
    "duration": 15100,
    "start_time": "2024-02-23T12:48:04.253Z"
   },
   {
    "duration": 7354,
    "start_time": "2024-02-23T12:48:19.354Z"
   },
   {
    "duration": 125791,
    "start_time": "2024-02-23T12:48:26.710Z"
   },
   {
    "duration": 70061,
    "start_time": "2024-02-23T12:50:32.503Z"
   },
   {
    "duration": 0,
    "start_time": "2024-02-23T12:51:42.566Z"
   },
   {
    "duration": 122460,
    "start_time": "2024-02-23T12:53:06.143Z"
   },
   {
    "duration": 1364,
    "start_time": "2024-02-23T12:56:54.195Z"
   },
   {
    "duration": 858,
    "start_time": "2024-02-23T12:56:55.561Z"
   },
   {
    "duration": 160,
    "start_time": "2024-02-23T12:56:56.421Z"
   },
   {
    "duration": 11,
    "start_time": "2024-02-23T12:56:56.584Z"
   },
   {
    "duration": 836,
    "start_time": "2024-02-23T12:56:56.597Z"
   },
   {
    "duration": 35,
    "start_time": "2024-02-23T12:56:57.434Z"
   },
   {
    "duration": 41,
    "start_time": "2024-02-23T12:56:57.471Z"
   },
   {
    "duration": 44,
    "start_time": "2024-02-23T12:56:57.514Z"
   },
   {
    "duration": 44,
    "start_time": "2024-02-23T12:56:57.559Z"
   },
   {
    "duration": 21,
    "start_time": "2024-02-23T12:56:57.605Z"
   },
   {
    "duration": 35,
    "start_time": "2024-02-23T12:56:57.627Z"
   },
   {
    "duration": 91,
    "start_time": "2024-02-23T12:56:57.663Z"
   },
   {
    "duration": 20,
    "start_time": "2024-02-23T12:56:57.755Z"
   },
   {
    "duration": 61,
    "start_time": "2024-02-23T12:56:57.777Z"
   },
   {
    "duration": 42,
    "start_time": "2024-02-23T12:56:57.839Z"
   },
   {
    "duration": 1954,
    "start_time": "2024-02-23T12:56:57.882Z"
   },
   {
    "duration": 166,
    "start_time": "2024-02-23T12:56:59.838Z"
   },
   {
    "duration": 2558,
    "start_time": "2024-02-23T12:57:00.006Z"
   },
   {
    "duration": 1738,
    "start_time": "2024-02-23T12:57:02.565Z"
   },
   {
    "duration": 76,
    "start_time": "2024-02-23T12:57:04.305Z"
   },
   {
    "duration": 1713,
    "start_time": "2024-02-23T12:57:04.383Z"
   },
   {
    "duration": 1736,
    "start_time": "2024-02-23T12:57:06.098Z"
   },
   {
    "duration": 64,
    "start_time": "2024-02-23T12:57:07.835Z"
   },
   {
    "duration": 1615,
    "start_time": "2024-02-23T12:57:07.901Z"
   },
   {
    "duration": 1690,
    "start_time": "2024-02-23T12:57:09.518Z"
   },
   {
    "duration": 1412,
    "start_time": "2024-02-23T12:57:11.209Z"
   },
   {
    "duration": 41,
    "start_time": "2024-02-23T12:57:12.623Z"
   },
   {
    "duration": 1432,
    "start_time": "2024-02-23T12:57:12.667Z"
   },
   {
    "duration": 124,
    "start_time": "2024-02-23T12:57:14.101Z"
   },
   {
    "duration": 173,
    "start_time": "2024-02-23T12:57:14.227Z"
   },
   {
    "duration": 60,
    "start_time": "2024-02-23T12:57:14.402Z"
   },
   {
    "duration": 17,
    "start_time": "2024-02-23T12:57:14.463Z"
   },
   {
    "duration": 75,
    "start_time": "2024-02-23T12:57:14.481Z"
   },
   {
    "duration": 15636,
    "start_time": "2024-02-23T12:57:14.557Z"
   },
   {
    "duration": 7457,
    "start_time": "2024-02-23T12:57:30.195Z"
   },
   {
    "duration": 141709,
    "start_time": "2024-02-23T12:57:37.694Z"
   },
   {
    "duration": 7206,
    "start_time": "2024-02-23T13:03:41.790Z"
   }
  ],
  "kernelspec": {
   "display_name": "Python 3 (ipykernel)",
   "language": "python",
   "name": "python3"
  },
  "language_info": {
   "codemirror_mode": {
    "name": "ipython",
    "version": 3
   },
   "file_extension": ".py",
   "mimetype": "text/x-python",
   "name": "python",
   "nbconvert_exporter": "python",
   "pygments_lexer": "ipython3",
   "version": "3.9.5"
  },
  "toc": {
   "base_numbering": 1,
   "nav_menu": {},
   "number_sections": true,
   "sideBar": true,
   "skip_h1_title": true,
   "title_cell": "Table of Contents",
   "title_sidebar": "Contents",
   "toc_cell": false,
   "toc_position": {},
   "toc_section_display": true,
   "toc_window_display": true
  }
 },
 "nbformat": 4,
 "nbformat_minor": 2
}
